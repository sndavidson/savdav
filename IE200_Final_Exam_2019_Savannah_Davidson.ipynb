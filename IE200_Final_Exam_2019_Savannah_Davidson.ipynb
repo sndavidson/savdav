{
  "nbformat": 4,
  "nbformat_minor": 0,
  "metadata": {
    "kernelspec": {
      "display_name": "Python 3",
      "language": "python",
      "name": "python3"
    },
    "language_info": {
      "codemirror_mode": {
        "name": "ipython",
        "version": 3
      },
      "file_extension": ".py",
      "mimetype": "text/x-python",
      "name": "python",
      "nbconvert_exporter": "python",
      "pygments_lexer": "ipython3",
      "version": "3.6.8"
    },
    "colab": {
      "name": "IE200-Final-Exam-2019-Savannah-Davidson.ipynb ",
      "provenance": [],
      "include_colab_link": true
    }
  },
  "cells": [
    {
      "cell_type": "markdown",
      "metadata": {
        "id": "view-in-github",
        "colab_type": "text"
      },
      "source": [
        "<a href=\"https://colab.research.google.com/github/sndavidson/savdav/blob/master/IE200_Final_Exam_2019_Savannah_Davidson.ipynb\" target=\"_parent\"><img src=\"https://colab.research.google.com/assets/colab-badge.svg\" alt=\"Open In Colab\"/></a>"
      ]
    },
    {
      "cell_type": "markdown",
      "metadata": {
        "id": "jnSy7MS_EwlV",
        "colab_type": "text"
      },
      "source": [
        "# 1. Compare groups\n"
      ]
    },
    {
      "cell_type": "markdown",
      "metadata": {
        "id": "KyYXpGDsEwla",
        "colab_type": "text"
      },
      "source": [
        "The dataset \"stereo-fusion.csv\" contains results from an experiment in visual perception using random dot sterograms, such as that shown below. Both images appear to be composed entirely of random dots. However, they are constructed so that a 3D image (of a diamond) will be seen, if the images are viewed with a stereo viewer, causing the separate images to fuse. Another way to fuse the images is to fixate on a point between them and defocus they eyes, but this technique takes some effort and practice.\n"
      ]
    },
    {
      "cell_type": "markdown",
      "metadata": {
        "id": "PI1uAbwDEwlc",
        "colab_type": "text"
      },
      "source": [
        "An experiment was performed to determine whether knowledge of the form of the embedded image affected the time required for subjects to fuse the images. One group of subjects (group NV) received either no information or just verbal information about the shape of the embedded object. A second group (group VV) received both verbal information and visual information (e.g., a drawing of the object).\n",
        "\n",
        "<img src=\"https://github.com/utk-ie200/repo-Davidson-Savannah/blob/master/exam03/files/fusion0.gif?raw=1\">"
      ]
    },
    {
      "cell_type": "markdown",
      "metadata": {
        "id": "I_8DMNnoEwle",
        "colab_type": "text"
      },
      "source": [
        "## Objective: \n",
        "    1. Explore the normality of the data using Shapiro test and probability plots.\n",
        "    2. Check the significance of differences between the groups using an appropriate statisitcal test, and report your findings."
      ]
    },
    {
      "cell_type": "code",
      "metadata": {
        "id": "RY8G8HHWEwlf",
        "colab_type": "code",
        "outputId": "ad38da22-cbc4-491b-9098-db024a64b46d",
        "colab": {
          "base_uri": "https://localhost:8080/",
          "height": 202
        }
      },
      "source": [
        "import pandas as pd \n",
        "df = pd.read_csv(\"fusion.txt\", sep = \"\\s+\")\n",
        "df.head()"
      ],
      "execution_count": 0,
      "outputs": [
        {
          "output_type": "execute_result",
          "data": {
            "text/html": [
              "<div>\n",
              "<style scoped>\n",
              "    .dataframe tbody tr th:only-of-type {\n",
              "        vertical-align: middle;\n",
              "    }\n",
              "\n",
              "    .dataframe tbody tr th {\n",
              "        vertical-align: top;\n",
              "    }\n",
              "\n",
              "    .dataframe thead th {\n",
              "        text-align: right;\n",
              "    }\n",
              "</style>\n",
              "<table border=\"1\" class=\"dataframe\">\n",
              "  <thead>\n",
              "    <tr style=\"text-align: right;\">\n",
              "      <th></th>\n",
              "      <th>time</th>\n",
              "      <th>group</th>\n",
              "    </tr>\n",
              "  </thead>\n",
              "  <tbody>\n",
              "    <tr>\n",
              "      <th>0</th>\n",
              "      <td>47.20001</td>\n",
              "      <td>NV</td>\n",
              "    </tr>\n",
              "    <tr>\n",
              "      <th>1</th>\n",
              "      <td>21.99998</td>\n",
              "      <td>NV</td>\n",
              "    </tr>\n",
              "    <tr>\n",
              "      <th>2</th>\n",
              "      <td>20.39999</td>\n",
              "      <td>NV</td>\n",
              "    </tr>\n",
              "    <tr>\n",
              "      <th>3</th>\n",
              "      <td>19.70001</td>\n",
              "      <td>NV</td>\n",
              "    </tr>\n",
              "    <tr>\n",
              "      <th>4</th>\n",
              "      <td>17.40000</td>\n",
              "      <td>NV</td>\n",
              "    </tr>\n",
              "  </tbody>\n",
              "</table>\n",
              "</div>"
            ],
            "text/plain": [
              "       time group\n",
              "0  47.20001    NV\n",
              "1  21.99998    NV\n",
              "2  20.39999    NV\n",
              "3  19.70001    NV\n",
              "4  17.40000    NV"
            ]
          },
          "metadata": {
            "tags": []
          },
          "execution_count": 83
        }
      ]
    },
    {
      "cell_type": "code",
      "metadata": {
        "id": "FT8bgPpT3ZNL",
        "colab_type": "code",
        "outputId": "b151591c-c316-46b0-d85c-9460e5a92795",
        "colab": {
          "base_uri": "https://localhost:8080/",
          "height": 35
        }
      },
      "source": [
        "from scipy.stats import norm\n",
        "from scipy.stats import probplot\n",
        "from matplotlib import pyplot as plt\n",
        "from scipy.stats import shapiro\n",
        "%matplotlib inline\n",
        "\n",
        "#Variables\n",
        "average = df.time.mean()\n",
        "stan_dev = df.time.std(ddof = 1)\n",
        "variance = stan_dev*2\n",
        "\n",
        "#df.shape, don't necessarily need this line\n",
        "\n",
        "#Normal Distribution\n",
        "x = norm(loc = average, scale = variance/78)\n",
        "smpl = x.rvs(20) #creates sample\n",
        "shapiro(smpl)"
      ],
      "execution_count": 0,
      "outputs": [
        {
          "output_type": "execute_result",
          "data": {
            "text/plain": [
              "(0.9776298403739929, 0.8999636173248291)"
            ]
          },
          "metadata": {
            "tags": []
          },
          "execution_count": 88
        }
      ]
    },
    {
      "cell_type": "markdown",
      "metadata": {
        "id": "8vO70kfpaOco",
        "colab_type": "text"
      },
      "source": [
        "P Value Changes each time line is run. P Value consistently stays above .05, meaning the data is normal."
      ]
    },
    {
      "cell_type": "code",
      "metadata": {
        "id": "ayetkeSoV99I",
        "colab_type": "code",
        "outputId": "a7056d8d-3ea9-4df5-861d-c569ffa3194c",
        "colab": {
          "base_uri": "https://localhost:8080/",
          "height": 295
        }
      },
      "source": [
        "_ = probplot(smpl,plot = plt,dist=norm) #creates probability plot"
      ],
      "execution_count": 0,
      "outputs": [
        {
          "output_type": "display_data",
          "data": {
            "image/png": "[encoded data removed]",
            "text/plain": [
              "<Figure size 432x288 with 1 Axes>"
            ]
          },
          "metadata": {
            "tags": []
          }
        }
      ]
    },
    {
      "cell_type": "code",
      "metadata": {
        "id": "bHhV0Ru-kOkS",
        "colab_type": "code",
        "outputId": "37d0ee26-b309-4674-dc99-9623426eabec",
        "colab": {
          "base_uri": "https://localhost:8080/",
          "height": 35
        }
      },
      "source": [
        "import numpy as np"
      ],
      "execution_count": 0,
      "outputs": [
        {
          "output_type": "execute_result",
          "data": {
            "text/plain": [
              "<bound method GroupBy.head of <pandas.core.groupby.generic.DataFrameGroupBy object at 0x7f449a834ba8>>"
            ]
          },
          "metadata": {
            "tags": []
          },
          "execution_count": 104
        }
      ]
    },
    {
      "cell_type": "code",
      "metadata": {
        "id": "_d0wNLhpmc0G",
        "colab_type": "code",
        "outputId": "ce8971b4-dc45-4b39-c0d3-1aa81cf60d97",
        "colab": {
          "base_uri": "https://localhost:8080/",
          "height": 283
        }
      },
      "source": [
        "df.time.hist(density=True,bins=3,rwidth=.1)"
      ],
      "execution_count": 0,
      "outputs": [
        {
          "output_type": "execute_result",
          "data": {
            "text/plain": [
              "<matplotlib.axes._subplots.AxesSubplot at 0x7f449b1d71d0>"
            ]
          },
          "metadata": {
            "tags": []
          },
          "execution_count": 110
        },
        {
          "output_type": "display_data",
          "data": {
            "image/png": "[encoded data removed]",
            "text/plain": [
              "<Figure size 432x288 with 1 Axes>"
            ]
          },
          "metadata": {
            "tags": []
          }
        }
      ]
    },
    {
      "cell_type": "code",
      "metadata": {
        "id": "0HKvyT5DocI_",
        "colab_type": "code",
        "outputId": "21b706a8-5e7e-410f-c50b-72a36e384d12",
        "colab": {
          "base_uri": "https://localhost:8080/",
          "height": 110
        }
      },
      "source": [
        "total = df.groupby( ['group'], as_index = False).time.mean() \n",
        "total.head()"
      ],
      "execution_count": 0,
      "outputs": [
        {
          "output_type": "execute_result",
          "data": {
            "text/html": [
              "<div>\n",
              "<style scoped>\n",
              "    .dataframe tbody tr th:only-of-type {\n",
              "        vertical-align: middle;\n",
              "    }\n",
              "\n",
              "    .dataframe tbody tr th {\n",
              "        vertical-align: top;\n",
              "    }\n",
              "\n",
              "    .dataframe thead th {\n",
              "        text-align: right;\n",
              "    }\n",
              "</style>\n",
              "<table border=\"1\" class=\"dataframe\">\n",
              "  <thead>\n",
              "    <tr style=\"text-align: right;\">\n",
              "      <th></th>\n",
              "      <th>group</th>\n",
              "      <th>time</th>\n",
              "    </tr>\n",
              "  </thead>\n",
              "  <tbody>\n",
              "    <tr>\n",
              "      <th>0</th>\n",
              "      <td>NV</td>\n",
              "      <td>8.560465</td>\n",
              "    </tr>\n",
              "    <tr>\n",
              "      <th>1</th>\n",
              "      <td>VV</td>\n",
              "      <td>5.551429</td>\n",
              "    </tr>\n",
              "  </tbody>\n",
              "</table>\n",
              "</div>"
            ],
            "text/plain": [
              "  group      time\n",
              "0    NV  8.560465\n",
              "1    VV  5.551429"
            ]
          },
          "metadata": {
            "tags": []
          },
          "execution_count": 112
        }
      ]
    },
    {
      "cell_type": "code",
      "metadata": {
        "id": "clL53rjMlH-a",
        "colab_type": "code",
        "outputId": "7ee23e09-484a-4387-df9f-af7ee365162c",
        "colab": {
          "base_uri": "https://localhost:8080/",
          "height": 35
        }
      },
      "source": [
        "x = total[ total.group=='NV'].time\n",
        "x= np.array( x )\n",
        "\n",
        "y = total[ total.group=='VV'].time\n",
        "y = np.array(y)\n",
        "\n",
        "observed_difference = np.mean(x)-np.mean(y)\n",
        "print(\"Observed Difference = \", observed_difference)"
      ],
      "execution_count": 0,
      "outputs": [
        {
          "output_type": "stream",
          "text": [
            "Observed Difference =  3.0090357940199315\n"
          ],
          "name": "stdout"
        }
      ]
    },
    {
      "cell_type": "markdown",
      "metadata": {
        "id": "pPL01AHkrEbQ",
        "colab_type": "text"
      },
      "source": [
        "\n",
        "> The observed difference is not super significant. Group NV's average time was only 3 seconds slower than group VV's time. All things considered, the lack of information group NV had makes this slight difference valid, because group VV knows what they are supposed to be seeing, while NV has to figure it out. A stereo viewer would display the same image no matter who is viewing it, so the slight difference in time is based upon the users ability to interpret the image quickly. A 3 second difference between the average time for the 2 groups is not a significant enough difference. It makes sense that group VV had faster times because they knew what they were identifying.\n",
        "\n"
      ]
    },
    {
      "cell_type": "markdown",
      "metadata": {
        "id": "e-pQEc5zEwlm",
        "colab_type": "text"
      },
      "source": [
        "# 2. Compare groups\n"
      ]
    },
    {
      "cell_type": "markdown",
      "metadata": {
        "id": "-k717UVoEwln",
        "colab_type": "text"
      },
      "source": [
        "The data contains the outcomes for two items in the Montana Economic Outlook Poll conducted in May 1992, with accompanying demographics for 209 out of 418 poll respondents. The items are whether the respondent feels his/her financial status is worse, the same, or better than a year ago, and whether the respondent views the state economic outlook as better over the next year. Respondents are classified by age, income , political orientation, and area of residence in the state. \n",
        "\n",
        "## Objective: \n",
        "Formulate a resonable research question and use an appropriate statistical test for the difference between proportions for the two samples."
      ]
    },
    {
      "cell_type": "markdown",
      "metadata": {
        "id": "FPyPg38vEwlp",
        "colab_type": "text"
      },
      "source": [
        "Variable Names:\n",
        "\n",
        "- AGE = 1 under 35, 2 35-54, 3 55 and over\n",
        "- SEX = 0 male, 1 female\n",
        "- INC = yearly income: 1 under $20K, 2 20-35$K, 3 over $35K\n",
        "- POL = 1 Democrat, 2 Independent, 3 Republican\n",
        "- AREA = 1 Western, 2 Northeastern, 3 Southeastern Montana\n",
        "- FIN = Financial status 1 worse, 2 same, 3 better than a year ago\n",
        "- STAT = State economic outlook 0 better, 1 not better than a year ago\n"
      ]
    },
    {
      "cell_type": "markdown",
      "metadata": {
        "id": "kY5cVUAx9Exl",
        "colab_type": "text"
      },
      "source": [
        "# **My Research Question:** *Does someone's personal financial status significantly affect the way he/she views the state's future economy?*"
      ]
    },
    {
      "cell_type": "code",
      "metadata": {
        "id": "QI-OmsLGMok_",
        "colab_type": "code",
        "outputId": "8941a238-b858-4215-f11d-334de267b63a",
        "colab": {
          "base_uri": "https://localhost:8080/",
          "height": 1000
        }
      },
      "source": [
        "total = df.groupby( ['FIN','STAT'], as_index = False)\n",
        "total.head()"
      ],
      "execution_count": 0,
      "outputs": [
        {
          "output_type": "execute_result",
          "data": {
            "text/html": [
              "<div>\n",
              "<style scoped>\n",
              "    .dataframe tbody tr th:only-of-type {\n",
              "        vertical-align: middle;\n",
              "    }\n",
              "\n",
              "    .dataframe tbody tr th {\n",
              "        vertical-align: top;\n",
              "    }\n",
              "\n",
              "    .dataframe thead th {\n",
              "        text-align: right;\n",
              "    }\n",
              "</style>\n",
              "<table border=\"1\" class=\"dataframe\">\n",
              "  <thead>\n",
              "    <tr style=\"text-align: right;\">\n",
              "      <th></th>\n",
              "      <th>AGE</th>\n",
              "      <th>SEX</th>\n",
              "      <th>INC</th>\n",
              "      <th>POL</th>\n",
              "      <th>AREA</th>\n",
              "      <th>FIN</th>\n",
              "      <th>STAT</th>\n",
              "    </tr>\n",
              "  </thead>\n",
              "  <tbody>\n",
              "    <tr>\n",
              "      <th>0</th>\n",
              "      <td>3</td>\n",
              "      <td>0</td>\n",
              "      <td>2</td>\n",
              "      <td>2</td>\n",
              "      <td>1</td>\n",
              "      <td>2</td>\n",
              "      <td>1</td>\n",
              "    </tr>\n",
              "    <tr>\n",
              "      <th>1</th>\n",
              "      <td>2</td>\n",
              "      <td>0</td>\n",
              "      <td>3</td>\n",
              "      <td>3</td>\n",
              "      <td>1</td>\n",
              "      <td>3</td>\n",
              "      <td>1</td>\n",
              "    </tr>\n",
              "    <tr>\n",
              "      <th>2</th>\n",
              "      <td>1</td>\n",
              "      <td>0</td>\n",
              "      <td>2</td>\n",
              "      <td>*</td>\n",
              "      <td>1</td>\n",
              "      <td>2</td>\n",
              "      <td>1</td>\n",
              "    </tr>\n",
              "    <tr>\n",
              "      <th>3</th>\n",
              "      <td>3</td>\n",
              "      <td>1</td>\n",
              "      <td>2</td>\n",
              "      <td>1</td>\n",
              "      <td>1</td>\n",
              "      <td>1</td>\n",
              "      <td>0</td>\n",
              "    </tr>\n",
              "    <tr>\n",
              "      <th>4</th>\n",
              "      <td>3</td>\n",
              "      <td>1</td>\n",
              "      <td>3</td>\n",
              "      <td>3</td>\n",
              "      <td>3</td>\n",
              "      <td>2</td>\n",
              "      <td>*</td>\n",
              "    </tr>\n",
              "    <tr>\n",
              "      <th>5</th>\n",
              "      <td>1</td>\n",
              "      <td>0</td>\n",
              "      <td>2</td>\n",
              "      <td>1</td>\n",
              "      <td>3</td>\n",
              "      <td>3</td>\n",
              "      <td>*</td>\n",
              "    </tr>\n",
              "    <tr>\n",
              "      <th>6</th>\n",
              "      <td>3</td>\n",
              "      <td>1</td>\n",
              "      <td>1</td>\n",
              "      <td>3</td>\n",
              "      <td>3</td>\n",
              "      <td>1</td>\n",
              "      <td>1</td>\n",
              "    </tr>\n",
              "    <tr>\n",
              "      <th>7</th>\n",
              "      <td>1</td>\n",
              "      <td>0</td>\n",
              "      <td>1</td>\n",
              "      <td>3</td>\n",
              "      <td>2</td>\n",
              "      <td>1</td>\n",
              "      <td>0</td>\n",
              "    </tr>\n",
              "    <tr>\n",
              "      <th>8</th>\n",
              "      <td>3</td>\n",
              "      <td>1</td>\n",
              "      <td>*</td>\n",
              "      <td>3</td>\n",
              "      <td>3</td>\n",
              "      <td>2</td>\n",
              "      <td>0</td>\n",
              "    </tr>\n",
              "    <tr>\n",
              "      <th>9</th>\n",
              "      <td>1</td>\n",
              "      <td>0</td>\n",
              "      <td>*</td>\n",
              "      <td>1</td>\n",
              "      <td>1</td>\n",
              "      <td>2</td>\n",
              "      <td>1</td>\n",
              "    </tr>\n",
              "    <tr>\n",
              "      <th>10</th>\n",
              "      <td>2</td>\n",
              "      <td>1</td>\n",
              "      <td>2</td>\n",
              "      <td>3</td>\n",
              "      <td>1</td>\n",
              "      <td>2</td>\n",
              "      <td>*</td>\n",
              "    </tr>\n",
              "    <tr>\n",
              "      <th>11</th>\n",
              "      <td>3</td>\n",
              "      <td>1</td>\n",
              "      <td>1</td>\n",
              "      <td>3</td>\n",
              "      <td>2</td>\n",
              "      <td>2</td>\n",
              "      <td>0</td>\n",
              "    </tr>\n",
              "    <tr>\n",
              "      <th>12</th>\n",
              "      <td>2</td>\n",
              "      <td>0</td>\n",
              "      <td>2</td>\n",
              "      <td>1</td>\n",
              "      <td>3</td>\n",
              "      <td>3</td>\n",
              "      <td>0</td>\n",
              "    </tr>\n",
              "    <tr>\n",
              "      <th>13</th>\n",
              "      <td>3</td>\n",
              "      <td>0</td>\n",
              "      <td>*</td>\n",
              "      <td>3</td>\n",
              "      <td>2</td>\n",
              "      <td>2</td>\n",
              "      <td>0</td>\n",
              "    </tr>\n",
              "    <tr>\n",
              "      <th>14</th>\n",
              "      <td>3</td>\n",
              "      <td>0</td>\n",
              "      <td>3</td>\n",
              "      <td>3</td>\n",
              "      <td>3</td>\n",
              "      <td>3</td>\n",
              "      <td>1</td>\n",
              "    </tr>\n",
              "    <tr>\n",
              "      <th>15</th>\n",
              "      <td>3</td>\n",
              "      <td>0</td>\n",
              "      <td>3</td>\n",
              "      <td>1</td>\n",
              "      <td>3</td>\n",
              "      <td>1</td>\n",
              "      <td>1</td>\n",
              "    </tr>\n",
              "    <tr>\n",
              "      <th>16</th>\n",
              "      <td>1</td>\n",
              "      <td>1</td>\n",
              "      <td>2</td>\n",
              "      <td>1</td>\n",
              "      <td>3</td>\n",
              "      <td>3</td>\n",
              "      <td>*</td>\n",
              "    </tr>\n",
              "    <tr>\n",
              "      <th>17</th>\n",
              "      <td>3</td>\n",
              "      <td>1</td>\n",
              "      <td>2</td>\n",
              "      <td>1</td>\n",
              "      <td>3</td>\n",
              "      <td>2</td>\n",
              "      <td>1</td>\n",
              "    </tr>\n",
              "    <tr>\n",
              "      <th>18</th>\n",
              "      <td>3</td>\n",
              "      <td>1</td>\n",
              "      <td>2</td>\n",
              "      <td>3</td>\n",
              "      <td>3</td>\n",
              "      <td>1</td>\n",
              "      <td>0</td>\n",
              "    </tr>\n",
              "    <tr>\n",
              "      <th>19</th>\n",
              "      <td>2</td>\n",
              "      <td>0</td>\n",
              "      <td>3</td>\n",
              "      <td>3</td>\n",
              "      <td>3</td>\n",
              "      <td>3</td>\n",
              "      <td>1</td>\n",
              "    </tr>\n",
              "    <tr>\n",
              "      <th>20</th>\n",
              "      <td>1</td>\n",
              "      <td>1</td>\n",
              "      <td>3</td>\n",
              "      <td>1</td>\n",
              "      <td>1</td>\n",
              "      <td>3</td>\n",
              "      <td>0</td>\n",
              "    </tr>\n",
              "    <tr>\n",
              "      <th>21</th>\n",
              "      <td>3</td>\n",
              "      <td>0</td>\n",
              "      <td>1</td>\n",
              "      <td>2</td>\n",
              "      <td>1</td>\n",
              "      <td>2</td>\n",
              "      <td>0</td>\n",
              "    </tr>\n",
              "    <tr>\n",
              "      <th>22</th>\n",
              "      <td>1</td>\n",
              "      <td>1</td>\n",
              "      <td>2</td>\n",
              "      <td>3</td>\n",
              "      <td>1</td>\n",
              "      <td>3</td>\n",
              "      <td>*</td>\n",
              "    </tr>\n",
              "    <tr>\n",
              "      <th>23</th>\n",
              "      <td>3</td>\n",
              "      <td>0</td>\n",
              "      <td>2</td>\n",
              "      <td>2</td>\n",
              "      <td>1</td>\n",
              "      <td>2</td>\n",
              "      <td>1</td>\n",
              "    </tr>\n",
              "    <tr>\n",
              "      <th>24</th>\n",
              "      <td>2</td>\n",
              "      <td>0</td>\n",
              "      <td>3</td>\n",
              "      <td>1</td>\n",
              "      <td>1</td>\n",
              "      <td>3</td>\n",
              "      <td>0</td>\n",
              "    </tr>\n",
              "    <tr>\n",
              "      <th>25</th>\n",
              "      <td>1</td>\n",
              "      <td>0</td>\n",
              "      <td>1</td>\n",
              "      <td>3</td>\n",
              "      <td>1</td>\n",
              "      <td>1</td>\n",
              "      <td>1</td>\n",
              "    </tr>\n",
              "    <tr>\n",
              "      <th>26</th>\n",
              "      <td>3</td>\n",
              "      <td>0</td>\n",
              "      <td>2</td>\n",
              "      <td>1</td>\n",
              "      <td>1</td>\n",
              "      <td>3</td>\n",
              "      <td>0</td>\n",
              "    </tr>\n",
              "    <tr>\n",
              "      <th>27</th>\n",
              "      <td>3</td>\n",
              "      <td>1</td>\n",
              "      <td>*</td>\n",
              "      <td>1</td>\n",
              "      <td>3</td>\n",
              "      <td>2</td>\n",
              "      <td>0</td>\n",
              "    </tr>\n",
              "    <tr>\n",
              "      <th>29</th>\n",
              "      <td>2</td>\n",
              "      <td>1</td>\n",
              "      <td>2</td>\n",
              "      <td>3</td>\n",
              "      <td>3</td>\n",
              "      <td>1</td>\n",
              "      <td>0</td>\n",
              "    </tr>\n",
              "    <tr>\n",
              "      <th>31</th>\n",
              "      <td>1</td>\n",
              "      <td>0</td>\n",
              "      <td>2</td>\n",
              "      <td>*</td>\n",
              "      <td>1</td>\n",
              "      <td>3</td>\n",
              "      <td>0</td>\n",
              "    </tr>\n",
              "    <tr>\n",
              "      <th>32</th>\n",
              "      <td>1</td>\n",
              "      <td>1</td>\n",
              "      <td>2</td>\n",
              "      <td>3</td>\n",
              "      <td>3</td>\n",
              "      <td>3</td>\n",
              "      <td>1</td>\n",
              "    </tr>\n",
              "    <tr>\n",
              "      <th>35</th>\n",
              "      <td>3</td>\n",
              "      <td>0</td>\n",
              "      <td>2</td>\n",
              "      <td>1</td>\n",
              "      <td>3</td>\n",
              "      <td>2</td>\n",
              "      <td>*</td>\n",
              "    </tr>\n",
              "    <tr>\n",
              "      <th>38</th>\n",
              "      <td>1</td>\n",
              "      <td>0</td>\n",
              "      <td>1</td>\n",
              "      <td>3</td>\n",
              "      <td>3</td>\n",
              "      <td>1</td>\n",
              "      <td>0</td>\n",
              "    </tr>\n",
              "    <tr>\n",
              "      <th>39</th>\n",
              "      <td>1</td>\n",
              "      <td>0</td>\n",
              "      <td>1</td>\n",
              "      <td>1</td>\n",
              "      <td>1</td>\n",
              "      <td>1</td>\n",
              "      <td>1</td>\n",
              "    </tr>\n",
              "    <tr>\n",
              "      <th>44</th>\n",
              "      <td>1</td>\n",
              "      <td>1</td>\n",
              "      <td>3</td>\n",
              "      <td>3</td>\n",
              "      <td>1</td>\n",
              "      <td>3</td>\n",
              "      <td>1</td>\n",
              "    </tr>\n",
              "    <tr>\n",
              "      <th>49</th>\n",
              "      <td>1</td>\n",
              "      <td>1</td>\n",
              "      <td>2</td>\n",
              "      <td>1</td>\n",
              "      <td>3</td>\n",
              "      <td>3</td>\n",
              "      <td>*</td>\n",
              "    </tr>\n",
              "    <tr>\n",
              "      <th>50</th>\n",
              "      <td>2</td>\n",
              "      <td>1</td>\n",
              "      <td>*</td>\n",
              "      <td>3</td>\n",
              "      <td>3</td>\n",
              "      <td>3</td>\n",
              "      <td>*</td>\n",
              "    </tr>\n",
              "    <tr>\n",
              "      <th>56</th>\n",
              "      <td>1</td>\n",
              "      <td>0</td>\n",
              "      <td>3</td>\n",
              "      <td>2</td>\n",
              "      <td>1</td>\n",
              "      <td>1</td>\n",
              "      <td>1</td>\n",
              "    </tr>\n",
              "    <tr>\n",
              "      <th>64</th>\n",
              "      <td>3</td>\n",
              "      <td>1</td>\n",
              "      <td>*</td>\n",
              "      <td>2</td>\n",
              "      <td>3</td>\n",
              "      <td>2</td>\n",
              "      <td>*</td>\n",
              "    </tr>\n",
              "    <tr>\n",
              "      <th>84</th>\n",
              "      <td>1</td>\n",
              "      <td>0</td>\n",
              "      <td>2</td>\n",
              "      <td>3</td>\n",
              "      <td>3</td>\n",
              "      <td>2</td>\n",
              "      <td>*</td>\n",
              "    </tr>\n",
              "    <tr>\n",
              "      <th>126</th>\n",
              "      <td>3</td>\n",
              "      <td>1</td>\n",
              "      <td>*</td>\n",
              "      <td>1</td>\n",
              "      <td>1</td>\n",
              "      <td>1</td>\n",
              "      <td>*</td>\n",
              "    </tr>\n",
              "    <tr>\n",
              "      <th>204</th>\n",
              "      <td>1</td>\n",
              "      <td>0</td>\n",
              "      <td>3</td>\n",
              "      <td>3</td>\n",
              "      <td>2</td>\n",
              "      <td>*</td>\n",
              "      <td>1</td>\n",
              "    </tr>\n",
              "  </tbody>\n",
              "</table>\n",
              "</div>"
            ],
            "text/plain": [
              "    AGE  SEX INC POL  AREA FIN STAT\n",
              "0     3    0   2   2     1   2    1\n",
              "1     2    0   3   3     1   3    1\n",
              "2     1    0   2   *     1   2    1\n",
              "3     3    1   2   1     1   1    0\n",
              "4     3    1   3   3     3   2    *\n",
              "5     1    0   2   1     3   3    *\n",
              "6     3    1   1   3     3   1    1\n",
              "7     1    0   1   3     2   1    0\n",
              "8     3    1   *   3     3   2    0\n",
              "9     1    0   *   1     1   2    1\n",
              "10    2    1   2   3     1   2    *\n",
              "11    3    1   1   3     2   2    0\n",
              "12    2    0   2   1     3   3    0\n",
              "13    3    0   *   3     2   2    0\n",
              "14    3    0   3   3     3   3    1\n",
              "15    3    0   3   1     3   1    1\n",
              "16    1    1   2   1     3   3    *\n",
              "17    3    1   2   1     3   2    1\n",
              "18    3    1   2   3     3   1    0\n",
              "19    2    0   3   3     3   3    1\n",
              "20    1    1   3   1     1   3    0\n",
              "21    3    0   1   2     1   2    0\n",
              "22    1    1   2   3     1   3    *\n",
              "23    3    0   2   2     1   2    1\n",
              "24    2    0   3   1     1   3    0\n",
              "25    1    0   1   3     1   1    1\n",
              "26    3    0   2   1     1   3    0\n",
              "27    3    1   *   1     3   2    0\n",
              "29    2    1   2   3     3   1    0\n",
              "31    1    0   2   *     1   3    0\n",
              "32    1    1   2   3     3   3    1\n",
              "35    3    0   2   1     3   2    *\n",
              "38    1    0   1   3     3   1    0\n",
              "39    1    0   1   1     1   1    1\n",
              "44    1    1   3   3     1   3    1\n",
              "49    1    1   2   1     3   3    *\n",
              "50    2    1   *   3     3   3    *\n",
              "56    1    0   3   2     1   1    1\n",
              "64    3    1   *   2     3   2    *\n",
              "84    1    0   2   3     3   2    *\n",
              "126   3    1   *   1     1   1    *\n",
              "204   1    0   3   3     2   *    1"
            ]
          },
          "metadata": {
            "tags": []
          },
          "execution_count": 176
        }
      ]
    },
    {
      "cell_type": "code",
      "metadata": {
        "id": "QLa7lKRXEwlq",
        "colab_type": "code",
        "outputId": "cd434944-6601-47ad-e966-a07bea8b9d47",
        "colab": {
          "base_uri": "https://localhost:8080/",
          "height": 35
        }
      },
      "source": [
        "df = pd.read_csv(\"montana.txt\",sep=\"\\s+\")\n",
        "df.head()\n",
        "dd=df[ df.FIN!=\"*\"] # exclude missing data\n",
        "dd.FIN.mean() # average in column FIN\n",
        "dd.FIN.unique() # unique values in column FIN"
      ],
      "execution_count": 0,
      "outputs": [
        {
          "output_type": "execute_result",
          "data": {
            "text/plain": [
              "array(['2', '3', '1'], dtype=object)"
            ]
          },
          "metadata": {
            "tags": []
          },
          "execution_count": 178
        }
      ]
    },
    {
      "cell_type": "code",
      "metadata": {
        "id": "bCy_pChjuBIO",
        "colab_type": "code",
        "outputId": "49aae502-25ea-4768-c231-7dfc5d59a739",
        "colab": {
          "base_uri": "https://localhost:8080/",
          "height": 87
        }
      },
      "source": [
        "dd.FIN.value_counts() #calculates totals for each financial bracket"
      ],
      "execution_count": 0,
      "outputs": [
        {
          "output_type": "execute_result",
          "data": {
            "text/plain": [
              "2    76\n",
              "3    71\n",
              "1    61\n",
              "Name: FIN, dtype: int64"
            ]
          },
          "metadata": {
            "tags": []
          },
          "execution_count": 173
        }
      ]
    },
    {
      "cell_type": "code",
      "metadata": {
        "id": "Ujwgdsf3uekt",
        "colab_type": "code",
        "outputId": "42692c43-98cf-4ed5-af32-7228709ab673",
        "colab": {
          "base_uri": "https://localhost:8080/",
          "height": 87
        }
      },
      "source": [
        "dd.STAT.value_counts() #calculates totals for state economic outlook"
      ],
      "execution_count": 0,
      "outputs": [
        {
          "output_type": "execute_result",
          "data": {
            "text/plain": [
              "0    118\n",
              "1     62\n",
              "*     28\n",
              "Name: STAT, dtype: int64"
            ]
          },
          "metadata": {
            "tags": []
          },
          "execution_count": 174
        }
      ]
    },
    {
      "cell_type": "code",
      "metadata": {
        "id": "A-c_-F1-whjw",
        "colab_type": "code",
        "outputId": "100d3544-4efa-446c-c77d-7bfed4b1f5c1",
        "colab": {
          "base_uri": "https://localhost:8080/",
          "height": 171
        }
      },
      "source": [
        "chart = pd.crosstab(dd.FIN, dd.STAT)\n",
        "chart"
      ],
      "execution_count": 0,
      "outputs": [
        {
          "output_type": "execute_result",
          "data": {
            "text/html": [
              "<div>\n",
              "<style scoped>\n",
              "    .dataframe tbody tr th:only-of-type {\n",
              "        vertical-align: middle;\n",
              "    }\n",
              "\n",
              "    .dataframe tbody tr th {\n",
              "        vertical-align: top;\n",
              "    }\n",
              "\n",
              "    .dataframe thead th {\n",
              "        text-align: right;\n",
              "    }\n",
              "</style>\n",
              "<table border=\"1\" class=\"dataframe\">\n",
              "  <thead>\n",
              "    <tr style=\"text-align: right;\">\n",
              "      <th>STAT</th>\n",
              "      <th>*</th>\n",
              "      <th>0</th>\n",
              "      <th>1</th>\n",
              "    </tr>\n",
              "    <tr>\n",
              "      <th>FIN</th>\n",
              "      <th></th>\n",
              "      <th></th>\n",
              "      <th></th>\n",
              "    </tr>\n",
              "  </thead>\n",
              "  <tbody>\n",
              "    <tr>\n",
              "      <th>1</th>\n",
              "      <td>1</td>\n",
              "      <td>47</td>\n",
              "      <td>13</td>\n",
              "    </tr>\n",
              "    <tr>\n",
              "      <th>2</th>\n",
              "      <td>14</td>\n",
              "      <td>41</td>\n",
              "      <td>21</td>\n",
              "    </tr>\n",
              "    <tr>\n",
              "      <th>3</th>\n",
              "      <td>13</td>\n",
              "      <td>30</td>\n",
              "      <td>28</td>\n",
              "    </tr>\n",
              "  </tbody>\n",
              "</table>\n",
              "</div>"
            ],
            "text/plain": [
              "STAT   *   0   1\n",
              "FIN             \n",
              "1      1  47  13\n",
              "2     14  41  21\n",
              "3     13  30  28"
            ]
          },
          "metadata": {
            "tags": []
          },
          "execution_count": 190
        }
      ]
    },
    {
      "cell_type": "markdown",
      "metadata": {
        "id": "SxFXpar5xz_j",
        "colab_type": "text"
      },
      "source": [
        "I will only be using the worse (1) and better (3) statistics for FIN."
      ]
    },
    {
      "cell_type": "code",
      "metadata": {
        "id": "bQ7o4UCIw7s5",
        "colab_type": "code",
        "outputId": "94d36053-b2c1-407b-dbe9-c78ed50d7908",
        "colab": {
          "base_uri": "https://localhost:8080/",
          "height": 268
        }
      },
      "source": [
        "from scipy.stats import hypergeom\n",
        "S = hypergeom( M = 118, n = 77, N = 60)\n",
        "_ = plt.hist(S.rvs(1000))"
      ],
      "execution_count": 0,
      "outputs": [
        {
          "output_type": "display_data",
          "data": {
            "image/png": "[encoded data removed]",
            "text/plain": [
              "<Figure size 432x288 with 1 Axes>"
            ]
          },
          "metadata": {
            "tags": []
          }
        }
      ]
    },
    {
      "cell_type": "code",
      "metadata": {
        "id": "IfubbwMm0gCf",
        "colab_type": "code",
        "outputId": "50e36e84-05e6-43c3-95a2-b7d1fd1fe578",
        "colab": {
          "base_uri": "https://localhost:8080/",
          "height": 35
        }
      },
      "source": [
        "print(\"Mean: \", S.mean())"
      ],
      "execution_count": 0,
      "outputs": [
        {
          "output_type": "stream",
          "text": [
            "Mean:  39.152542372881356\n"
          ],
          "name": "stdout"
        }
      ]
    },
    {
      "cell_type": "code",
      "metadata": {
        "id": "9JByhenn8mm9",
        "colab_type": "code",
        "outputId": "9807407e-c9fc-4a6d-a774-4a32e95c259e",
        "colab": {
          "base_uri": "https://localhost:8080/",
          "height": 52
        }
      },
      "source": [
        "fisher_chart = np.matrix([[47,13],[30,28]])\n",
        "fisher_chart"
      ],
      "execution_count": 0,
      "outputs": [
        {
          "output_type": "execute_result",
          "data": {
            "text/plain": [
              "matrix([[47, 13],\n",
              "        [30, 28]])"
            ]
          },
          "metadata": {
            "tags": []
          },
          "execution_count": 194
        }
      ]
    },
    {
      "cell_type": "code",
      "metadata": {
        "id": "ss59XY2s6njp",
        "colab_type": "code",
        "outputId": "042384b6-677a-489b-9b69-20ff5f2a7473",
        "colab": {
          "base_uri": "https://localhost:8080/",
          "height": 35
        }
      },
      "source": [
        "from scipy.stats import fisher_exact\n",
        "import scipy.stats as stats\n",
        "oddsratio, pvalue = stats.fisher_exact(fisher_chart)\n",
        "print(\"P value = \", pvalue)"
      ],
      "execution_count": 0,
      "outputs": [
        {
          "output_type": "stream",
          "text": [
            "P value =  0.003533589464767294\n"
          ],
          "name": "stdout"
        }
      ]
    },
    {
      "cell_type": "markdown",
      "metadata": {
        "id": "2GVCxyNh4vp8",
        "colab_type": "text"
      },
      "source": [
        "Conclusion\n",
        "> The p value that resulted from the fishers test I performed comparing personal financial status and state economic outlook was .0035. This means that it is statistically significant, so someone's personal financial status affects the way they view the states economic outlook.\n",
        "\n"
      ]
    },
    {
      "cell_type": "markdown",
      "metadata": {
        "id": "-fyhXT7xEwlu",
        "colab_type": "text"
      },
      "source": [
        "# 3. Compare Groups"
      ]
    },
    {
      "cell_type": "markdown",
      "metadata": {
        "id": "Me8oziBnEwlv",
        "colab_type": "text"
      },
      "source": [
        "The data files contain play-by-play information about UT games in 2017 and 2018. \n",
        "Compare the two years with respect to the average gain on a pass play, and the average gain on a run play. Display the corresponding bar plots, check the data for normality, and run the comparisons using a) t-test and b) permutation test. Report your findings."
      ]
    },
    {
      "cell_type": "code",
      "metadata": {
        "id": "5xbGlshCEwlw",
        "colab_type": "code",
        "colab": {}
      },
      "source": [
        "data2017 = pd.read_csv(\"gamedata2017.txt\")\n",
        "data2018 = pd.read_csv(\"gamedata2018.txt\")"
      ],
      "execution_count": 0,
      "outputs": []
    },
    {
      "cell_type": "markdown",
      "metadata": {
        "id": "K2RknA9EEwlz",
        "colab_type": "text"
      },
      "source": [
        "### COLUMN NAMES\n",
        "\n",
        "First, let us check the columns in the dataset."
      ]
    },
    {
      "cell_type": "code",
      "metadata": {
        "id": "s47C2CdwEwl1",
        "colab_type": "code",
        "outputId": "62330fd8-0ad5-40bf-83fb-d9c69cd7e722",
        "colab": {
          "base_uri": "https://localhost:8080/",
          "height": 87
        }
      },
      "source": [
        "data2017.columns"
      ],
      "execution_count": 0,
      "outputs": [
        {
          "output_type": "execute_result",
          "data": {
            "text/plain": [
              "Index(['gamedesc', 'teama', 'teamascore', 'teamb', 'teambscore', 'scorediff',\n",
              "       'down', 'yardstomove', 'fieldside', 'fieldpos', 'distancetogoal',\n",
              "       'playdesc', 'curteam', 'playtype', 'gain'],\n",
              "      dtype='object')"
            ]
          },
          "metadata": {
            "tags": []
          },
          "execution_count": 94
        }
      ]
    },
    {
      "cell_type": "code",
      "metadata": {
        "id": "s90r574qEwl4",
        "colab_type": "code",
        "outputId": "cd9b409a-9287-4dde-9628-1d3cec788cfe",
        "colab": {
          "base_uri": "https://localhost:8080/",
          "height": 1000
        }
      },
      "source": [
        "for index, row in data2018.iterrows():\n",
        "    print(row.curteam, \" ### \", row.playdesc)"
      ],
      "execution_count": 0,
      "outputs": [
        {
          "output_type": "stream",
          "text": [
            "WVU  ###  (15:00 - 1st) Evan Staley kickoff for 65 yds for a touchback\n",
            "WVU  ###  (15:00 - 1st) Jarrett Guarantano run for a loss of 2 yards to the Tenn 15 Jarrett Guarantano fumbled, forced by Kenny Bigelow Jr., recovered by Tenn Josh Palmer\n",
            "WVU  ###  (15:00 - 1st) Jarrett Guarantano pass incomplete to Marquez Callaway, broken up by Hakeem Bailey\n",
            "WVU  ###  (15:00 - 1st) Ty Chandler run for a loss of 5 yards to the Tenn 10\n",
            "WVU  ###  (15:00 - 1st) Joe Doyle punt for 37 yds , Marcus Simms returns for a loss of 1 yard to the Tenn 48\n",
            "TENN  ###  (13:25 - 1st) Will Grier pass complete to Gary Jennings Jr. for 10 yds to the Tenn 38 for a 1ST down\n",
            "TENN  ###  (13:25 - 1st) Pettaway, M. rush for no gain to the UT38 (Tuttle,S.;Taylor,A.), PENALTY WVU holding 10 yards to the UT48, NO PLAY.\n",
            "TENN  ###  (13:25 - 1st) Will Grier pass complete to David Sills V. for 25 yds to the Tenn 23 for a 1ST down\n",
            "TENN  ###  (13:25 - 1st) Martell Pettaway run for 12 yds to the Tenn 11 for a 1ST down\n",
            "TENN  ###  (13:25 - 1st) Tevin Bush run for 2 yds to the Tenn 9\n",
            "TENN  ###  (13:25 - 1st) Will Grier pass incomplete to David Sills V.\n",
            "TENN  ###  (13:25 - 1st) Will Grier pass incomplete\n",
            "TENN  ###  (11:00 - 1st) Evan Staley 26 yd FG GOOD\n",
            "WVU  ###  (11:00 - 1st) Evan Staley kickoff for 64 yds , Ty Chandler return for 17 yds to the Tenn 18\n",
            "WVU  ###  (10:54 - 1st) Tim Jordan run for a loss of 4 yards to the Tenn 14\n",
            "WVU  ###  (10:54 - 1st) Tim Jordan run for 6 yds to the Tenn 20\n",
            "WVU  ###  (10:54 - 1st) Jarrett Guarantano pass complete to Josh Palmer for 16 yds to the Tenn 36 for a 1ST down\n",
            "WVU  ###  (10:54 - 1st) Jarrett Guarantano pass complete to Brandon Johnson for 1 yd to the Tenn 37\n",
            "WVU  ###  (10:54 - 1st) Tim Jordan run for 2 yds to the Tenn 39\n",
            "WVU  ###  (10:54 - 1st) Jarrett Guarantano pass complete to Jauan Jennings for 19 yds to the WVirg 42 for a 1ST down\n",
            "WVU  ###  (10:54 - 1st) Ty Chandler run for a loss of 3 yards to the WVirg 45\n",
            "WVU  ###  (10:54 - 1st) Ty Chandler run for a loss of 1 yard to the WVirg 46\n",
            "WVU  ###  (10:54 - 1st) Jarrett Guarantano pass incomplete to Brandon Johnson\n",
            "WVU  ###  (10:54 - 1st) Joe Doyle punt for 31 yds, fair catch by Gary Jennings Jr. at the WVirg 15\n",
            "TENN  ###  (5:50 - 1st) Martell Pettaway run for 4 yds to the WVirg 19\n",
            "TENN  ###  (5:50 - 1st) Will Grier pass complete to Gary Jennings Jr. for 9 yds to the WVirg 28 for a 1ST down\n",
            "TENN  ###  (5:50 - 1st) Martell Pettaway run for 3 yds to the WVirg 31\n",
            "TENN  ###  (5:50 - 1st) Will Grier pass complete to David Sills V. for 10 yds to the WVirg 41 for a 1ST down\n",
            "TENN  ###  (3:32 - 1st) Will Grier pass complete to T.J. Simmons for 59 yds for a TD, (Evan Staley KICK)\n",
            "WVU  ###  (3:32 - 1st) Evan Staley kickoff for 65 yds for a touchback\n",
            "WVU  ###  (3:32 - 1st) Jarrett Guarantano sacked by Reese Donahue for a loss of 7 yards to the Tenn 18\n",
            "WVU  ###  (3:32 - 1st) Jarrett Guarantano pass complete to Tim Jordan for 8 yds to the Tenn 26\n",
            "WVU  ###  (3:32 - 1st) Tim Jordan run for 5 yds to the Tenn 18\n",
            "WVU  ###  (3:32 - 1st) Joe Doyle punt for 43 yds, fair catch by Marcus Simms at the WVirg 39\n",
            "TENN  ###  (1:14 - 1st) Alec Sinkfield run for 4 yds to the WVirg 43\n",
            "TENN  ###  (1:14 - 1st) Will Grier pass incomplete to David Sills V.\n",
            "TENN  ###  (1:14 - 1st) Will Grier pass complete to Tevin Bush for 1 yd to the WVirg 44\n",
            "TENN  ###  (1:14 - 1st) Billy Kinney punt, downed at the Tenn 22\n",
            "TENN  ###  End of 1st Quarter\n",
            "WVU  ###  (15:00 - 2nd) Ty Chandler run for 5 yds to the Tenn 27\n",
            "WVU  ###  (15:00 - 2nd) Tim Jordan run for 4 yds to the Tenn 31\n",
            "WVU  ###  (15:00 - 2nd) Tim Jordan run for 1 yd to the Tenn 32 for a 1ST down\n",
            "WVU  ###  (15:00 - 2nd) Jarrett Guarantano pass incomplete to Josh Palmer\n",
            "WVU  ###  (15:00 - 2nd) Tim Jordan run for 9 yds to the Tenn 41\n",
            "WVU  ###  (15:00 - 2nd) Tim Jordan run for 2 yds to the Tenn 43 for a 1ST down\n",
            "WVU  ###  (15:00 - 2nd) Jarrett Guarantano pass complete to Marquez Callaway for 11 yds to the WVirg 46 for a 1ST down\n",
            "WVU  ###  (15:00 - 2nd) Jarrett Guarantano pass complete to Marquez Callaway for 9 yds to the WVirg 37\n",
            "WVU  ###  (15:00 - 2nd) Madre London run for 4 yds to the WVirg 33 for a 1ST down\n",
            "WVU  ###  (15:00 - 2nd) Jarrett Guarantano pass complete to Marquez Callaway for 5 yds to the WVirg 28\n",
            "WVU  ###  (15:00 - 2nd) Madre London run for no gain to the WVirg 28\n",
            "WVU  ###  (15:00 - 2nd) Jarrett Guarantano pass complete to Josh Palmer for 14 yds to the WVirg 14 for a 1ST down\n",
            "WVU  ###  (15:00 - 2nd) Tim Jordan run for 13 yds to the WVirg 1 for a 1ST down\n",
            "WVU  ###  (8:17 - 2nd) Timeout WEST VIRGINIA, clock 08:17\n",
            "WVU  ###  (8:17 - 2nd) Tim Jordan run for a loss of 2 yards to the WVirg 3\n",
            "WVU  ###  (8:17 - 2nd) Tim Jordan run for no gain to the WVirg 3\n",
            "WVU  ###  (8:17 - 2nd) Jarrett Guarantano run for 2 yds to the WVirg 1\n",
            "WVU  ###  (6:17 - 2nd) Timeout TENNESSEE, clock 06:17\n",
            "WVU  ###  (6:13 - 2nd) Jarrett Guarantano pass complete to Dominick Wood-Anderson for 1 yd for a TD, (Brent Cimaglia KICK)\n",
            "TENN  ###  (6:13 - 2nd) Paxton Brooks kickoff for 65 yds for a touchback\n",
            "TENN  ###  (6:13 - 2nd) Martell Pettaway run for 4 yds to the WVirg 29\n",
            "TENN  ###  (6:13 - 2nd) WEST VIRGINIA Penalty, false start (Josh Sills) to the WVirg 24\n",
            "TENN  ###  (6:13 - 2nd) Will Grier pass incomplete to Alec Sinkfield\n",
            "TENN  ###  (6:13 - 2nd) Will Grier pass incomplete to David Sills V.\n",
            "TENN  ###  (6:13 - 2nd) Billy Kinney punt for 53 yds , Marquez Callaway returns for 6 yds to the Tenn 29\n",
            "WVU  ###  (5:08 - 2nd) Jarrett Guarantano pass complete to Marquez Callaway for 7 yds to the Tenn 36\n",
            "WVU  ###  (5:08 - 2nd) Tim Jordan run for 17 yds to the WVirg 47 for a 1ST down\n",
            "WVU  ###  (5:08 - 2nd) Josh Palmer run for 7 yds to the WVirg 40\n",
            "WVU  ###  (5:08 - 2nd) Madre London run for a loss of 1 yard to the WVirg 41\n",
            "WVU  ###  (5:08 - 2nd) Madre London run for no gain to the WVirg 41\n",
            "WVU  ###  (5:08 - 2nd) Joe Doyle punt for 31 yds, fair catch by Gary Jennings Jr. at the WVirg 10\n",
            "TENN  ###  (1:52 - 2nd) TENNESSEE Penalty, unsportsmanlike conduct (15 Yards) to the WVirg 25 for a 1ST down\n",
            "TENN  ###  (1:52 - 2nd) Will Grier pass complete to David Sills V. for 18 yds to the WVirg 43 for a 1ST down\n",
            "TENN  ###  (1:52 - 2nd) Brown, Leddie rush for 6 yards to the WVU49 (TEAM), PENALTY UT offside (Buchanan,B.) 5 yards to the WVU48, NO PLAY.\n",
            "TENN  ###  (1:52 - 2nd) Will Grier pass complete to Marcus Simms for 8 yds to the Tenn 44 for a 1ST down\n",
            "TENN  ###  (1:52 - 2nd) Will Grier pass complete to Gary Jennings Jr. for 14 yds to the Tenn 30 for a 1ST down\n",
            "TENN  ###  (1:52 - 2nd) Will Grier pass incomplete to Marcus Simms, broken up by Trevon Flowers\n",
            "TENN  ###  (1:52 - 2nd) Leddie Brown run for 11 yds to the Tenn 19 for a 1ST down\n",
            "TENN  ###  (1:52 - 2nd) Will Grier sacked by Shy Tuttle for a loss of 3 yards to the Tenn 22\n",
            "TENN  ###  (0:18 - 2nd) Timeout WEST VIRGINIA, clock 00:18\n",
            "TENN  ###  (0:18 - 2nd) Will Grier run for 4 yds to the Tenn 18\n",
            "TENN  ###  (0:05 - 2nd) Timeout TENNESSEE, clock 00:05\n",
            "TENN  ###  (0:00 - 2nd) Evan Staley 35 yd FG GOOD\n",
            "TENN  ###  (15:00 - 3rd) Paxton Brooks kickoff for 65 yds , Marcus Simms return for 32 yds to the WVirg 32\n",
            "TENN  ###  (15:00 - 3rd) Will Grier pass complete to Martell Pettaway for a loss of 5 yards to the WVirg 27\n",
            "TENN  ###  (15:00 - 3rd) Martell Pettaway run for 8 yds to the WVirg 35\n",
            "TENN  ###  (15:00 - 3rd) Will Grier pass complete to Marcus Simms for 32 yds to the Tenn 33 for a 1ST down\n",
            "TENN  ###  (12:54 - 3rd) David Sills V 33 Yd pass from Will Grier (Evan Staley Kick)\n",
            "WVU  ###  (12:54 - 3rd) Evan Staley kickoff for 62 yds , Nigel Warrior return for 13 yds to the Tenn 16\n",
            "WVU  ###  (12:45 - 3rd) Tim Jordan run for 8 yds to the Tenn 24\n",
            "WVU  ###  (12:45 - 3rd) Jarrett Guarantano pass complete to Cedric Tillman for a loss of 3 yards to the Tenn 21\n",
            "WVU  ###  (12:45 - 3rd) TENNESSEE Penalty, false start (Trey Smith) to the Tenn 16\n",
            "WVU  ###  (12:45 - 3rd) Jarrett Guarantano pass incomplete to Josh Palmer, broken up by Toyous Avery Jr.\n",
            "WVU  ###  (12:45 - 3rd) Joe Doyle punt for 44 yds, fair catch by Marcus Simms at the WVirg 40\n",
            "TENN  ###  (10:58 - 3rd) Martell Pettaway run for a loss of 2 yards to the WVirg 38\n",
            "TENN  ###  (10:58 - 3rd) Martell Pettaway run for 22 yds to the Tenn 40 for a 1ST down\n",
            "TENN  ###  (10:58 - 3rd) Will Grier pass incomplete to Marcus Simms\n",
            "TENN  ###  (10:58 - 3rd) Will Grier pass complete to Alec Sinkfield for 9 yds to the Tenn 31\n",
            "TENN  ###  (10:58 - 3rd) Martell Pettaway run for 3 yds to the Tenn 28 for a 1ST down\n",
            "TENN  ###  (10:58 - 3rd) Will Grier pass incomplete to David Sills V.\n",
            "TENN  ###  (8:09 - 3rd) Will Grier pass complete to Gary Jennings Jr. for 28 yds for a TD, (Evan Staley KICK)\n",
            "WVU  ###  (8:09 - 3rd) Evan Staley kickoff for 65 yds for a touchback\n",
            "WVU  ###  (8:09 - 3rd) Tim Jordan run for 30 yds to the WVirg 45 for a 1ST down\n",
            "WVU  ###  (8:09 - 3rd) Madre London run for 9 yds to the WVirg 36\n",
            "WVU  ###  (8:09 - 3rd) Jarrett Guarantano pass complete to Jauan Jennings for 10 yds to the WVirg 26 for a 1ST down\n",
            "WVU  ###  (8:09 - 3rd) Guarantano,J. pass incomplete to Palmer,J. (Norwood, Josh), PENALTY WVU pass interference (Norwood, Josh) 15 yards to the WVU11, 1ST DOWN UT, NO PLAY.\n",
            "WVU  ###  (8:09 - 3rd) Tim Jordan run for 7 yds to the WVirg 4\n",
            "WVU  ###  (6:09 - 3rd) Tim Jordan run for 4 yds for a TD, (Brent Cimaglia KICK)\n",
            "TENN  ###  (6:09 - 3rd) Paxton Brooks kickoff for 63 yds , Marcus Simms return for 20 yds to the WVirg 22\n",
            "TENN  ###  (6:09 - 3rd) Leddie Brown run for 3 yds to the WVirg 25\n",
            "TENN  ###  (6:09 - 3rd) Will Grier pass complete to Gary Jennings Jr. for 30 yds to the Tenn 45 for a 1ST down\n",
            "TENN  ###  (6:09 - 3rd) Will Grier pass complete to David Sills V. for 6 yds to the Tenn 39\n",
            "TENN  ###  (6:09 - 3rd) Leddie Brown run for 5 yds to the Tenn 34 for a 1ST down\n",
            "TENN  ###  (6:09 - 3rd) Leddie Brown run for 5 yds to the Tenn 29\n",
            "TENN  ###  (6:09 - 3rd) Will Grier pass complete to Jovani Haskins for 9 yds to the Tenn 20 for a 1ST down\n",
            "TENN  ###  (6:09 - 3rd) Leddie Brown run for 5 yds to the Tenn 15\n",
            "TENN  ###  (6:09 - 3rd) Leddie Brown run for 1 yd to the Tenn 14\n",
            "TENN  ###  (1:15 - 3rd) Will Grier pass complete to Kennedy McKoy for 14 yds for a TD, (Two-Point Conversion failed )\n",
            "WVU  ###  (1:15 - 3rd) Evan Staley kickoff for 65 yds\n",
            "WVU  ###  (1:15 - 3rd) Tim Jordan run for 10 yds to the Tenn 35 for a 1ST down\n",
            "WVU  ###  (1:15 - 3rd) Tim Jordan run for 4 yds to the Tenn 39\n",
            "WVU  ###  (1:15 - 3rd) Jarrett Guarantano pass complete to Marquez Callaway for 11 yds to the 50 yard line for a 1ST down\n",
            "WVU  ###  (1:15 - 3rd) Jeremy Banks run for a loss of 1 yard to the Tenn 49\n",
            "WVU  ###  End of 3rd Quarter\n",
            "WVU  ###  (15:00 - 4th) Tim Jordan run for a loss of 1 yard to the Tenn 48\n",
            "WVU  ###  (15:00 - 4th) Jarrett Guarantano pass incomplete to Tim Jordan\n",
            "WVU  ###  (15:00 - 4th) Joe Doyle punt for 42 yds, fair catch by Marcus Simms at the WVirg 10\n",
            "TENN  ###  (14:10 - 4th) Will Grier sacked by TEAM for a loss of 1 yard to the WVirg 9\n",
            "TENN  ###  (14:10 - 4th) Will Grier pass incomplete to David Sills V.\n",
            "TENN  ###  (14:10 - 4th) Will Grier pass complete to Gary Jennings Jr. for 22 yds to the WVirg 31 for a 1ST down\n",
            "TENN  ###  (14:10 - 4th) Will Grier pass complete to Dominique Maiden for 8 yds to the WVirg 39\n",
            "TENN  ###  (14:10 - 4th) Kennedy McKoy run for 1 yd to the WVirg 40\n",
            "TENN  ###  (14:10 - 4th) Kennedy McKoy run for 6 yds to the WVirg 46 for a 1ST down\n",
            "TENN  ###  (14:10 - 4th) Kennedy McKoy run for 8 yds to the Tenn 46\n",
            "TENN  ###  (14:10 - 4th) Will Grier pass complete to Trevon Wesco for 6 yds to the Tenn 40 for a 1ST down\n",
            "TENN  ###  (14:10 - 4th) Kennedy McKoy run for 3 yds to the Tenn 37 Kennedy McKoy fumbled, forced by Theo Jackson, recovered by Tenn Paul Bain\n",
            "WVU  ###  (9:57 - 4th) Jarrett Guarantano pass complete to Marquez Callaway for 20 yds to the WVirg 43 for a 1ST down\n",
            "WVU  ###  (9:57 - 4th) Jarrett Guarantano pass complete to Marquez Callaway for 22 yds to the WVirg 21 for a 1ST down\n",
            "WVU  ###  (9:57 - 4th) Jarrett Guarantano pass complete to Tim Jordan for 3 yds to the WVirg 18\n",
            "WVU  ###  (9:57 - 4th) Jarrett Guarantano pass complete to Jeremy Banks for 10 yds to the WVirg 8 for a 1ST down\n",
            "WVU  ###  (9:57 - 4th) TENNESSEE Penalty, false start (Trey Smith) to the WVirg 13\n",
            "WVU  ###  (9:57 - 4th) Jarrett Guarantano pass complete to Jordan Murphy for 5 yds to the WVirg 8\n",
            "WVU  ###  (9:57 - 4th) Tim Jordan run for 3 yds to the WVirg 5\n",
            "WVU  ###  (9:57 - 4th) Jarrett Guarantano pass complete to Josh Palmer for 3 yds to the WVirg 2\n",
            "WVU  ###  (9:57 - 4th) Jarrett Guarantano pass incomplete to Josh Palmer\n",
            "TENN  ###  (6:43 - 4th) Martell Pettaway run for 2 yds to the WVirg 4\n",
            "TENN  ###  (6:43 - 4th) Will Grier pass complete to David Sills V. for 38 yds to the WVirg 42 for a 1ST down\n",
            "TENN  ###  (6:43 - 4th) Will Grier pass complete to Alec Sinkfield for 6 yds to the WVirg 48\n",
            "TENN  ###  (6:43 - 4th) Will Grier pass complete to Trevon Wesco for 29 yds to the Tenn 23 for a 1ST down\n",
            "TENN  ###  (6:43 - 4th) Marcus Simms run for 5 yds to the Tenn 18\n",
            "TENN  ###  (6:43 - 4th) Leddie Brown run for 3 yds to the Tenn 15\n",
            "TENN  ###  (6:43 - 4th) Leddie Brown run for no gain to the Tenn 15\n",
            "TENN  ###  (2:06 - 4th) Staley, Evan field goal attempt from 32 MISSED - wide left,, clock 02:06, PENALTY UT offside (TEAM) 5 yards to the UT10, 1ST DOWN WVU, NO PLAY.\n",
            "TENN  ###  (2:02 - 4th) David Sills V 10 Yd pass from Will Grier (Evan Staley Kick)\n",
            "WVU  ###  (2:02 - 4th) Luke Hogan kickoff for 60 yds , Nigel Warrior return for 41 yds to the Tenn 46\n",
            "WVU  ###  (1:52 - 4th) Timeout WEST VIRGINIA, clock 01:52\n",
            "WVU  ###  (1:52 - 4th) Jeremy Banks run for 4 yds to the 50 yard line\n",
            "WVU  ###  (1:52 - 4th) Jeremy Banks run for a loss of 1 yard to the Tenn 49\n",
            "WVU  ###  (1:52 - 4th) Jeremy Banks run for 5 yds to the WVirg 46\n",
            "WVU  ###  (1:52 - 4th) Jeremy Banks run for 4 yds to the WVirg 42 for a 1ST down\n",
            "WVU  ###  End of 4th Quarter\n",
            "TENN  ###  (15:00 - 1st) Paxton Brooks kickoff for 65 yds , Deebo Samuel return for 20 yds to the SCaro 20\n",
            "TENN  ###  (15:00 - 1st) Ty'Son Williams run for 2 yds to the SCaro 22\n",
            "TENN  ###  (15:00 - 1st) Ty'Son Williams run for 1 yd to the SCaro 23\n",
            "TENN  ###  (15:00 - 1st) Jake Bentley pass complete to Deebo Samuel for 5 yds to the SCaro 28\n",
            "TENN  ###  (15:00 - 1st) Joseph Charlton punt for 45 yds\n",
            "SC  ###  (12:58 - 1st) Ty Chandler run for 2 yds to the Tenn 30\n",
            "SC  ###  (12:58 - 1st) Jarrett Guarantano pass complete to Marquez Callaway for 5 yds to the Tenn 35\n",
            "SC  ###  (12:58 - 1st) TENNESSEE Penalty, substitution infraction (-5 Yards) to the Tenn 30\n",
            "SC  ###  (12:58 - 1st) Jarrett Guarantano pass incomplete\n",
            "SC  ###  (12:58 - 1st) Joe Doyle punt for 54 yds\n",
            "TENN  ###  (11:07 - 1st) Ty'Son Williams run for 5 yds to the SCaro 22\n",
            "TENN  ###  (11:07 - 1st) Jake Bentley pass complete to Bryan Edwards for 7 yds to the SCaro 29 for a 1ST down\n",
            "TENN  ###  (11:07 - 1st) Jake Bentley pass complete to K.C. Crosby for 15 yds to the SCaro 44 for a 1ST down\n",
            "TENN  ###  (11:07 - 1st) Jake Bentley pass incomplete, broken up by Alontae Taylor\n",
            "TENN  ###  (11:07 - 1st) Jake Bentley pass intercepted Shy Tuttle return for no gain to the SCaro 39\n",
            "SC  ###  (9:35 - 1st) Jarrett Guarantano pass complete to Ty Chandler for a loss of 1 yard to the SCaro 40\n",
            "SC  ###  (9:35 - 1st) Jarrett Guarantano pass complete to Ty Chandler for 6 yds to the SCaro 34\n",
            "SC  ###  (9:35 - 1st) TENNESSEE Penalty, false start (-5 Yards) to the SCaro 39\n",
            "SC  ###  (9:35 - 1st) Guarantano,J. pass complete to Chandler,T. for 5 yards to the SC34 (Sherrod Greene), PENALTY SC offside (Allen-Williams) 5 yards to the SC34, NO PLAY.\n",
            "SC  ###  (9:35 - 1st) Jarrett Guarantano pass complete to Marquez Callaway for 6 yds to the SCaro 28 for a 1ST down\n",
            "SC  ###  (9:35 - 1st) Tim Jordan run for 10 yds to the SCaro 18 for a 1ST down\n",
            "SC  ###  (6:02 - 1st) Timeout TENNESSEE, clock 06:02\n",
            "SC  ###  (6:02 - 1st) Carlin Fils-aime run for 9 yds to the SCaro 9\n",
            "SC  ###  (6:02 - 1st) Chandler,T. rush for no gain to the SC9 (Allen-Williams), PENALTY SC offside (Keir Thomas) 4 yards to the SC5, 1ST DOWN UT, NO PLAY.\n",
            "SC  ###  (4:53 - 1st) Jarrett Guarantano pass complete to Eli Wolf for 5 yds for a TD, (Brent Cimaglia KICK)\n",
            "TENN  ###  (4:53 - 1st) Paxton Brooks kickoff for 65 yds , Deebo Samuel return for 30 yds to the SCaro 30\n",
            "TENN  ###  (4:53 - 1st) Rico Dowdle run for 6 yds to the SCaro 36\n",
            "TENN  ###  (4:53 - 1st) Rico Dowdle run for 7 yds to the SCaro 43 for a 1ST down\n",
            "TENN  ###  (4:53 - 1st) Rico Dowdle run for 16 yds to the Tenn 41 for a 1ST down\n",
            "TENN  ###  (4:53 - 1st) Rico Dowdle run for 5 yds to the Tenn 36\n",
            "TENN  ###  (4:53 - 1st) Deebo Samuel run for 5 yds to the Tenn 31 for a 1ST down\n",
            "TENN  ###  (4:53 - 1st) Jake Bentley run for 1 yd to the Tenn 30\n",
            "TENN  ###  (4:53 - 1st) Rico Dowdle run for 25 yds to the Tenn 5 for a 1ST down\n",
            "TENN  ###  (4:53 - 1st) Jake Bentley pass complete to Deebo Samuel for no gain to the Tenn 5\n",
            "TENN  ###  (4:53 - 1st) Rico Dowdle run for 3 yds to the Tenn 2\n",
            "TENN  ###  (4:53 - 1st) Jake Bentley pass incomplete to Bryan Edwards, broken up by Baylen Buchanan\n",
            "TENN  ###  (0:37 - 1st) Parker White 19 yd FG GOOD\n",
            "SC  ###  (0:37 - 1st) Alexander Woznick kickoff for 63 yds , Ty Chandler return for 27 yds to the Tenn 29\n",
            "SC  ###  (0:37 - 1st) Tim Jordan run for 7 yds to the Tenn 36\n",
            "SC  ###  End of 1st Quarter\n",
            "SC  ###  (15:00 - 2nd) Carlin Fils-aime run for a loss of 3 yards to the Tenn 33\n",
            "SC  ###  (15:00 - 2nd) Jarrett Guarantano pass complete to Marquez Callaway for 5 yds to the Tenn 38\n",
            "SC  ###  (15:00 - 2nd) Joe Doyle punt for 48 yds, downed at the SCaro 14\n",
            "TENN  ###  (13:37 - 2nd) Ty'Son Williams run for 3 yds to the SCaro 17\n",
            "TENN  ###  (13:37 - 2nd) Ty'Son Williams run for 5 yds to the SCaro 22\n",
            "TENN  ###  (12:42 - 2nd) Timeout TENNESSEE, clock 12:42\n",
            "TENN  ###  (12:42 - 2nd) Deebo Samuel run for 3 yds to the SCaro 25 for a 1ST down\n",
            "TENN  ###  (12:42 - 2nd) Rico Dowdle run for 3 yds to the SCaro 28\n",
            "TENN  ###  (12:42 - 2nd) Rico Dowdle run for 3 yds to the SCaro 31\n",
            "TENN  ###  (12:42 - 2nd) Jake Bentley sacked by Kyle Phillips and Alexis Johnson Jr. for a loss of 8 yards to the SCaro 23\n",
            "TENN  ###  (12:42 - 2nd) Joseph Charlton punt for 55 yds , Marquez Callaway returns for 7 yds to the Tenn 30 TENNESSEE Penalty, roughing the kicker ( Yards) declined\n",
            "SC  ###  (10:04 - 2nd) Ty Chandler run for 4 yds to the Tenn 33\n",
            "SC  ###  (10:04 - 2nd) Jarrett Guarantano pass complete to Ty Chandler for 1 yd to the Tenn 34\n",
            "SC  ###  (10:04 - 2nd) TENNESSEE Penalty, false start (-5 Yards) to the Tenn 29\n",
            "SC  ###  (10:04 - 2nd) Jarrett Guarantano run for 11 yds to the Tenn 40 for a 1ST down\n",
            "SC  ###  (10:04 - 2nd) Ty Chandler run for 12 yds to the SCaro 48 for a 1ST down\n",
            "SC  ###  (10:04 - 2nd) Jarrett Guarantano pass incomplete\n",
            "SC  ###  (10:04 - 2nd) Tim Jordan run for 8 yds to the SCaro 40\n",
            "SC  ###  (10:04 - 2nd) Jarrett Guarantano pass complete to Ty Chandler for 4 yds to the SCaro 36 for a 1ST down\n",
            "SC  ###  (10:04 - 2nd) Jarrett Guarantano pass incomplete\n",
            "SC  ###  (10:04 - 2nd) TENNESSEE Penalty, false start (-5 Yards) to the SCaro 41\n",
            "SC  ###  (10:04 - 2nd) Jarrett Guarantano pass complete to Tim Jordan for 4 yds to the SCaro 37\n",
            "SC  ###  (10:04 - 2nd) Jarrett Guarantano pass complete to Marquez Callaway for 16 yds to the SCaro 21 for a 1ST down\n",
            "SC  ###  (10:04 - 2nd) Tim Jordan run for 5 yds to the SCaro 16\n",
            "SC  ###  (10:04 - 2nd) Jarrett Guarantano pass incomplete to Marquez Callaway\n",
            "SC  ###  (10:04 - 2nd) Jarrett Guarantano pass complete to Marquez Callaway for 12 yds to the SCaro 4 for a 1ST down\n",
            "SC  ###  (10:04 - 2nd) Ty Chandler run for a loss of 2 yards to the SCaro 6\n",
            "SC  ###  (2:11 - 2nd) Jarrett Guarantano pass complete to Jauan Jennings for 6 yds for a TD, (Brent Cimaglia KICK)\n",
            "TENN  ###  (2:11 - 2nd) Paxton Brooks kickoff for 61 yds , A.J. Turner return for 21 yds to the SCaro 40\n",
            "TENN  ###  (2:11 - 2nd) Jake Bentley pass incomplete to Bryan Edwards\n",
            "TENN  ###  (2:11 - 2nd) Jake Bentley pass complete to Kiel Pollard for 10 yds to the 50 yard line for a 1ST down\n",
            "TENN  ###  (2:11 - 2nd) Jake Bentley pass complete to Ty'Son Williams for 5 yds to the Tenn 45\n",
            "TENN  ###  (2:11 - 2nd) Jake Bentley pass incomplete to Ty'Son Williams\n",
            "TENN  ###  (2:11 - 2nd) Jake Bentley pass complete to Bryan Edwards for 16 yds to the Tenn 29 for a 1ST down\n",
            "TENN  ###  (2:11 - 2nd) Rico Dowdle run for 5 yds to the Tenn 24\n",
            "TENN  ###  (2:11 - 2nd) Rico Dowdle run for 21 yds to the Tenn 3 for a 1ST down\n",
            "TENN  ###  (0:49 - 2nd) Jake Bentley pass complete to Deebo Samuel for 3 yds for a TD, (Parker White PAT BLOCKED)\n",
            "SC  ###  (0:49 - 2nd) Alexander Woznick kickoff for 53 yds\n",
            "SC  ###  (0:49 - 2nd) Ty Chandler run for 5 yds to the Tenn 30\n",
            "SC  ###  (0:42 - 2nd) Timeout SOUTH CAROLINA, clock 00:42\n",
            "SC  ###  (0:42 - 2nd) Ty Chandler run for 7 yds to the Tenn 37 for a 1ST down\n",
            "SC  ###  (0:42 - 2nd) TEAM run for a loss of 2 yards to the Tenn 35\n",
            "SC  ###  (15:00 - 3rd) Will Tommie kickoff for 65 yds for a touchback\n",
            "SC  ###  (15:00 - 3rd) Jarrett Guarantano pass complete to Ty Chandler for 6 yds to the Tenn 31\n",
            "SC  ###  (15:00 - 3rd) Jarrett Guarantano pass complete to Ty Chandler for 11 yds to the Tenn 42 for a 1ST down\n",
            "SC  ###  (15:00 - 3rd) Jarrett Guarantano pass complete to Josh Palmer for 20 yds to the SCaro 38 for a 1ST down\n",
            "SC  ###  (15:00 - 3rd) Ty Chandler run for 8 yds to the SCaro 30\n",
            "SC  ###  (15:00 - 3rd) Tim Jordan run for 5 yds to the SCaro 25 for a 1ST down\n",
            "SC  ###  (15:00 - 3rd) Jarrett Guarantano pass complete to Tim Jordan for 6 yds to the SCaro 19\n",
            "SC  ###  (15:00 - 3rd) Tim Jordan run for 3 yds to the SCaro 16\n",
            "SC  ###  (15:00 - 3rd) Jarrett Guarantano run for 2 yds to the SCaro 14 for a 1ST down\n",
            "SC  ###  (10:02 - 3rd) Carlin Fils-aime run for 14 yds for a TD, (Brent Cimaglia KICK)\n",
            "TENN  ###  (10:02 - 3rd) Paxton Brooks kickoff for 65 yds , Deebo Samuel return for 34 yds to the SCaro 34\n",
            "TENN  ###  (10:02 - 3rd) Rico Dowdle run for 15 yds to the SCaro 49 for a 1ST down\n",
            "TENN  ###  (10:02 - 3rd) Jake Bentley run for 22 yds to the Tenn 29 for a 1ST down\n",
            "TENN  ###  (10:02 - 3rd) Ty'Son Williams run for 8 yds to the Tenn 21\n",
            "TENN  ###  (10:02 - 3rd) Ty'Son Williams run for 9 yds to the Tenn 12 for a 1ST down\n",
            "TENN  ###  (10:02 - 3rd) Jake Bentley pass complete to Ty'Son Williams for 11 yds to the Tenn 1 for a 1ST down\n",
            "TENN  ###  (10:02 - 3rd) Ty'Son Williams run for no gain to the Tenn 1\n",
            "TENN  ###  (8:05 - 3rd) Rico Dowdle run for 1 yd for a TD, (Parker White KICK)\n",
            "SC  ###  (8:05 - 3rd) Will Tommie kickoff for 65 yds for a touchback\n",
            "SC  ###  (8:05 - 3rd) Jarrett Guarantano pass incomplete to Josh Palmer\n",
            "SC  ###  (8:05 - 3rd) Jarrett Guarantano pass complete to Josh Palmer for 9 yds to the Tenn 34\n",
            "SC  ###  (8:05 - 3rd) Tim Jordan run for 3 yds to the Tenn 37 for a 1ST down\n",
            "SC  ###  (8:05 - 3rd) Jarrett Guarantano pass incomplete to Josh Palmer, broken up by Jaycee Horn\n",
            "SC  ###  (8:05 - 3rd) Jarrett Guarantano pass complete to Jauan Jennings for 16 yds to the SCaro 47 for a 1ST down\n",
            "SC  ###  (8:05 - 3rd) Ty Chandler run for 7 yds to the SCaro 40\n",
            "SC  ###  (8:05 - 3rd) Tim Jordan run for 7 yds to the SCaro 33 for a 1ST down\n",
            "SC  ###  (8:05 - 3rd) Jarrett Guarantano pass complete to Brandon Johnson for 3 yds to the SCaro 30\n",
            "SC  ###  (8:05 - 3rd) Jarrett Guarantano pass complete to Marquez Callaway for 15 yds to the SCaro 15 for a 1ST down\n",
            "SC  ###  (8:05 - 3rd) Tim Jordan run for a loss of 1 yard to the SCaro 16\n",
            "SC  ###  (8:05 - 3rd) Jarrett Guarantano sacked by D.J. Wonnum for a loss of 1 yard to the SCaro 17 TENNESSEE Penalty, unsportsmanlike conduct (Marquez Callaway) to the SCaro 32\n",
            "SC  ###  (8:05 - 3rd) Ty Chandler run for 4 yds to the SCaro 28\n",
            "SC  ###  (1:47 - 3rd) Brent Cimaglia 45 yd FG GOOD\n",
            "TENN  ###  (1:47 - 3rd) Paxton Brooks kickoff for 65 yds for a touchback\n",
            "TENN  ###  (1:47 - 3rd) Timeout SOUTH CAROLINA, clock 01:47\n",
            "TENN  ###  (1:47 - 3rd) Jake Bentley pass complete to Bryan Edwards for 73 yds to the Tenn 2 for a 1ST down\n",
            "TENN  ###  (1:47 - 3rd) Ty'Son Williams run for 1 yd to the Tenn 1\n",
            "TENN  ###  (1:47 - 3rd) Rico Dowdle run for no gain to the Tenn 1\n",
            "TENN  ###  (0:05 - 3rd) Ty'Son Williams run for 1 yd for a TD, (J. Bentley Run For Two-point Conversion)\n",
            "SC  ###  (0:05 - 3rd) Will Tommie kickoff for 65 yds for a touchback\n",
            "SC  ###  (0:05 - 3rd) Ty Chandler run for 2 yds to the Tenn 27\n",
            "SC  ###  End of 3rd Quarter\n",
            "SC  ###  (15:00 - 4th) Jarrett Guarantano pass complete to Tim Jordan for 11 yds to the Tenn 38 for a 1ST down\n",
            "SC  ###  (15:00 - 4th) Jarrett Guarantano pass incomplete to Josh Palmer\n",
            "SC  ###  (15:00 - 4th) Jarrett Guarantano pass complete to Tim Jordan for 8 yds to the Tenn 46\n",
            "SC  ###  (15:00 - 4th) TENNESSEE Penalty, false start (-5 Yards) to the Tenn 41\n",
            "SC  ###  (13:07 - 4th) Timeout SOUTH CAROLINA, clock 13:07\n",
            "SC  ###  (13:07 - 4th) Jarrett Guarantano pass complete to Marquez Callaway for 8 yds to the Tenn 49 for a 1ST down\n",
            "SC  ###  (13:07 - 4th) Tim Jordan run for 6 yds to the SCaro 45\n",
            "SC  ###  (13:07 - 4th) Jarrett Guarantano pass incomplete to Josh Palmer\n",
            "SC  ###  (13:07 - 4th) Jarrett Guarantano pass complete to Marquez Callaway for 7 yds to the SCaro 38 for a 1ST down\n",
            "SC  ###  (13:07 - 4th) Tim Jordan run for 1 yd to the SCaro 37\n",
            "SC  ###  (13:07 - 4th) Jarrett Guarantano pass complete to Ty Chandler for 2 yds to the SCaro 35\n",
            "SC  ###  (13:07 - 4th) Jarrett Guarantano pass incomplete to Marquez Callaway\n",
            "SC  ###  (13:07 - 4th) Jarrett Guarantano pass incomplete, broken up by Javon Kinlaw\n",
            "TENN  ###  (9:47 - 4th) Mon Denson run for 9 yds to the SCaro 44\n",
            "TENN  ###  (9:47 - 4th) Jake Bentley run for 5 yds to the SCaro 49 for a 1ST down\n",
            "TENN  ###  (9:47 - 4th) Jake Bentley pass incomplete to Shi Smith, PENALTY UT pass interference (Buchanan,B.) 15 yards to the UT36, 1ST DOWN SC, NO PLAY.\n",
            "TENN  ###  (9:47 - 4th) Mon Denson run for 9 yds to the Tenn 27\n",
            "TENN  ###  (9:47 - 4th) Mon Denson run for no gain to the Tenn 27\n",
            "TENN  ###  (9:47 - 4th) Mon Denson run for 12 yds to the Tenn 15 for a 1ST down\n",
            "TENN  ###  (9:47 - 4th) Mon Denson run for 1 yd to the Tenn 14\n",
            "TENN  ###  (9:47 - 4th) Mon Denson run for a loss of 1 yard to the Tenn 15\n",
            "TENN  ###  (9:47 - 4th) Jake Bentley pass complete to Josh Vann for 7 yds to the Tenn 8\n",
            "TENN  ###  (5:52 - 4th) Parker White 25 yd FG GOOD\n",
            "SC  ###  (5:52 - 4th) Will Tommie kickoff for 65 yds for a touchback\n",
            "SC  ###  (5:52 - 4th) Tim Jordan run for 8 yds to the Tenn 33\n",
            "SC  ###  (5:52 - 4th) Jarrett Guarantano run for 1 yd to the Tenn 34\n",
            "SC  ###  (5:52 - 4th) Jarrett Guarantano run for 1 yd to the Tenn 35 for a 1ST down\n",
            "SC  ###  (5:52 - 4th) Jarrett Guarantano pass complete to Jauan Jennings for 4 yds to the Tenn 39\n",
            "SC  ###  (5:52 - 4th) Jarrett Guarantano pass incomplete to Marquez Callaway\n",
            "SC  ###  (5:52 - 4th) Jarrett Guarantano pass complete to Marquez Callaway for 12 yds to the SCaro 49 for a 1ST down\n",
            "SC  ###  (5:52 - 4th) Jarrett Guarantano pass incomplete to Jauan Jennings\n",
            "SC  ###  (5:52 - 4th) Ty Chandler run for 5 yds to the SCaro 44\n",
            "SC  ###  (5:52 - 4th) Jarrett Guarantano run for no gain to the SCaro 44\n",
            "SC  ###  (5:52 - 4th) TENNESSEE Penalty, false start (Nathan Niehaus) to the SCaro 49\n",
            "SC  ###  (5:52 - 4th) Jarrett Guarantano sacked by D.J. Wonnum for a loss of 4 yards to the Tenn 47\n",
            "TENN  ###  (1:08 - 4th) Ty'Son Williams run for 1 yd to the Tenn 46\n",
            "TENN  ###  (1:04 - 4th) Timeout TENNESSEE, clock 01:04\n",
            "TENN  ###  (1:04 - 4th) Rico Dowdle run for 30 yds to the Tenn 16 for a 1ST down\n",
            "TENN  ###  (1:04 - 4th) Ty'Son Williams run for 2 yds to the Tenn 14\n",
            "TENN  ###  (0:50 - 4th) Timeout TENNESSEE, clock 00:50\n",
            "TENN  ###  (0:50 - 4th) Timeout SOUTH CAROLINA, clock 00:50\n",
            "TENN  ###  (0:50 - 4th) Ty'Son Williams run for a loss of 4 yards to the Tenn 18\n",
            "TENN  ###  (0:46 - 4th) Timeout TENNESSEE, clock 00:46\n",
            "TENN  ###  (0:46 - 4th) TEAM run for a loss of 8 yards to the Tenn 26\n",
            "TENN  ###  End of 4th Quarter\n",
            "TENN  ###  (15:00 - 1st) Rodrigo Blankenship kickoff for 65 yds for a touchback\n",
            "TENN  ###  (14:45 - 1st) Ty Chandler run for 17 yds to the Tenn 42 for a 1ST down\n",
            "TENN  ###  (14:24 - 1st) Jarrett Guarantano pass complete to Brandon Johnson for no gain to the Tenn 42\n",
            "TENN  ###  (13:49 - 1st) Josh Palmer run for 3 yds to the Tenn 45\n",
            "TENN  ###  (13:18 - 1st) Jarrett Guarantano pass complete to Ty Chandler for 4 yds to the Tenn 49\n",
            "TENN  ###  (12:39 - 1st) Doyle, Joe punt 39 yards to the GEORGIA12, fair catch by Godwin, Terry, PENALTY TENNESSEE illegal formation 5 yards to the TENNESSEE44, NO PLAY.\n",
            "TENN  ###  (12:32 - 1st) Joe Doyle punt for 42 yds, fair catch by Terry Godwin at the Geo 14\n",
            "UGA  ###  (12:19 - 1st) Jake Fromm pass complete to Riley Ridley for 9 yds to the Geo 23\n",
            "UGA  ###  (11:45 - 1st) Elijah Holyfield run for 13 yds to the Geo 36 for a 1ST down\n",
            "UGA  ###  (11:16 - 1st) Elijah Holyfield run for 8 yds to the Geo 44\n",
            "UGA  ###  (10:44 - 1st) Elijah Holyfield run for 2 yds to the Geo 46 for a 1ST down\n",
            "UGA  ###  (10:03 - 1st) Jake Fromm pass complete to D'Andre Swift for 22 yds to the Tenn 32 for a 1ST down\n",
            "UGA  ###  (9:42 - 1st) D'Andre Swift run for 1 yd to the Tenn 31\n",
            "UGA  ###  (9:04 - 1st) Jake Fromm pass incomplete to Riley Ridley\n",
            "UGA  ###  (8:52 - 1st) Jake Fromm sacked for 0 yds by Darrell Taylor, fumbled, recovered by Isaac Nauta, runs 31 Yds for TD (Rodrigo Blankenship Kick)\n",
            "TENN  ###  (8:52 - 1st) Rodrigo Blankenship kickoff for 65 yds for a touchback\n",
            "TENN  ###  (8:43 - 1st) Jarrett Guarantano pass complete to Jauan Jennings for 5 yds to the Tenn 30\n",
            "TENN  ###  (8:01 - 1st) Ty Chandler run for 4 yds to the Tenn 34\n",
            "TENN  ###  (7:33 - 1st) Madre London run for no gain to the Tenn 34\n",
            "TENN  ###  (6:46 - 1st) TENNESSEE Penalty, Illegal Formation (-5 Yards) to the Tenn 29\n",
            "TENN  ###  (6:35 - 1st) Joe Doyle punt for 71 yds for a touchback TENNESSEE Penalty, Illegal Batting (-5 Yards)\n",
            "UGA  ###  (6:27 - 1st) D'Andre Swift run for 2 yds to the Geo 27\n",
            "UGA  ###  (5:55 - 1st) Jake Fromm pass complete to Mecole Hardman for 7 yds to the Geo 34\n",
            "UGA  ###  (5:29 - 1st) Brian Herrien run for 3 yds to the Geo 37 for a 1ST down\n",
            "UGA  ###  (4:54 - 1st) Jake Fromm pass complete to James Cook for 5 yds to the Geo 42\n",
            "UGA  ###  (4:15 - 1st) Jake Fromm run for a loss of 2 yards to the Geo 40\n",
            "UGA  ###  (3:46 - 1st) Jake Fromm pass incomplete to D'Andre Swift\n",
            "UGA  ###  (3:46 - 1st) GEORGIA Penalty, Delay of Game (-5 Yards) to the Geo 35\n",
            "UGA  ###  (3:39 - 1st) Jake Camarda punt for 49 yds, fair catch by Marquez Callaway at the Tenn 16\n",
            "TENN  ###  (3:28 - 1st) Ty Chandler run for no gain to the Tenn 16\n",
            "TENN  ###  (2:50 - 1st) Jarrett Guarantano pass complete to Ty Chandler for 9 yds to the Tenn 25\n",
            "TENN  ###  (2:21 - 1st) Jarrett Guarantano pass incomplete to Austin Pope\n",
            "TENN  ###  (2:12 - 1st) Joe Doyle punt for 35 yds, punt out-of-bounds at the Geo 40\n",
            "UGA  ###  (2:07 - 1st) Elijah Holyfield run for 7 yds to the Geo 47\n",
            "UGA  ###  (1:55 - 1st) Elijah Holyfield run for a loss of 1 yard to the Geo 46\n",
            "UGA  ###  (0:42 - 1st) Jake Fromm pass complete to Mecole Hardman for 16 yds to the Tenn 38 for a 1ST down\n",
            "UGA  ###  (0:00 - 1st) D'Andre Swift run for 3 yds to the Tenn 35\n",
            "UGA  ###  End of 1st Quarter\n",
            "UGA  ###  (14:50 - 2nd) Jake Fromm pass complete to Terry Godwin for 15 yds to the Tenn 20 for a 1ST down\n",
            "UGA  ###  (14:15 - 2nd) Brian Herrien run for 2 yds to the Tenn 18\n",
            "UGA  ###  (13:36 - 2nd) D'Andre Swift run for 7 yds to the Tenn 11\n",
            "UGA  ###  (13:00 - 2nd) GEORGIA Penalty, False Start (-5 Yards) to the Tenn 16\n",
            "UGA  ###  (12:35 - 2nd) Jake Fromm sacked by Darrell Taylor for a loss of 9 yards to the Tenn 25 Jake Fromm fumbled, forced by Darrell Taylor, recovered by Geo Lamont Gaillard , return for 0 yards\n",
            "UGA  ###  (11:57 - 2nd) Rodrigo Blankenship 43 yd FG GOOD\n",
            "TENN  ###  (11:57 - 2nd) Rodrigo Blankenship kickoff for 65 yds for a touchback\n",
            "TENN  ###  (11:49 - 2nd) Tim Jordan run for 5 yds to the Tenn 30\n",
            "TENN  ###  (11:11 - 2nd) Jarrett Guarantano pass incomplete to Brandon Johnson\n",
            "TENN  ###  (11:04 - 2nd) Jarrett Guarantano pass complete to Jauan Jennings for 12 yds to the Tenn 42 for a 1ST down\n",
            "TENN  ###  (10:56 - 2nd) TENNESSEE Penalty, False Start (Drew Richmond) to the Tenn 37\n",
            "TENN  ###  (10:33 - 2nd) Ty Chandler run for 8 yds to the Tenn 45\n",
            "TENN  ###  (10:13 - 2nd) Jarrett Guarantano pass incomplete to Dominick Wood-Anderson\n",
            "TENN  ###  (10:08 - 2nd) Jarrett Guarantano pass incomplete to Dominick Wood-Anderson\n",
            "TENN  ###  (9:59 - 2nd) Joe Doyle punt for 55 yds for a touchback\n",
            "UGA  ###  (9:49 - 2nd) Elijah Holyfield run for 4 yds to the Geo 24\n",
            "UGA  ###  (9:22 - 2nd) Jake Fromm pass complete to Jeremiah Holloman for 23 yds to the Geo 47 for a 1ST down\n",
            "UGA  ###  (8:57 - 2nd) Jake Fromm pass incomplete to Terry Godwin\n",
            "UGA  ###  (8:52 - 2nd) Jake Fromm pass incomplete to Mecole Hardman\n",
            "UGA  ###  (8:45 - 2nd) Jake Fromm pass incomplete to Jeremiah Holloman\n",
            "UGA  ###  (8:37 - 2nd) Jake Camarda punt for 53 yds for a touchback\n",
            "TENN  ###  (8:28 - 2nd) Jarrett Guarantano pass complete to Marquez Callaway for 8 yds to the Tenn 28\n",
            "TENN  ###  (7:57 - 2nd) Tim Jordan run for 2 yds to the Tenn 30 for a 1ST down\n",
            "TENN  ###  (7:41 - 2nd) Tim Jordan run for 1 yd to the Tenn 31\n",
            "TENN  ###  (7:09 - 2nd) Jarrett Guarantano sacked by D'Andre Walker for a loss of 6 yards to the Tenn 25\n",
            "TENN  ###  (6:25 - 2nd) Ty Chandler run for a loss of 2 yards to the Tenn 23\n",
            "TENN  ###  (5:45 - 2nd) GEORGIA Penalty, Running Into Kicker (Eric Stokes) to the Tenn 28\n",
            "TENN  ###  (5:37 - 2nd) Joe Doyle punt for 42 yds, punt out-of-bounds at the Geo 30\n",
            "UGA  ###  (5:29 - 2nd) Elijah Holyfield run for 5 yds to the Geo 35\n",
            "UGA  ###  (5:11 - 2nd) Elijah Holyfield run for 6 yds to the Geo 41 for a 1ST down\n",
            "UGA  ###  (4:45 - 2nd) Justin Fields pass complete to Riley Ridley for 5 yds to the Geo 46\n",
            "UGA  ###  (4:09 - 2nd) Justin Fields run for 13 yds to the Tenn 41 for a 1ST down\n",
            "UGA  ###  (3:47 - 2nd) GEORGIA Penalty, Illegal Formation (-5 Yards) to the Tenn 46\n",
            "UGA  ###  (3:22 - 2nd) Justin Fields pass incomplete to Jayson Stanley\n",
            "UGA  ###  (3:16 - 2nd) Brian Herrien run for 9 yds to the Tenn 37\n",
            "UGA  ###  (2:40 - 2nd) TENNESSEE Penalty, Defensive Offside (5 Yards) to the Tenn 32\n",
            "UGA  ###  (2:29 - 2nd) Elijah Holyfield run for no gain to the Tenn 32\n",
            "UGA  ###  (2:03 - 2nd) Timeout TENNESSEE, clock 02:03\n",
            "UGA  ###  (1:57 - 2nd) Brian Herrien run for 6 yds to the Tenn 26 for a 1ST down\n",
            "UGA  ###  (1:23 - 2nd) Jake Fromm pass complete to Riley Ridley for 12 yds to the Tenn 14 for a 1ST down\n",
            "UGA  ###  (1:15 - 2nd) Jake Fromm pass complete to Jeremiah Holloman for 12 yds to the Tenn 2 for a 1ST down\n",
            "UGA  ###  (1:10 - 2nd) Team fumbled, recovered by Elijah Holyfield, run for 1 yd to the Tenn 1\n",
            "UGA  ###  (0:30 - 2nd) D'Andre Swift run for 1 yd for a TD, (Rodrigo Blankenship KICK)\n",
            "TENN  ###  (0:30 - 2nd) Rodrigo Blankenship kickoff for 65 yds for a touchback\n",
            "TENN  ###  (0:00 - 2nd) TEAM run for a loss of 2 yards to the Tenn 23\n",
            "UGA  ###  (15:00 - 3rd) Paxton Brooks kickoff for 65 yds for a touchback\n",
            "UGA  ###  (14:53 - 3rd) Elijah Holyfield run for 3 yds to the Geo 28\n",
            "UGA  ###  (14:21 - 3rd) Jake Fromm pass complete to Terry Godwin for 11 yds to the Geo 39 for a 1ST down\n",
            "UGA  ###  (13:55 - 3rd) D'Andre Swift run for 4 yds to the Geo 43\n",
            "UGA  ###  (13:10 - 3rd) Jake Fromm pass complete to Isaac Nauta for 17 yds to the Tenn 40 for a 1ST down\n",
            "UGA  ###  (12:40 - 3rd) D'Andre Swift run for 3 yds to the Tenn 37\n",
            "UGA  ###  (12:00 - 3rd) Jake Fromm pass complete to Mecole Hardman for 4 yds to the Tenn 33\n",
            "UGA  ###  (11:29 - 3rd) Elijah Holyfield run for 7 yds to the Tenn 26 for a 1ST down\n",
            "UGA  ###  (10:44 - 3rd) Jake Fromm pass complete to Charlie Woerner for 8 yds to the Tenn 18\n",
            "UGA  ###  (10:13 - 3rd) Brian Herrien run for 6 yds to the Tenn 12 for a 1ST down\n",
            "UGA  ###  (9:52 - 3rd) Justin Fields run for 12 yds for a TD, (Rodrigo Blankenship KICK)\n",
            "TENN  ###  (9:52 - 3rd) Rodrigo Blankenship kickoff for 65 yds for a touchback\n",
            "TENN  ###  (9:45 - 3rd) Jarrett Guarantano pass incomplete to Josh Palmer\n",
            "TENN  ###  (9:23 - 3rd) Jeremy Banks run for 2 yds to the Tenn 27\n",
            "TENN  ###  (8:55 - 3rd) Jarrett Guarantano pass complete to Marquez Callaway for 13 yds to the Tenn 40 for a 1ST down\n",
            "TENN  ###  (8:25 - 3rd) Jarrett Guarantano pass incomplete\n",
            "TENN  ###  (8:15 - 3rd) Jeremy Banks run for no gain to the Geo 40 for a 1ST down GEORGIA Penalty, Personal Foul (D'Andre Walker) to the Geo 45 for a 1ST down\n",
            "TENN  ###  (7:53 - 3rd) Josh Palmer run for 1 yd to the Geo 44\n",
            "TENN  ###  (7:17 - 3rd) Jarrett Guarantano pass complete to Ty Chandler for 5 yds to the Geo 39\n",
            "TENN  ###  (6:43 - 3rd) Jeremy Banks run for a loss of 1 yard to the Geo 40\n",
            "TENN  ###  (6:03 - 3rd) Guarantano, Jarrett pass incomplete to Palmer, Josh, PENALTY GEORGIA pass interference (Campbell, Tyson) 5 yards to the GEORGIA35, NO PLAY, 1ST DOWN TENNESSEE.\n",
            "TENN  ###  (5:51 - 3rd) Jarrett Guarantano pass complete to Brandon Johnson for a loss of 2 yards to the Geo 37\n",
            "TENN  ###  (5:14 - 3rd) Jarrett Guarantano pass complete to Josh Palmer for 37 yds for a TD, (Two-Point Conversion failed )\n",
            "TENN  ###  (5:14 - 3rd) Timeout GEORGIA, clock 05:14\n",
            "UGA  ###  (5:14 - 3rd) Paxton Brooks kickoff for 64 yds for a touchback\n",
            "UGA  ###  (5:08 - 3rd) D'Andre Swift run for no gain to the Geo 25\n",
            "UGA  ###  (4:22 - 3rd) Elijah Holyfield run for 2 yds to the Geo 27\n",
            "UGA  ###  (3:54 - 3rd) Jake Fromm pass complete to Mecole Hardman for 16 yds to the Geo 43 for a 1ST down\n",
            "UGA  ###  (3:32 - 3rd) Elijah Holyfield run for 1 yd to the Geo 44\n",
            "UGA  ###  (2:54 - 3rd) Jake Fromm sacked by Darrell Taylor for a loss of 6 yards to the Geo 38\n",
            "UGA  ###  (2:11 - 3rd) D'Andre Swift run for 9 yds to the Geo 47\n",
            "UGA  ###  (1:30 - 3rd) Jake Camarda punt for 21 yds, punt out-of-bounds at the Tenn 32\n",
            "TENN  ###  (1:16 - 3rd) Jarrett Guarantano pass complete to Dominick Wood-Anderson for 7 yds to the Tenn 39\n",
            "TENN  ###  (0:54 - 3rd) Jeremy Banks run for 10 yds to the Tenn 49 for a 1ST down\n",
            "TENN  ###  (0:00 - 3rd) Jeremy Banks run for 1 yd to the 50 yard line\n",
            "TENN  ###  End of 3rd Quarter\n",
            "TENN  ###  (14:57 - 4th) Jarrett Guarantano pass incomplete to Tyler Byrd\n",
            "TENN  ###  (14:57 - 4th) Timeout GEORGIA, clock 14:57\n",
            "TENN  ###  (14:51 - 4th) Jarrett Guarantano pass incomplete to Jauan Jennings\n",
            "TENN  ###  (14:51 - 4th) Timeout GEORGIA, clock 14:51\n",
            "TENN  ###  (14:43 - 4th) Joe Doyle punt for 35 yds, fair catch by Terry Godwin at the Geo 15\n",
            "UGA  ###  (14:33 - 4th) Jake Fromm run for 3 yds to the Geo 18\n",
            "UGA  ###  (14:07 - 4th) Jake Fromm pass complete to Brian Herrien for a loss of 2 yards to the Geo 16\n",
            "UGA  ###  (13:42 - 4th) Jake Fromm pass incomplete to Mecole Hardman\n",
            "UGA  ###  (13:34 - 4th) Jake Camarda punt for 41 yds, punt out-of-bounds at the Tenn 43\n",
            "TENN  ###  (13:26 - 4th) Jarrett Guarantano pass complete to Dominick Wood-Anderson for 10 yds to the Geo 47 for a 1ST down\n",
            "TENN  ###  (13:05 - 4th) Tim Jordan run for 4 yds to the Geo 43\n",
            "TENN  ###  (12:31 - 4th) Tim Jordan run for 10 yds to the Geo 33 for a 1ST down\n",
            "TENN  ###  (11:55 - 4th) Jarrett Guarantano sacked by Julian Rochester and Tyler Clark for a loss of 2 yards to the Geo 35\n",
            "TENN  ###  (11:10 - 4th) Jarrett Guarantano pass complete to Ty Chandler for 35 yds for a TD, (Two-Point Conversion failed )\n",
            "UGA  ###  (11:10 - 4th) Paxton Brooks kickoff for 65 yds for a touchback\n",
            "UGA  ###  (11:04 - 4th) Elijah Holyfield run for 4 yds to the Geo 29\n",
            "UGA  ###  (10:31 - 4th) Demetris Robertson run for 2 yds to the Geo 31\n",
            "UGA  ###  (9:57 - 4th) Jake Fromm pass complete to Riley Ridley for 10 yds to the Geo 41 for a 1ST down\n",
            "UGA  ###  (9:28 - 4th) Justin Fields run for 6 yds to the Geo 47\n",
            "UGA  ###  (8:52 - 4th) D'Andre Swift run for 2 yds to the Geo 49\n",
            "UGA  ###  (8:19 - 4th) D'Andre Swift run for 4 yds to the Tenn 47 for a 1ST down\n",
            "UGA  ###  (7:35 - 4th) James Cook run for 4 yds to the Tenn 43\n",
            "UGA  ###  (6:55 - 4th) Brian Herrien run for 11 yds to the Tenn 32 for a 1ST down\n",
            "UGA  ###  (6:12 - 4th) Justin Fields run for a loss of 1 yard to the Tenn 33 Justin Fields fumbled, recovered by Geo Justin Fields\n",
            "UGA  ###  (5:35 - 4th) Brian Herrien run for 9 yds to the Tenn 24\n",
            "UGA  ###  (4:56 - 4th) Brian Herrien run for 6 yds to the Tenn 18 for a 1ST down\n",
            "UGA  ###  (4:15 - 4th) Brian Herrien run for 4 yds to the Tenn 14\n",
            "UGA  ###  (3:31 - 4th) D'Andre Swift run for 14 yds for a TD, (Rodrigo Blankenship KICK)\n",
            "TENN  ###  (3:31 - 4th) Rodrigo Blankenship kickoff for 65 yds for a touchback\n",
            "TENN  ###  (3:24 - 4th) Jeremy Banks run for 6 yds to the Tenn 31 Jeremy Banks fumbled, forced by D'Andre Walker, recovered by Geo Juwan Taylor\n",
            "UGA  ###  (3:15 - 4th) Elijah Holyfield run for 16 yds to the Tenn 15 for a 1ST down\n",
            "UGA  ###  (2:41 - 4th) Justin Fields run for 15 yds for a TD, (Rodrigo Blankenship KICK)\n",
            "TENN  ###  (2:41 - 4th) Rodrigo Blankenship kickoff for 65 yds for a touchback\n",
            "TENN  ###  (2:33 - 4th) Tim Jordan run for a loss of 1 yard to the Tenn 24\n",
            "TENN  ###  (2:07 - 4th) Madre London run for 1 yd to the Tenn 25\n",
            "TENN  ###  (1:25 - 4th) Madre London run for 5 yds to the Tenn 30\n",
            "TENN  ###  (0:44 - 4th) Joe Doyle punt for 50 yds, punt out-of-bounds at the Geo 20\n",
            "UGA  ###  (0:00 - 4th) TEAM run for a loss of 1 yard to the Geo 19\n",
            "UGA  ###  End of 4th Quarter\n",
            "ETSU  ###  (15:00 - 1st) Paxton Brooks kickoff for 65 yds , Tyree Robinson return for 18 yds to the ETnSt 18\n",
            "ETSU  ###  (15:00 - 1st) Quay Holmes run for 2 yds to the ETnSt 20\n",
            "ETSU  ###  (15:00 - 1st) Logan Marchi run for a loss of 4 yards to the ETnSt 16\n",
            "ETSU  ###  (15:00 - 1st) Logan Marchi pass complete to Quan Harrison for 8 yds to the ETnSt 24\n",
            "ETSU  ###  (15:00 - 1st) Marion Watson punt for 43 yds, downed at the Tenn 33\n",
            "TENN  ###  (12:39 - 1st) Tim Jordan run for 3 yds to the Tenn 36\n",
            "TENN  ###  (12:39 - 1st) Jarrett Guarantano pass incomplete, broken up by Blake Bockrath\n",
            "TENN  ###  (12:39 - 1st) Jarrett Guarantano pass complete to Marquez Callaway for 9 yds to the Tenn 45 for a 1ST down\n",
            "TENN  ###  (12:39 - 1st) Jarrett Guarantano pass complete to Josh Palmer for 51 yds to the ETnSt 4 for a 1ST down\n",
            "TENN  ###  (12:39 - 1st) Tim Jordan run for a loss of 3 yards to the ETnSt 7\n",
            "TENN  ###  (12:39 - 1st) Tim Jordan run for a loss of 7 yards to the ETnSt 14\n",
            "TENN  ###  (12:39 - 1st) Jarrett Guarantano pass incomplete to Dominick Wood-Anders, PENALTY ETSU offside defense (Blake Bockrath) 5 yards to the ETSU9, NO PLAY.\n",
            "TENN  ###  (12:39 - 1st) Jarrett Guarantano pass incomplete\n",
            "TENN  ###  (9:32 - 1st) Brent Cimaglia 26 yd FG GOOD\n",
            "ETSU  ###  (9:32 - 1st) Paxton Brooks kickoff for 65 yds for a touchback\n",
            "ETSU  ###  (9:32 - 1st) Logan Marchi pass incomplete\n",
            "ETSU  ###  (9:32 - 1st) Logan Marchi pass complete to Keith Coffee for 3 yds to the ETnSt 28\n",
            "ETSU  ###  (9:32 - 1st) Logan Marchi pass incomplete\n",
            "ETSU  ###  (9:32 - 1st) Marion Watson punt for 33 yds , Marquez Callaway returns for a loss of 1 yard to the Tenn 38\n",
            "TENN  ###  (8:32 - 1st) Tim Jordan run for 4 yds to the Tenn 42\n",
            "TENN  ###  (8:32 - 1st) TENNESSEE Penalty, false start (-5 Yards) to the Tenn 37\n",
            "TENN  ###  (8:32 - 1st) Tim Jordan run for 4 yds to the Tenn 41\n",
            "TENN  ###  (8:32 - 1st) Jarrett Guarantano pass complete to Jordan Murphy for 11 yds to the ETnSt 48 for a 1ST down\n",
            "TENN  ###  (8:32 - 1st) Tim Jordan run for 4 yds to the ETnSt 44\n",
            "TENN  ###  (8:32 - 1st) Madre London run for no gain to the ETnSt 44\n",
            "TENN  ###  (8:32 - 1st) Jarrett Guarantano pass complete to Marquez Callaway for a loss of 2 yards to the ETnSt 46\n",
            "TENN  ###  (8:32 - 1st) Joe Doyle punt for 46 yds for a touchback\n",
            "ETSU  ###  (4:19 - 1st) Logan Marchi pass complete to Keith Coffee for 3 yds to the ETnSt 23\n",
            "ETSU  ###  (4:19 - 1st) Quay Holmes run for 3 yds to the ETnSt 26\n",
            "ETSU  ###  (4:19 - 1st) Logan Marchi pass incomplete to Keith Coffee, broken up by Bryce Thompson\n",
            "ETSU  ###  (2:49 - 1st) TEAM punt blocked by Marquill Osborne blocked by Marquill Osborne  Marquill Osborne return for 8 yds for a TD, (Brent Cimaglia KICK)\n",
            "ETSU  ###  (2:49 - 1st) Paxton Brooks kickoff for 65 yds\n",
            "ETSU  ###  (2:49 - 1st) EAST TENN ST Penalty, delay of game (-5 Yards) to the ETnSt 20\n",
            "ETSU  ###  (2:49 - 1st) Logan Marchi pass complete to Keith Coffee for 16 yds to the ETnSt 36 for a 1ST down\n",
            "ETSU  ###  (2:49 - 1st) Logan Marchi pass incomplete to Quan Harrison\n",
            "ETSU  ###  (2:49 - 1st) Logan Marchi pass complete to Keith Coffee for 8 yds to the ETnSt 44\n",
            "ETSU  ###  (2:49 - 1st) Matt Thompson run for a loss of 1 yard to the ETnSt 43\n",
            "ETSU  ###  (2:49 - 1st) EAST TENN ST Penalty, delay of game (-5 Yards) to the ETnSt 38\n",
            "ETSU  ###  (2:49 - 1st) Marion Watson punt for 40 yds, fair catch by Marquez Callaway at the Tenn 22\n",
            "TENN  ###  (0:25 - 1st) Jarrett Guarantano sacked by Jason Maduafokwa for a loss of 6 yards to the Tenn 16\n",
            "TENN  ###  End of 1st Quarter\n",
            "TENN  ###  (15:00 - 2nd) Jarrett Guarantano pass complete to Jordan Murphy for 14 yds to the Tenn 30\n",
            "TENN  ###  (15:00 - 2nd) Jarrett Guarantano pass incomplete to Jordan Murphy\n",
            "TENN  ###  (15:00 - 2nd) Joe Doyle punt for 52 yds, fair catch by Tyree Robinson at the ETnSt 18\n",
            "ETSU  ###  (14:15 - 2nd) Logan Marchi pass complete to Ari Werts for 6 yds to the ETnSt 24\n",
            "ETSU  ###  (14:15 - 2nd) Logan Marchi pass complete to Ari Werts for 7 yds to the ETnSt 31 for a 1ST down\n",
            "ETSU  ###  (14:15 - 2nd) Logan Marchi pass incomplete, broken up by Kyle Phillips\n",
            "ETSU  ###  (14:15 - 2nd) Quay Holmes run for no gain to the ETnSt 31\n",
            "ETSU  ###  (14:15 - 2nd) Logan Marchi pass incomplete to Ari Werts\n",
            "ETSU  ###  (14:15 - 2nd) Marion Watson punt for 51 yds, downed at the Tenn 18\n",
            "TENN  ###  (12:01 - 2nd) Jeremy Banks run for 15 yds to the Tenn 33 for a 1ST down\n",
            "TENN  ###  (12:01 - 2nd) EAST TENN ST Penalty, offside defense (Tremond Ferrell) to the Tenn 38\n",
            "TENN  ###  (12:01 - 2nd) Jeremy Banks run for 1 yd to the Tenn 39\n",
            "TENN  ###  (12:01 - 2nd) Jeremy Banks run for no gain to the Tenn 39\n",
            "TENN  ###  (12:01 - 2nd) Jarrett Guarantano pass incomplete to Marquez Callaway, PENALTY ETSU pass interference (Jeremy Lewis) 9 yards to the UT48, 1ST DOWN UT, NO PLAY.\n",
            "TENN  ###  (12:01 - 2nd) Jarrett Guarantano pass complete to Marquez Callaway for 51 yds to the TENNESSEE 1 for a 1ST down EAST TENN ST Penalty, Defensive pass interference ( Yards) declined for a 1ST down\n",
            "TENN  ###  (12:01 - 2nd) Tim Jordan run for no gain to the ETnSt 1\n",
            "TENN  ###  (9:27 - 2nd) Jeremy Banks run for 1 yd for a TD, (Brent Cimaglia KICK)\n",
            "ETSU  ###  (9:27 - 2nd) Paxton Brooks kickoff for 65 yds for a touchback\n",
            "ETSU  ###  (9:27 - 2nd) Logan Marchi pass intercepted Bryce Thompson return for 21 yds to the ETnSt 3\n",
            "TENN  ###  (9:12 - 2nd) Jeremy Banks run for 3 yds for a TD, (Brent Cimaglia KICK)\n",
            "ETSU  ###  (9:12 - 2nd) Paxton Brooks kickoff for 65 yds for a touchback\n",
            "ETSU  ###  (9:12 - 2nd) Quay Holmes run for 6 yds to the ETnSt 31\n",
            "ETSU  ###  (9:12 - 2nd) Quay Holmes run for a loss of 1 yard to the ETnSt 30\n",
            "ETSU  ###  (7:41 - 2nd) Logan Marchi pass intercepted for a TD Darrin Kirkland Jr. return for 33 yds for a TD, (Brent Cimaglia KICK)\n",
            "ETSU  ###  (7:41 - 2nd) Paxton Brooks kickoff for 65 yds\n",
            "ETSU  ###  (7:41 - 2nd) Quay Holmes run for 3 yds to the ETnSt 28\n",
            "ETSU  ###  (7:41 - 2nd) Logan Marchi pass incomplete to Keith Coffee\n",
            "ETSU  ###  (7:41 - 2nd) Quay Holmes run for a loss of 1 yard to the ETnSt 27\n",
            "ETSU  ###  (7:41 - 2nd) JJ Jerman punt for 42 yds, downed at the Tenn 31\n",
            "TENN  ###  (6:04 - 2nd) Tim Jordan run for 12 yds to the Tenn 43 for a 1ST down\n",
            "TENN  ###  (6:04 - 2nd) Tim Jordan run for 16 yds to the ETnSt 41 for a 1ST down\n",
            "TENN  ###  (6:04 - 2nd) Jeremy Banks run for a loss of 1 yard to the ETnSt 42\n",
            "TENN  ###  (6:04 - 2nd) Keller Chryst pass complete to Dominick Wood-Anderson for 12 yds to the ETnSt 30 for a 1ST down\n",
            "TENN  ###  (6:04 - 2nd) Jeremy Banks run for 8 yds to the ETnSt 22\n",
            "TENN  ###  (6:04 - 2nd) Madre London run for 2 yds to the ETnSt 20 for a 1ST down\n",
            "TENN  ###  (3:00 - 2nd) Josh Palmer run for 20 yds for a TD, (Brent Cimaglia KICK)\n",
            "ETSU  ###  (3:00 - 2nd) Paxton Brooks kickoff for 59 yds\n",
            "ETSU  ###  (3:00 - 2nd) Quay Holmes run for 18 yds to the Tenn 47 for a 1ST down\n",
            "ETSU  ###  (3:00 - 2nd) Quay Holmes run for 6 yds to the Tenn 41\n",
            "ETSU  ###  (3:00 - 2nd) Jacob Saylors run for 3 yds to the Tenn 38\n",
            "ETSU  ###  (3:00 - 2nd) Logan Marchi pass incomplete to Haddon Hill, broken up by Alontae Taylor\n",
            "ETSU  ###  (3:00 - 2nd) Logan Marchi run for 6 yds to the Tenn 32 for a 1ST down\n",
            "ETSU  ###  (3:00 - 2nd) Logan Marchi pass incomplete, broken up by Alexis Johnson Jr.\n",
            "ETSU  ###  (3:00 - 2nd) Quay Holmes run for a loss of 1 yard to the Tenn 33\n",
            "ETSU  ###  (0:33 - 2nd) Timeout EAST TENN ST, clock 00:33\n",
            "ETSU  ###  (0:33 - 2nd) Logan Marchi pass incomplete to Anthony Spagnoletti\n",
            "ETSU  ###  (0:33 - 2nd) Logan Marchi pass complete to Logan Marchi for a loss of 2 yards to the Tenn 35\n",
            "TENN  ###  (0:33 - 2nd) TEAM run for a loss of 2 yards to the Tenn 33\n",
            "TENN  ###  (15:00 - 3rd) Landon Kunak kickoff for 65 yds for a touchback\n",
            "TENN  ###  (15:00 - 3rd) Tim Jordan run for 3 yds to the Tenn 28\n",
            "TENN  ###  (15:00 - 3rd) Tim Jordan run for no gain to the Tenn 28\n",
            "TENN  ###  (15:00 - 3rd) Jarrett Guarantano pass complete to Marquez Callaway for 8 yds to the Tenn 36 for a 1ST down\n",
            "TENN  ###  (15:00 - 3rd) Jarrett Guarantano pass incomplete to Josh Palmer, broken up by Tyree Robinson\n",
            "TENN  ###  (15:00 - 3rd) Madre London run for 34 yds to the ETnSt 30 for a 1ST down\n",
            "TENN  ###  (15:00 - 3rd) Jeremy Banks run for 3 yds to the ETnSt 27\n",
            "TENN  ###  (15:00 - 3rd) Jarrett Guarantano pass incomplete to Marquez Callaway, broken up by Jeremy Lewis\n",
            "TENN  ###  (15:00 - 3rd) Tim Jordan run for 12 yds to the ETnSt 15 for a 1ST down\n",
            "TENN  ###  (15:00 - 3rd) Jarrett Guarantano pass complete to Marquez Callaway for 12 yds to the ETnSt 3 for a 1ST down\n",
            "TENN  ###  (10:58 - 3rd) Madre London run for 3 yds for a TD, (Brent Cimaglia KICK)\n",
            "ETSU  ###  (10:58 - 3rd) Paxton Brooks kickoff for 64 yds\n",
            "ETSU  ###  (10:58 - 3rd) Logan Marchi pass complete to Jacob Saylors for no gain to the ETnSt 25\n",
            "ETSU  ###  (10:58 - 3rd) Logan Marchi run for 7 yds to the ETnSt 32\n",
            "ETSU  ###  (10:58 - 3rd) Logan Marchi pass complete to Ari Werts for 5 yds to the ETnSt 37 for a 1ST down\n",
            "ETSU  ###  (10:58 - 3rd) Jacob Saylors run for 23 yds to the Tenn 40 for a 1ST down\n",
            "ETSU  ###  (10:58 - 3rd) Jacob Saylors run for 2 yds to the Tenn 38\n",
            "ETSU  ###  (10:58 - 3rd) Logan Marchi pass incomplete to Keith Coffee\n",
            "ETSU  ###  (10:58 - 3rd) Logan Marchi pass complete to Jacob Saylors for 18 yds to the Tenn 20 for a 1ST down\n",
            "ETSU  ###  (10:58 - 3rd) Jacob Saylors run for a loss of 1 yard to the Tenn 21\n",
            "ETSU  ###  (10:58 - 3rd) Logan Marchi pass incomplete to Keith Coffee\n",
            "ETSU  ###  (10:58 - 3rd) Logan Marchi pass incomplete to Quan Harrison\n",
            "ETSU  ###  (6:01 - 3rd) JJ Jerman 39 yd FG GOOD\n",
            "TENN  ###  (6:01 - 3rd) Landon Kunak kickoff for 65 yds\n",
            "TENN  ###  (6:01 - 3rd) Jeremy Banks run for no gain to the Tenn 25\n",
            "TENN  ###  (6:01 - 3rd) Jeremy Banks run for 8 yds to the Tenn 33\n",
            "TENN  ###  (6:01 - 3rd) Tim Jordan run for 1 yd to the Tenn 34\n",
            "TENN  ###  (4:12 - 3rd) Timeout EAST TENN ST, clock 04:12\n",
            "TENN  ###  (4:12 - 3rd) TENNESSEE Penalty, false start (-4 Yards) to the Tenn 30\n",
            "TENN  ###  (4:12 - 3rd) Joe Doyle punt for 39 yds\n",
            "ETSU  ###  (4:02 - 3rd) Jacob Saylors run for 4 yds to the ETnSt 35\n",
            "ETSU  ###  (4:02 - 3rd) Jacob Saylors run for 7 yds to the ETnSt 42 for a 1ST down\n",
            "ETSU  ###  (4:02 - 3rd) Austin Herink pass complete to Nate Adkins for a loss of 3 yards to the ETnSt 39\n",
            "ETSU  ###  (4:02 - 3rd) Austin Herink pass complete to Kobe Kelley for 12 yards to the UT49 (Shawn Shamburger), PENALTY ETSU holding (Matt Pyke) 10 yards to the ETSU29, NO PLAY.\n",
            "ETSU  ###  (4:02 - 3rd) Austin Herink run for 33 yds to the Tenn 38 for a 1ST down\n",
            "ETSU  ###  (4:02 - 3rd) Jacob Saylors run for 4 yds to the Tenn 34\n",
            "ETSU  ###  (4:02 - 3rd) Jacob Saylors run for a loss of 1 yard to the Tenn 35\n",
            "ETSU  ###  (4:02 - 3rd) Austin Herink pass incomplete to Quan Harrison\n",
            "ETSU  ###  End of 3rd Quarter\n",
            "ETSU  ###  (15:00 - 4th) Austin Herink pass incomplete\n",
            "TENN  ###  (14:52 - 4th) Keller Chryst pass complete to Jauan Jennings for 8 yds to the Tenn 43\n",
            "TENN  ###  (14:52 - 4th) Tim Jordan run for 7 yds to the 50 yard line for a 1ST down\n",
            "TENN  ###  (13:34 - 4th) Keller Chryst pass complete to Jordan Murphy for 50 yds for a TD, (Brent Cimaglia KICK)\n",
            "ETSU  ###  (13:34 - 4th) Paxton Brooks kickoff for 65 yds for a touchback\n",
            "ETSU  ###  (13:34 - 4th) Matt Thompson run for 5 yds to the ETnSt 30\n",
            "ETSU  ###  (13:34 - 4th) Matt Thompson run for no gain to the ETnSt 30\n",
            "ETSU  ###  (13:34 - 4th) Austin Herink sacked by Emmit Gooden for a loss of 6 yards to the ETnSt 24\n",
            "ETSU  ###  (13:34 - 4th) Marion Watson punt for 46 yds, fair catch by Marquez Callaway at the Tenn 30\n",
            "TENN  ###  (11:24 - 4th) Tim Jordan run for 9 yds to the Tenn 39\n",
            "TENN  ###  (11:24 - 4th) Jeremy Banks run for 10 yds to the Tenn 49 for a 1ST down\n",
            "TENN  ###  (11:24 - 4th) Jeremy Banks run for 5 yds to the ETnSt 46\n",
            "TENN  ###  (11:24 - 4th) Madre London rush for loss of 4 yards to the 50 yardline (Jason Maduafokwa), PENALTY UT holding (K'Rojhn Calbert) 10 yards to the UT44, NO PLAY.\n",
            "TENN  ###  (11:24 - 4th) Madre London run for a loss of 1 yard to the Tenn 43\n",
            "TENN  ###  (11:24 - 4th) Princeton Fant run for 6 yds to the Tenn 49\n",
            "TENN  ###  (11:24 - 4th) Joe Doyle punt for 34 yds , MJ Woods returns for no gain to the ETnSt 20 MJ Woods fumbled, recovered by Tenn Micah Abernathy\n",
            "TENN  ###  (7:00 - 4th) Jeremy Banks run for 9 yds to the ETnSt 10\n",
            "TENN  ###  (7:00 - 4th) Princeton Fant run for 2 yds to the ETnSt 8 for a 1ST down\n",
            "TENN  ###  (7:00 - 4th) Princeton Fant run for a loss of 1 yard to the ETnSt 9\n",
            "TENN  ###  (7:00 - 4th) Madre London run for 1 yd to the ETnSt 8\n",
            "TENN  ###  (7:00 - 4th) Madre London run for 4 yds to the ETnSt 4\n",
            "TENN  ###  (3:20 - 4th) Madre London run for 4 yds for a TD, (Brent Cimaglia KICK)\n",
            "ETSU  ###  (3:20 - 4th) Paxton Brooks kickoff for 65 yds for a touchback\n",
            "ETSU  ###  (3:20 - 4th) Dontavius Monroe run for 1 yd to the ETnSt 26\n",
            "ETSU  ###  (3:20 - 4th) Dontavius Monroe run for 4 yds to the ETnSt 30\n",
            "ETSU  ###  (3:20 - 4th) Dontavius Monroe run for 4 yds to the ETnSt 34\n",
            "ETSU  ###  (1:15 - 4th) Timeout EAST TENN ST, clock 01:15\n",
            "ETSU  ###  (1:15 - 4th) Marion Watson punt for 35 yds, fair catch by Theo Jackson at the Tenn 31\n",
            "TENN  ###  (1:03 - 4th) TEAM run for a loss of 2 yards to the Tenn 29\n",
            "TENN  ###  (1:03 - 4th) TEAM run for a loss of 1 yard to the Tenn 28\n",
            "TENN  ###  End of 4th Quarter\n",
            "UTEP  ###  (15:00 - 1st) Gavin Baechle kickoff for 65 yds for a touchback\n",
            "UTEP  ###  (15:00 - 1st) Jarrett Guarantano pass complete to Dominick Wood-Anderson for 11 yds to the Tenn 36 for a 1ST down\n",
            "UTEP  ###  (15:00 - 1st) Jarrett Guarantano run for 5 yds to the Tenn 41\n",
            "UTEP  ###  (15:00 - 1st) Ty Chandler run for 1 yd to the Tenn 42\n",
            "UTEP  ###  (15:00 - 1st) Jarrett Guarantano pass incomplete to Brandon Johnson, broken up by Kahani Smith\n",
            "UTEP  ###  (15:00 - 1st) Joe Doyle punt for 33 yds , Terry Juniel returns for no gain to the UTEP 25\n",
            "TENN  ###  (13:25 - 1st) Quardraiz Wadley run for 4 yds to the UTEP 29\n",
            "TENN  ###  (13:25 - 1st) Kai Locksley pass complete to Keynan Foster for 7 yds to the UTEP 36 for a 1ST down\n",
            "TENN  ###  (13:25 - 1st) Quardraiz Wadley rush for loss of 1 yard to the UTEP35 (Daniel Bituli), PENALTY UT offside defense (Alexis Johnson Jr.) 5 yards to the UTEP41, NO PLAY.\n",
            "TENN  ###  (13:25 - 1st) Kai Locksley run for 7 yds to the UTEP 48 for a 1ST down\n",
            "TENN  ###  (13:25 - 1st) Kai Locksley pass complete to Forest McKee for 2 yds Forest McKee fumbled, forced by Bryce Thompson, , return to the 50 yard line\n",
            "TENN  ###  (13:25 - 1st) Kavika Johnson run for 4 yds to the Tenn 46\n",
            "TENN  ###  (10:30 - 1st) Timeout TENNESSEE, clock 10:30\n",
            "TENN  ###  (10:30 - 1st) Kai Locksley pass incomplete to Terry Juniel\n",
            "TENN  ###  (10:30 - 1st) Mitchell Crawford punt for 27 yds, fair catch by Marquez Callaway at the Tenn 19\n",
            "UTEP  ###  (10:20 - 1st) Jarrett Guarantano pass complete to Josh Palmer for 11 yds to the Tenn 30 for a 1ST down\n",
            "UTEP  ###  (10:20 - 1st) Tim Jordan run for 14 yds to the Tenn 44 for a 1ST down\n",
            "UTEP  ###  (10:20 - 1st) Ty Chandler run for 13 yds to the UTEP 43 for a 1ST down\n",
            "UTEP  ###  (10:20 - 1st) Jarrett Guarantano run for 6 yds to the UTEP 37\n",
            "UTEP  ###  (10:20 - 1st) Tim Jordan run for no gain to the UTEP 37\n",
            "UTEP  ###  (10:20 - 1st) Tim Jordan run for 1 yd to the UTEP 36\n",
            "UTEP  ###  (10:20 - 1st) Jarrett Guarantano pass complete to Marquez Callaway for 8 yds to the UTEP 28 for a 1ST down\n",
            "UTEP  ###  (10:20 - 1st) Tim Jordan run for 7 yds to the UTEP 21\n",
            "UTEP  ###  (10:20 - 1st) Tim Jordan run for 2 yds to the UTEP 19\n",
            "UTEP  ###  (10:20 - 1st) Ty Chandler run for 2 yds to the UTEP 17 for a 1ST down\n",
            "UTEP  ###  (10:20 - 1st) Jarrett Guarantano pass complete to Dominick Wood-Anderson for 10 yds to the UTEP 7 for a 1ST down\n",
            "UTEP  ###  (4:06 - 1st) Ty Chandler rush for 7 yards to the UTEP0, clock 04:06, PENALTY UT personal foul 15 yards to the UTEP22, NO PLAY.\n",
            "UTEP  ###  (4:06 - 1st) Tim Jordan run for 2 yds to the UTEP 20\n",
            "UTEP  ###  (4:06 - 1st) Jarrett Guarantano pass incomplete to Brandon Johnson\n",
            "UTEP  ###  (4:06 - 1st) TENNESSEE Penalty, delay of game (Jarrett Guarantano) to the UTEP 25\n",
            "UTEP  ###  (4:06 - 1st) Jarrett Guarantano pass complete to Jauan Jennings for 4 yds to the UTEP 21\n",
            "UTEP  ###  (2:39 - 1st) Brent Cimaglia 38 yd FG GOOD\n",
            "TENN  ###  (2:39 - 1st) Paxton Brooks kickoff for 65 yds for a touchback\n",
            "TENN  ###  (2:39 - 1st) Quardraiz Wadley run for 5 yds to the UTEP 30\n",
            "TENN  ###  (2:39 - 1st) Kai Locksley pass complete to Walter Dawn Jr. for no gain to the UTEP30 (Nigel Warrior), PENALTY UTEP illegal motion (Walter Dawn Jr.) 5 yards to the UTEP25, NO PLAY.\n",
            "TENN  ###  (2:39 - 1st) Kai Locksley run for 2 yds to the UTEP 27\n",
            "TENN  ###  (2:39 - 1st) Treyvon Hughes run for 18 yds to the UTEP 45 for a 1ST down\n",
            "TENN  ###  (2:39 - 1st) Kai Locksley run for 1 yd to the UTEP 46\n",
            "TENN  ###  End of 1st Quarter\n",
            "TENN  ###  (15:00 - 2nd) Ryan Metz pass incomplete\n",
            "TENN  ###  (15:00 - 2nd) Kai Locksley pass incomplete UTEP Penalty, ineligible downfield on pass ( Yards) declined\n",
            "TENN  ###  (15:00 - 2nd) Mitchell Crawford punt for 19 yds, downed at the Tenn 35\n",
            "UTEP  ###  (14:43 - 2nd) Jarrett Guarantano pass complete to Josh Palmer for 53 yds to the UTEP 12 for a 1ST down\n",
            "UTEP  ###  (14:43 - 2nd) Madre London run for 9 yds to the UTEP 3\n",
            "TENN  ###  (13:31 - 2nd) Mitchell Crawford punt for 47 yds , Marquez Callaway returns for 13 yds to the UTEP 36\n",
            "TENN  ###  (13:31 - 2nd) Quardraiz Wadley run for 2 yds to the UTEP 4\n",
            "TENN  ###  (13:31 - 2nd) Quardraiz Wadley run for a loss of 2 yards to the UTEP 2\n",
            "TENN  ###  (13:31 - 2nd) Kai Locksley pass incomplete to David Lucero\n",
            "UTEP  ###  (11:53 - 2nd) Tim Jordan run for 4 yds to the UTEP 32\n",
            "UTEP  ###  (11:53 - 2nd) Jarrett Guarantano pass complete to Brandon Johnson for 29 yds to the UTEP 3 for a 1ST down\n",
            "UTEP  ###  (10:49 - 2nd) Tim Jordan run for 3 yds for a TD, (Brent Cimaglia KICK)\n",
            "TENN  ###  (10:49 - 2nd) Paxton Brooks kickoff for 65 yds for a touchback\n",
            "TENN  ###  (10:49 - 2nd) Joshua Fields run for no gain to the UTEP 25\n",
            "TENN  ###  (10:49 - 2nd) Kai Locksley pass incomplete to Alan Busey\n",
            "TENN  ###  (10:49 - 2nd) Kai Locksley sacked by Daniel Bituli for a loss of 5 yards to the UTEP 20\n",
            "TENN  ###  (10:49 - 2nd) Mitchell Crawford punt for 45 yds , Marquez Callaway returns for a loss of 2 yards to the Tenn 33 Marquez Callaway fumbled, recovered by UTEP TK Powell\n",
            "TENN  ###  (9:04 - 2nd) Quardraiz Wadley rush for 3 yards to the UT30 (Darrell Taylor;Alexis Johnson Jr.), PENALTY UTEP holding (Ruben Guerra) 10 yards to the UT43, NO PLAY.\n",
            "TENN  ###  (9:04 - 2nd) Kai Locksley pass incomplete\n",
            "TENN  ###  (9:04 - 2nd) Kai Locksley pass incomplete to Keynan Foster, broken up by Shawn Shamburger\n",
            "TENN  ###  (9:04 - 2nd) UTEP Penalty, false start (Ruben Guerra) to the Tenn 48\n",
            "TENN  ###  (9:04 - 2nd) Kai Locksley run for 9 yds to the Tenn 39\n",
            "TENN  ###  (9:04 - 2nd) Mitchell Crawford punt for 39 yds for a touchback\n",
            "UTEP  ###  (7:53 - 2nd) Ty Chandler run for 10 yds to the Tenn 30 for a 1ST down\n",
            "UTEP  ###  (7:53 - 2nd) Jarrett Guarantano pass complete to Jauan Jennings for 14 yds to the Tenn 44 for a 1ST down\n",
            "UTEP  ###  (7:53 - 2nd) Tim Jordan run for 4 yds to the Tenn 48\n",
            "UTEP  ###  (7:53 - 2nd) TENNESSEE Penalty, false start (Jahmir Johnson) to the Tenn 43\n",
            "UTEP  ###  (7:53 - 2nd) Jarrett Guarantano run for 14 yds to the UTEP 43 for a 1ST down\n",
            "UTEP  ###  (7:53 - 2nd) Ty Chandler run for 3 yds to the UTEP 40\n",
            "UTEP  ###  (7:53 - 2nd) Jarrett Guarantano sacked by Dylan Parsee for a loss of 8 yards to the UTEP 48\n",
            "UTEP  ###  (7:53 - 2nd) Jarrett Guarantano run for 9 yds to the UTEP 39 TENNESSEE Penalty, Offensive holding ( Yards) declined\n",
            "UTEP  ###  (7:53 - 2nd) Joe Doyle punt for 26 yds, downed at the UTEP 13\n",
            "TENN  ###  (3:38 - 2nd) Treyvon Hughes run for no gain to the UTEP 13\n",
            "TENN  ###  (3:38 - 2nd) Kai Locksley pass complete to Warren Redix for 9 yds to the UTEP 22\n",
            "TENN  ###  (3:38 - 2nd) UTEP Penalty, false start (Bobby DeHaro) to the UTEP 17\n",
            "TENN  ###  (3:38 - 2nd) Kai Locksley run for 5 yds to the UTEP 22\n",
            "TENN  ###  (1:53 - 2nd) Timeout TENNESSEE, clock 01:53\n",
            "TENN  ###  (1:53 - 2nd) Mitchell Crawford punt for 49 yds, downed at the Tenn 29\n",
            "UTEP  ###  (1:40 - 2nd) Ty Chandler run for 8 yds to the Tenn 37\n",
            "UTEP  ###  (1:40 - 2nd) Ty Chandler run for 1 yd to the Tenn 38 TENNESSEE Penalty, Offensive holding (Drew Richmond) to the Tenn 28\n",
            "UTEP  ###  (1:40 - 2nd) Ty Chandler run for 7 yds to the Tenn 35\n",
            "UTEP  ###  (1:40 - 2nd) Keller Chryst pass incomplete to Brandon Johnson\n",
            "UTEP  ###  (1:40 - 2nd) Joe Doyle punt for 51 yds, punt out-of-bounds at the UTEP 14\n",
            "TENN  ###  (0:58 - 2nd) Kai Locksley pass complete to Keynan Foster for 14 yds to the UTEP 28 for a 1ST down\n",
            "TENN  ###  (0:58 - 2nd) Kai Locksley pass incomplete to Quardraiz Wadley\n",
            "TENN  ###  (0:58 - 2nd) Quardraiz Wadley run for 3 yds to the UTEP 31\n",
            "TENN  ###  (15:00 - 3rd) Paxton Brooks kickoff for 65 yds for a touchback\n",
            "TENN  ###  (15:00 - 3rd) Kai Locksley pass complete to Warren Redix for 6 yds to the UTEP 31\n",
            "TENN  ###  (15:00 - 3rd) Kai Locksley pass incomplete\n",
            "TENN  ###  (15:00 - 3rd) Kai Locksley pass incomplete\n",
            "TENN  ###  (15:00 - 3rd) Mitchell Crawford punt for 44 yds , Marquez Callaway returns for a loss of 6 yards to the Tenn 19\n",
            "UTEP  ###  (13:49 - 3rd) Ty Chandler run for 81 yds for a TD, (Brent Cimaglia KICK)\n",
            "TENN  ###  (13:49 - 3rd) Paxton Brooks kickoff for 65 yds for a touchback\n",
            "TENN  ###  (13:49 - 3rd) Kai Locksley pass incomplete to Kavika Johnson, broken up by Bryce Thompson\n",
            "TENN  ###  (13:49 - 3rd) Quardraiz Wadley run for 9 yds to the UTEP 34\n",
            "TENN  ###  (13:49 - 3rd) Quardraiz Wadley run for 8 yds to the UTEP 42 for a 1ST down\n",
            "TENN  ###  (13:49 - 3rd) Kavika Johnson run for 2 yds to the UTEP 44\n",
            "TENN  ###  (13:49 - 3rd) Kai Locksley pass incomplete to Quardraiz Wadley\n",
            "TENN  ###  (13:49 - 3rd) Kai Locksley pass incomplete\n",
            "TENN  ###  (13:49 - 3rd) Mitchell Crawford punt for 40 yds, fair catch by Marquez Callaway at the Tenn 16\n",
            "UTEP  ###  (11:16 - 3rd) Jeremy Banks run for 5 yds to the Tenn 21\n",
            "UTEP  ###  (11:16 - 3rd) Jeremy Banks run for 7 yds to the Tenn 28 for a 1ST down\n",
            "UTEP  ###  (11:16 - 3rd) Jarrett Guarantano pass incomplete to Marquez Callaway, broken up by Nik Needham\n",
            "UTEP  ###  (11:16 - 3rd) Madre London run for 12 yds to the Tenn 40 for a 1ST down\n",
            "UTEP  ###  (11:16 - 3rd) Jarrett Guarantano pass complete to Brandon Johnson for 13 yds to the UTEP 47 for a 1ST down\n",
            "UTEP  ###  (11:16 - 3rd) Jarrett Guarantano pass incomplete to Marquez Callaway\n",
            "UTEP  ###  (11:16 - 3rd) Jeremy Banks run for no gain to the UTEP 47\n",
            "UTEP  ###  (11:16 - 3rd) Jarrett Guarantano pass complete to Madre London for 1 yd to the UTEP 46\n",
            "UTEP  ###  (11:16 - 3rd) Joe Doyle punt for 39 yds, downed at the UTEP 7\n",
            "TENN  ###  (7:30 - 3rd) Treyvon Hughes run for 1 yd to the UTEP 8\n",
            "TENN  ###  (7:30 - 3rd) UTEP Penalty, substitution infraction (-4 Yards) to the UTEP 4\n",
            "TENN  ###  (7:30 - 3rd) Kai Locksley run for 5 yds to the UTEP 9\n",
            "TENN  ###  (7:30 - 3rd) Kai Locksley run for 3 yds to the UTEP 12\n",
            "TENN  ###  (7:30 - 3rd) Mitchell Crawford punt for 34 yds\n",
            "UTEP  ###  (5:43 - 3rd) Tim Jordan run for no gain to the UTEP 46\n",
            "UTEP  ###  (5:43 - 3rd) Tim Jordan run for 1 yd to the UTEP 45\n",
            "UTEP  ###  (5:43 - 3rd) Keller Chryst pass incomplete to Brandon Johnson, broken up by Chris Richardson\n",
            "UTEP  ###  (5:43 - 3rd) Joe Doyle punt for 45 yds for a touchback\n",
            "TENN  ###  (4:25 - 3rd) Joshua Fields run for a loss of 1 yard to the UTEP 19\n",
            "TENN  ###  (4:25 - 3rd) Kai Locksley pass incomplete to David Lucero (Nigel Warrior), PENALTY UT roughing passer (Matthew Butler) 15 yards to the UTEP34, 1ST DOWN UTEP, NO PLAY.\n",
            "TENN  ###  (4:25 - 3rd) Kai Locksley pass complete to Winston Dimel for a loss of 2 yards to the UTEP 32\n",
            "TENN  ###  (2:58 - 3rd) Timeout UTEP, clock 02:58\n",
            "TENN  ###  (2:58 - 3rd) Kai Locksley pass complete to Kavika Johnson for 1 yd to the UTEP 33\n",
            "TENN  ###  (2:58 - 3rd) Kai Locksley sacked by Darrin Kirkland Jr. for a loss of 3 yards to the UTEP 30\n",
            "TENN  ###  (2:58 - 3rd) Mitchell Crawford punt for 41 yds, fair catch by Marquez Callaway at the Tenn 29\n",
            "UTEP  ###  (1:24 - 3rd) Ty Chandler run for 16 yds to the Tenn 45 for a 1ST down\n",
            "UTEP  ###  (1:24 - 3rd) Ty Chandler run for 3 yds to the Tenn 48\n",
            "UTEP  ###  (1:24 - 3rd) Jarrett Guarantano sacked by Mike Sota for a loss of 6 yards to the Tenn 42\n",
            "UTEP  ###  End of 3rd Quarter\n",
            "UTEP  ###  (15:00 - 4th) Jarrett Guarantano pass incomplete to Dominick Wood-Anders (Dylan Parsee), PENALTY UTEP pass interference (Dylan Parsee) 13 yards to the UTEP45, 1ST DOWN UT, NO PLAY.\n",
            "UTEP  ###  (15:00 - 4th) Tim Jordan run for 8 yds to the UTEP 37\n",
            "UTEP  ###  (15:00 - 4th) Tim Jordan run for 3 yds to the UTEP 34 for a 1ST down\n",
            "UTEP  ###  (15:00 - 4th) Madre London run for 8 yds to the UTEP 30\n",
            "UTEP  ###  (15:00 - 4th) Jarrett Guarantano pass complete to Brandon Johnson for 10 yds to the UTEP 20 for a 1ST down\n",
            "UTEP  ###  (15:00 - 4th) Madre London run for 3 yds to the UTEP 17\n",
            "UTEP  ###  (15:00 - 4th) Ty Chandler run for 13 yds to the UTEP 4 for a 1ST down\n",
            "UTEP  ###  (11:14 - 4th) Jarrett Guarantano pass complete to Jauan Jennings for 4 yds for a TD, (Brent Cimaglia KICK)\n",
            "TENN  ###  (11:14 - 4th) Paxton Brooks kickoff for 65 yds , Terry Juniel return for 25 yds to the UTEP 25\n",
            "TENN  ###  (11:07 - 4th) Kai Locksley pass incomplete\n",
            "TENN  ###  (11:07 - 4th) Treyvon Hughes run for 12 yds to the UTEP 37 for a 1ST down\n",
            "TENN  ###  (11:07 - 4th) Treyvon Hughes run for 2 yds to the UTEP 39\n",
            "TENN  ###  (11:07 - 4th) Kai Locksley pass complete to Winston Dimel for a loss of 2 yards to the UTEP 37\n",
            "TENN  ###  (11:07 - 4th) Kai Locksley pass complete to David Lucero for 4 yds to the UTEP 41\n",
            "TENN  ###  (11:07 - 4th) Mitchell Crawford punt for 45 yds, fair catch by Marquez Callaway at the Tenn 14\n",
            "UTEP  ###  (8:23 - 4th) Madre London run for 2 yds to the Tenn 16\n",
            "UTEP  ###  (8:23 - 4th) Keller Chryst pass complete to Brandon Johnson for a loss of 1 yard to the Tenn 15\n",
            "UTEP  ###  (8:23 - 4th) Madre London run for 28 yds to the Tenn 43 for a 1ST down\n",
            "UTEP  ###  (8:23 - 4th) Madre London run for 2 yds to the Tenn 45\n",
            "UTEP  ###  (8:23 - 4th) Jeremy Banks run for no gain to the Tenn 45\n",
            "UTEP  ###  (8:23 - 4th) Jeremy Banks run for 6 yds to the UTEP 49\n",
            "UTEP  ###  (8:23 - 4th) Joe Doyle punt for 40 yds, downed at the UTEP 9\n",
            "TENN  ###  (4:56 - 4th) Joshua Fields run for a loss of 3 yards to the UTEP 6\n",
            "TENN  ###  (4:56 - 4th) Joshua Fields run for 3 yds to the UTEP 9\n",
            "TENN  ###  (4:56 - 4th) Quardraiz Wadley run for 4 yds to the UTEP 13 UTEP Penalty, illegal formation ( Yards) declined\n",
            "TENN  ###  (4:56 - 4th) Mitchell Crawford punt for 41 yds, punt out-of-bounds at the Tenn 46\n",
            "UTEP  ###  (3:02 - 4th) Jeremy Banks run for 23 yds to the UTEP 31 for a 1ST down\n",
            "UTEP  ###  (3:02 - 4th) TENNESSEE Penalty, false start (Drew Richmond) to the UTEP 36\n",
            "UTEP  ###  (3:02 - 4th) Jeremy Banks run for 6 yds to the UTEP 30\n",
            "UTEP  ###  (3:02 - 4th) Madre London run for 7 yds to the UTEP 23\n",
            "UTEP  ###  (3:02 - 4th) Madre London run for 3 yds to the UTEP 20 for a 1ST down\n",
            "UTEP  ###  (3:02 - 4th) TEAM run for a loss of 1 yard to the UTEP 21\n",
            "UTEP  ###  End of 4th Quarter\n",
            "TENN  ###  (15:00 - 1st) Jonathan Cruz kickoff for 65 yds , Bryce Thompson return for 29 yds to the Tenn 29\n",
            "TENN  ###  (15:00 - 1st) Tim Jordan run for 5 yds to the Tenn 34\n",
            "TENN  ###  (15:00 - 1st) Jarrett Guarantano sacked by Alex Highsmith and Jeff Gemmell for a loss of 10 yards to the Tenn 24\n",
            "TENN  ###  (15:00 - 1st) Jarrett Guarantano pass complete to Marquez Callaway for 20 yds to the Tenn 44 for a 1ST down\n",
            "TENN  ###  (15:00 - 1st) Jeremy Banks run for no gain to the Tenn 44\n",
            "TENN  ###  (15:00 - 1st) Jarrett Guarantano pass incomplete to Dominick Wood-Anderson, broken up by Ben DeLuca\n",
            "TENN  ###  (15:00 - 1st) Jarrett Guarantano pass incomplete to Tim Jordan TENNESSEE Penalty, illegal formation ( Yards) declined\n",
            "TENN  ###  (15:00 - 1st) Joe Doyle punt for 45 yds, punt out-of-bounds at the Charl 21 , Mark Quattlebaum returns for 10 yds to the Charl 21\n",
            "CHAR  ###  (11:44 - 1st) Benny LeMay run for 5 yds to the Charl 26\n",
            "CHAR  ###  (11:44 - 1st) Evan Shirreffs pass incomplete\n",
            "CHAR  ###  (11:44 - 1st) Evan Shirreffs pass complete to Rico Arnold for 15 yds to the Charl 41 for a 1ST down\n",
            "CHAR  ###  (11:44 - 1st) Benny LeMay run for 7 yds to the Charl 48\n",
            "CHAR  ###  (11:44 - 1st) Benny LeMay run for 4 yds to the Tenn 48 for a 1ST down\n",
            "CHAR  ###  (11:44 - 1st) Benny LeMay run for 2 yds to the Tenn 46\n",
            "CHAR  ###  (11:44 - 1st) Benny LeMay run for 2 yds to the Tenn 44\n",
            "CHAR  ###  (11:44 - 1st) CHARLOTTE Penalty, false start (Benny LeMay) to the Tenn 49\n",
            "CHAR  ###  (11:44 - 1st) Evan Shirreffs pass incomplete to Workpeh Kofa, broken up by Kyle Phillips\n",
            "CHAR  ###  (11:44 - 1st) Kyle Corbett punt 43 yards to the UT6, out-of-bounds, PENALTY CHA illegal formation 5 yards to the CHA46, NO PLAY.\n",
            "CHAR  ###  (7:42 - 1st) Kyle Corbett punt for 36 yds , Marquez Callaway returns for 82 yds for a TD, (Brent Cimaglia KICK)\n",
            "CHAR  ###  (7:42 - 1st) Paxton Brooks kickoff for 61 yds , Aaron McAllister return for 17 yds to the Charl 21\n",
            "CHAR  ###  (7:35 - 1st) Evan Shirreffs pass complete to Rico Arnold for 13 yds to the Charl 34 for a 1ST down\n",
            "CHAR  ###  (7:35 - 1st) Benny LeMay run for 3 yds to the Charl 37\n",
            "CHAR  ###  (7:35 - 1st) Evan Shirreffs run for 6 yds to the Tenn 43 for a 1ST down TENNESSEE Penalty, player disqualification (Alontae Taylor) to the Tenn 42 for a 1ST down\n",
            "CHAR  ###  (7:35 - 1st) Evan Shirreffs pass complete to Workpeh Kofa for 6 yds to the Tenn 36\n",
            "CHAR  ###  (7:35 - 1st) CHARLOTTE Penalty, false start (Nate Davis) to the Tenn 41\n",
            "CHAR  ###  (7:35 - 1st) Evan Shirreffs pass incomplete to Rico Arnold, broken up by Kyle Phillips\n",
            "CHAR  ###  (7:35 - 1st) Evan Shirreffs run for 4 yds to the Tenn 37\n",
            "CHAR  ###  (7:35 - 1st) Evan Shirreffs pass incomplete to Rico Arnold\n",
            "TENN  ###  (3:39 - 1st) Jarrett Guarantano pass complete to Marquez Callaway for 12 yds to the Tenn 49 for a 1ST down\n",
            "TENN  ###  (3:39 - 1st) Jeremy Banks run for a loss of 2 yards to the Tenn 47\n",
            "TENN  ###  (3:39 - 1st) Jarrett Guarantano pass complete to Dominick Wood-Anderson for 33 yds to the Charl 20 for a 1ST down\n",
            "TENN  ###  (3:39 - 1st) Jeremy Banks run for no gain to the Charl 20\n",
            "TENN  ###  (3:39 - 1st) Tim Jordan run for 4 yds to the Charl 16\n",
            "TENN  ###  (0:17 - 1st) Jarrett Guarantano pass complete to Josh Palmer for 16 yds for a TD, (Brent Cimaglia KICK)\n",
            "CHAR  ###  (0:17 - 1st) Paxton Brooks kickoff for 62 yds , Aaron McAllister return for 15 yds to the Charl 18\n",
            "CHAR  ###  (0:09 - 1st) CHARLOTTE Penalty, delay of game (Evan Shirreffs) to the Charl 13\n",
            "CHAR  ###  (0:09 - 1st) Evan Shirreffs pass complete to R.J. Tyler for 6 yds to the Charl 19\n",
            "CHAR  ###  End of 1st Quarter\n",
            "CHAR  ###  (15:00 - 2nd) Aaron McAllister run for 6 yds to the Charl 25\n",
            "CHAR  ###  (15:00 - 2nd) Calvin Camp run for a loss of 2 yards to the Charl 23\n",
            "CHAR  ###  (15:00 - 2nd) Kyle Corbett punt for 47 yds, downed at the Tenn 30\n",
            "TENN  ###  (13:26 - 2nd) Ty Chandler run for no gain to the Tenn 30\n",
            "TENN  ###  (13:26 - 2nd) Carlin Fils-aime run for 10 yds to the Tenn 40 for a 1ST down\n",
            "TENN  ###  (13:26 - 2nd) Ty Chandler run for a loss of 1 yard to the Tenn 39\n",
            "TENN  ###  (13:26 - 2nd) Jarrett Guarantano pass complete to Marquez Callaway for a loss of 2 yards to the Tenn 37\n",
            "TENN  ###  (13:26 - 2nd) Jarrett Guarantano pass complete to Brandon Johnson for 3 yds to the Tenn 40 TENNESSEE Penalty, illegal formation ( Yards) declined\n",
            "TENN  ###  (13:26 - 2nd) Joe Doyle punt for 60 yds for a touchback\n",
            "CHAR  ###  (10:22 - 2nd) CHARLOTTE Penalty, personal foul (Marquavis Gibbs) to the Charl 10\n",
            "CHAR  ###  (10:22 - 2nd) Benny LeMay run for 3 yds to the Charl 13\n",
            "CHAR  ###  (10:22 - 2nd) Benny LeMay run for 3 yds to the Charl 16\n",
            "CHAR  ###  (10:22 - 2nd) Evan Shirreffs pass complete to Rico Arnold for 2 yds to the Charl 18\n",
            "CHAR  ###  (10:22 - 2nd) Kyle Corbett punt for 32 yds, punt out-of-bounds at the 50 yard line\n",
            "TENN  ###  (8:17 - 2nd) Jarrett Guarantano pass complete to Carlin Fils-aime for no gain to the 50 yard line\n",
            "TENN  ###  (8:17 - 2nd) Josh Palmer run for a loss of 4 yards to the Tenn 46\n",
            "TENN  ###  (8:17 - 2nd) Jarrett Guarantano pass complete to Josh Palmer for 11 yds to the Charl 43\n",
            "TENN  ###  (8:17 - 2nd) Joe Doyle punt for 33 yds, fair catch by Mark Quattlebaum at the Charl 10\n",
            "CHAR  ###  (6:14 - 2nd) Benny LeMay run for 5 yds to the Charl 15\n",
            "CHAR  ###  (6:14 - 2nd) Benny LeMay run for 2 yds to the Charl 17\n",
            "CHAR  ###  (6:14 - 2nd) Evan Shirreffs pass complete to Rico Arnold for 17 yds to the Charl 34 for a 1ST down TENNESSEE Penalty, Defensive holding ( Yards) declined for a 1ST down\n",
            "CHAR  ###  (6:14 - 2nd) Evan Shirreffs pass complete to Workpeh Kofa for 28 yds to the Tenn 38 for a 1ST down\n",
            "CHAR  ###  (6:14 - 2nd) Benny LeMay run for 3 yds to the Tenn 35\n",
            "CHAR  ###  (6:14 - 2nd) Benny LeMay run for 12 yds to the Tenn 23 for a 1ST down\n",
            "CHAR  ###  (6:14 - 2nd) Aaron McAllister run for 4 yds to the Tenn 19\n",
            "CHAR  ###  (6:14 - 2nd) Aaron McAllister run for a loss of 3 yards to the Tenn 22\n",
            "CHAR  ###  (6:14 - 2nd) Evan Shirreffs pass incomplete to Workpeh Kofa, PENALTY UT pass interference (Marquill Osborne) 15 yards to the UT7, 1ST DOWN CHA, NO PLAY.\n",
            "CHAR  ###  (6:14 - 2nd) Benny LeMay run for a loss of 1 yard to the Tenn 8\n",
            "CHAR  ###  (0:43 - 2nd) Timeout TENNESSEE, clock 00:43\n",
            "CHAR  ###  (0:43 - 2nd) Benny LeMay run for 5 yds to the Tenn 3\n",
            "CHAR  ###  (0:24 - 2nd) Timeout CHARLOTTE, clock 00:24\n",
            "CHAR  ###  (0:24 - 2nd) Evan Shirreffs pass incomplete to Chris Phillips\n",
            "CHAR  ###  (0:20 - 2nd) Timeout TENNESSEE, clock 00:20\n",
            "CHAR  ###  (0:17 - 2nd) Jonathan Cruz 20 yd FG GOOD\n",
            "TENN  ###  (0:17 - 2nd) Jonathan Cruz kickoff for 54 yds\n",
            "TENN  ###  (0:17 - 2nd) TEAM run for a loss of 2 yards to the Tenn 33\n",
            "CHAR  ###  (15:00 - 3rd) Paxton Brooks kickoff for 65 yds for a touchback\n",
            "CHAR  ###  (15:00 - 3rd) Benny LeMay run for 1 yd to the Charl 26\n",
            "CHAR  ###  (15:00 - 3rd) CHARLOTTE Penalty, false start (Jaelin Fisher) to the Charl 21\n",
            "CHAR  ###  (15:00 - 3rd) Evan Shirreffs pass complete to Benny LeMay for 6 yds to the Charl 27\n",
            "CHAR  ###  (15:00 - 3rd) Evan Shirreffs pass complete to Mark Quattlebaum for 18 yds to the Charl 45 for a 1ST down\n",
            "CHAR  ###  (15:00 - 3rd) Benny LeMay run for 5 yds to the 50 yard line\n",
            "CHAR  ###  (15:00 - 3rd) Benny LeMay run for no gain to the 50 yard line\n",
            "CHAR  ###  (15:00 - 3rd) Evan Shirreffs pass incomplete to Rico Arnold\n",
            "CHAR  ###  (15:00 - 3rd) Kyle Corbett punt for 50 yds for a touchback\n",
            "TENN  ###  (11:03 - 3rd) Jarrett Guarantano pass incomplete to Tim Jordan\n",
            "TENN  ###  (11:03 - 3rd) Jeremy Banks run for no gain to the Tenn 20\n",
            "TENN  ###  (11:03 - 3rd) Jarrett Guarantano pass complete to Dominick Wood-Anderson for 12 yds to the Tenn 32 for a 1ST down\n",
            "TENN  ###  (11:03 - 3rd) Jarrett Guarantano pass complete to Josh Palmer for 45 yds to the Charl 23 for a 1ST down\n",
            "TENN  ###  (11:03 - 3rd) Jeremy Banks run for 7 yds to the Charl 16\n",
            "TENN  ###  (11:03 - 3rd) Jeremy Banks run for 1 yd to the Charl 15\n",
            "TENN  ###  (11:03 - 3rd) Jeremy Banks run for a loss of 1 yard to the Charl 16\n",
            "TENN  ###  (7:13 - 3rd) Brent Cimaglia 33 yd FG MISSED\n",
            "CHAR  ###  (7:13 - 3rd) Evan Shirreffs pass incomplete to Chris Phillips\n",
            "CHAR  ###  (7:13 - 3rd) Aaron McAllister run for 3 yds to the Charl 23\n",
            "CHAR  ###  (7:13 - 3rd) Evan Shirreffs run for 14 yds to the Charl 37 for a 1ST down\n",
            "CHAR  ###  (7:13 - 3rd) Aaron McAllister run for no gain to the Charl 37\n",
            "CHAR  ###  (7:13 - 3rd) Evan Shirreffs pass incomplete\n",
            "CHAR  ###  (7:13 - 3rd) Evan Shirreffs pass incomplete to Mark Quattlebaum\n",
            "CHAR  ###  (7:13 - 3rd) Kyle Corbett punt for 39 yds , Marquez Callaway returns for 6 yds to the Tenn 30\n",
            "TENN  ###  (4:46 - 3rd) Jarrett Guarantano pass complete to Carlin Fils-aime for no gain to the Tenn 30\n",
            "TENN  ###  (4:46 - 3rd) Jarrett Guarantano pass complete to Madre London for 4 yds to the Tenn 34\n",
            "TENN  ###  (4:46 - 3rd) Jarrett Guarantano pass complete to Dominick Wood-Anderson for 8 yds to the Tenn 42 for a 1ST down\n",
            "TENN  ###  (4:46 - 3rd) Jarrett Guarantano sacked by Alex Highsmith for a loss of 10 yards to the Tenn 28 Jarrett Guarantano fumbled, recovered by Tenn Jarrett Guarantano , return for 0 yards\n",
            "TENN  ###  (4:46 - 3rd) Jarrett Guarantano pass complete to Jordan Murphy for 8 yds to the Tenn 36\n",
            "TENN  ###  (4:46 - 3rd) Jarrett Guarantano pass incomplete to Brandon Johnson\n",
            "TENN  ###  (4:46 - 3rd) Joe Doyle punt for 43 yds , Mark Quattlebaum returns for no gain to the Charl 21\n",
            "CHAR  ###  (1:09 - 3rd) CHARLOTTE Penalty, false start (Darren Drake) to the Charl 16\n",
            "CHAR  ###  (1:09 - 3rd) Evan Shirreffs sacked by John Mincey for a loss of 3 yards to the Charl 13\n",
            "CHAR  ###  (1:09 - 3rd) Calvin Camp run for a loss of 3 yards to the Charl 10\n",
            "CHAR  ###  End of 3rd Quarter\n",
            "CHAR  ###  (15:00 - 4th) Evan Shirreffs sacked by Kyle Phillips for a loss of 9 yards to the Charl 1\n",
            "CHAR  ###  (14:27 - 4th) Timeout TENNESSEE, clock 14:27\n",
            "CHAR  ###  (14:27 - 4th) Kyle Corbett punt for 43 yds , Marquez Callaway returns for 10 yds to the Charl 11 TENNESSEE Penalty, illegal block (10 Yards) to the Charl 44\n",
            "TENN  ###  (14:14 - 4th) Jeremy Banks run for 4 yds to the Charl 40\n",
            "TENN  ###  (14:14 - 4th) Jeremy Banks run for no gain to the Charl 40\n",
            "TENN  ###  (14:14 - 4th) Jarrett Guarantano pass complete to Eli Wolf for 3 yds to the Charl 37\n",
            "TENN  ###  (14:14 - 4th) Joe Doyle punt for 28 yds, fair catch by Mark Quattlebaum at the Charl 9\n",
            "CHAR  ###  (12:11 - 4th) Benny LeMay run for 8 yds to the Charl 17\n",
            "CHAR  ###  (12:11 - 4th) Benny LeMay run for 4 yds to the Charl 21 for a 1ST down\n",
            "CHAR  ###  (12:11 - 4th) Benny LeMay run for a loss of 1 yard to the Charl 20\n",
            "CHAR  ###  (12:11 - 4th) Evan Shirreffs sacked by Bryce Thompson for a loss of 6 yards to the Charl 14\n",
            "CHAR  ###  (12:11 - 4th) Evan Shirreffs pass complete to Rico Arnold for 8 yds to the Charl 22\n",
            "CHAR  ###  (12:11 - 4th) Kyle Corbett punt for 75 yds, downed at the Tenn 3\n",
            "TENN  ###  (8:51 - 4th) Jarrett Guarantano pass incomplete to Marquez Callaway, PENALTY CHA pass interference (Nafees Lyon) 15 yards to the UT18, 1ST DOWN UT, NO PLAY.\n",
            "TENN  ###  (8:51 - 4th) Tim Jordan run for no gain to the Tenn 18\n",
            "TENN  ###  (8:51 - 4th) Jarrett Guarantano pass complete to Josh Palmer for a loss of 1 yard to the Tenn 17\n",
            "TENN  ###  (8:51 - 4th) Jarrett Guarantano pass incomplete to Marquez Callaway\n",
            "TENN  ###  (8:51 - 4th) Joe Doyle punt for 38 yds, fair catch by Mark Quattlebaum at the Charl 45\n",
            "CHAR  ###  (6:53 - 4th) Evan Shirreffs pass complete to Calvin Camp for 18 yds to the Tenn 37 for a 1ST down\n",
            "CHAR  ###  (6:53 - 4th) Benny LeMay run for 6 yds to the Tenn 31\n",
            "CHAR  ###  (6:53 - 4th) Benny LeMay run for 2 yds to the Tenn 29\n",
            "CHAR  ###  (6:53 - 4th) Benny LeMay run for 1 yd to the Tenn 28\n",
            "CHAR  ###  (6:53 - 4th) Benny LeMay run for no gain to the Tenn 28\n",
            "TENN  ###  (4:13 - 4th) Jeremy Banks run for 6 yds to the Tenn 34\n",
            "TENN  ###  (4:11 - 4th) Timeout CHARLOTTE, clock 04:11\n",
            "TENN  ###  (4:11 - 4th) Jeremy Banks run for 9 yds to the Tenn 43 for a 1ST down\n",
            "TENN  ###  (4:11 - 4th) Jeremy Banks rush for 9 yards to the CHA48 (Ben Deluca), PENALTY UT face mask (Jahmir Johnson) 15 yards to the UT28, NO PLAY.\n",
            "TENN  ###  (4:11 - 4th) Tim Jordan run for 9 yds to the Tenn 37\n",
            "TENN  ###  (2:53 - 4th) Timeout CHARLOTTE, clock 02:53\n",
            "TENN  ###  (2:53 - 4th) Madre London run for a loss of 2 yards to the Tenn 35\n",
            "TENN  ###  (2:47 - 4th) Timeout CHARLOTTE, clock 02:47\n",
            "TENN  ###  (2:47 - 4th) Madre London run for 5 yds to the Tenn 40\n",
            "TENN  ###  (2:47 - 4th) Joe Doyle punt for 34 yds, fair catch by Mark Quattlebaum at the Charl 26\n",
            "CHAR  ###  (1:55 - 4th) Evan Shirreffs pass complete to Workpeh Kofa for 7 yds to the Charl 33\n",
            "CHAR  ###  (1:55 - 4th) Evan Shirreffs pass incomplete to Workpeh Kofa, broken up by Jordan Allen\n",
            "CHAR  ###  (1:55 - 4th) Evan Shirreffs pass complete to Chris Phillips for 8 yds to the Charl 41 for a 1ST down\n",
            "CHAR  ###  (1:55 - 4th) Evan Shirreffs pass incomplete to Workpeh Kofa, broken up by Darrin Kirkland Jr.\n",
            "CHAR  ###  (1:55 - 4th) Evan Shirreffs pass intercepted Bryce Thompson return for 18 yds to the Charl 38\n",
            "TENN  ###  (0:59 - 4th) TEAM run for a loss of 2 yards to the Charl 40\n",
            "TENN  ###  (0:59 - 4th) TEAM run for a loss of 2 yards to the Charl 42\n",
            "TENN  ###  End of 4th Quarter\n",
            "UK  ###  (15:00 - 1st) Paxton Brooks kickoff for 61 yds , Lynn Bowden Jr. return for 20 yds to the Kent 24\n",
            "UK  ###  (15:00 - 1st) Benny Snell Jr. run for 7 yds to the Kent 31\n",
            "UK  ###  (15:00 - 1st) Benny Snell Jr. run for 4 yds to the Kent 35 for a 1ST down\n",
            "UK  ###  (15:00 - 1st) Terry Wilson pass complete to Benny Snell Jr. for 5 yds to the Kent 40\n",
            "UK  ###  (15:00 - 1st) Benny Snell Jr. run for 4 yds to the Kent 44\n",
            "UK  ###  (15:00 - 1st) Benny Snell Jr. run for no gain to the Kent 44\n",
            "UK  ###  (15:00 - 1st) Max Duffy punt for 44 yds, fair catch by Marquez Callaway at the Tenn 12\n",
            "TENN  ###  (12:06 - 1st) Jarrett Guarantano pass incomplete to Jauan Jennings, PENALTY UK pass interference (Derrick Baity) 15 yards to the UT27, 1ST DOWN UT, NO PLAY.\n",
            "TENN  ###  (12:06 - 1st) TENNESSEE Penalty, false start (Drew Richmond) to the Tenn 22\n",
            "TENN  ###  (12:06 - 1st) Ty Chandler run for 12 yds to the Tenn 34\n",
            "TENN  ###  (12:06 - 1st) Ty Chandler run for a loss of 3 yards to the Tenn 31\n",
            "TENN  ###  (12:06 - 1st) Jarrett Guarantano pass incomplete to Dominick Wood-Anderson, broken up by Mike Edwards\n",
            "TENN  ###  (12:06 - 1st) Joe Doyle punt for 37 yds, fair catch by David Bouvier at the Kent 32\n",
            "UK  ###  (10:32 - 1st) Benny Snell Jr. run for no gain to the Kent 32\n",
            "UK  ###  (10:32 - 1st) Lynn Bowden Jr. run for a loss of 3 yards to the Kent 29\n",
            "UK  ###  (10:32 - 1st) Terry Wilson run for 5 yds to the Kent 34\n",
            "UK  ###  (10:32 - 1st) Max Duffy punt for 41 yds , Marquez Callaway returns for 18 yds to the Tenn 43\n",
            "TENN  ###  (8:34 - 1st) Jarrett Guarantano pass complete to Jordan Murphy for 38 yds to the Kent 19 for a 1ST down\n",
            "TENN  ###  (8:34 - 1st) Ty Chandler run for 7 yds to the Kent 12\n",
            "TENN  ###  (8:34 - 1st) Ty Chandler run for 2 yds to the Kent 10\n",
            "TENN  ###  (8:34 - 1st) Jarrett Guarantano run for 2 yds to the Kent 8 for a 1ST down\n",
            "TENN  ###  (8:34 - 1st) Tim Jordan run for a loss of 2 yards to the Kent 10\n",
            "TENN  ###  (8:34 - 1st) Jarrett Guarantano pass incomplete to Marquez Callaway\n",
            "TENN  ###  (8:34 - 1st) Jarrett Guarantano pass complete to Eli Wolf for 8 yds to the Kent 2\n",
            "TENN  ###  (5:09 - 1st) Brent Cimaglia 19 yd FG GOOD\n",
            "UK  ###  (5:09 - 1st) Paxton Brooks kickoff for 65 yds for a touchback\n",
            "UK  ###  (5:09 - 1st) Terry Wilson pass complete to Benny Snell Jr. for a loss of 1 yard to the Kent 24\n",
            "UK  ###  (5:09 - 1st) Lynn Bowden Jr. run for 4 yds to the Kent 28\n",
            "UK  ###  (5:09 - 1st) Terry Wilson pass complete to David Bouvier for 9 yds to the Kent 37 for a 1ST down\n",
            "UK  ###  (5:09 - 1st) Terry Wilson pass complete to Benny Snell Jr. for 3 yds to the Kent 40\n",
            "UK  ###  (5:09 - 1st) Benny Snell Jr. run for 6 yds to the Kent 46\n",
            "UK  ###  (5:09 - 1st) Benny Snell Jr. run for 4 yds to the 50 yard line for a 1ST down\n",
            "UK  ###  (5:09 - 1st) Terry Wilson pass complete to Benny Snell Jr. for 8 yds to the Tenn 42\n",
            "UK  ###  (5:09 - 1st) Benny Snell Jr. run for 3 yds to the Tenn 39 for a 1ST down\n",
            "UK  ###  (5:09 - 1st) Asim Rose run for 5 yds to the Tenn 34\n",
            "UK  ###  (5:09 - 1st) Terry Wilson pass complete to Asim Rose for 4 yds to the Tenn 30\n",
            "UK  ###  End of 1st Quarter\n",
            "UK  ###  (15:00 - 2nd) Benny Snell Jr. run for 2 yds to the Tenn 28 for a 1ST down\n",
            "UK  ###  (15:00 - 2nd) Team run for a loss of 8 yards to the Tenn 36\n",
            "UK  ###  (15:00 - 2nd) Terry Wilson pass incomplete, broken up by Bryce Thompson\n",
            "UK  ###  (15:00 - 2nd) Terry Wilson pass complete to Benny Snell Jr. for 3 yds to the Tenn 33\n",
            "UK  ###  (12:49 - 2nd) Chance Poore 51 yd FG MISSED\n",
            "TENN  ###  (12:49 - 2nd) Jarrett Guarantano pass complete to Josh Palmer for 25 yds to the Kent 41 for a 1ST down\n",
            "TENN  ###  (12:49 - 2nd) Ty Chandler run for 3 yds to the Kent 38\n",
            "TENN  ###  (12:49 - 2nd) Ty Chandler run for 1 yd to the Kent 37\n",
            "TENN  ###  (12:49 - 2nd) Jarrett Guarantano pass complete to Dominick Wood-Anderson for 3 yds to the Kent 34\n",
            "TENN  ###  (12:49 - 2nd) Joe Doyle punt for 31 yds, downed at the Kent 3\n",
            "UK  ###  (10:04 - 2nd) Benny Snell Jr. run for 1 yd to the Kent 4\n",
            "UK  ###  (10:04 - 2nd) Benny Snell Jr. run for 2 yds to the Kent 6\n",
            "UK  ###  (10:04 - 2nd) Terry Wilson pass complete to Tavin Richardon for 2 yds to the Kent 8 KENTUCKY Penalty, illegal formation ( Yards) declined\n",
            "UK  ###  (10:04 - 2nd) Max Duffy punt for 56 yds, downed at the Tenn 36\n",
            "TENN  ###  (8:17 - 2nd) Jarrett Guarantano pass incomplete to Marquez Callaway, broken up by Lonnie Johnson Jr.\n",
            "TENN  ###  (8:17 - 2nd) Ty Chandler run for a loss of 1 yard to the Tenn 35\n",
            "TENN  ###  (8:17 - 2nd) Jarrett Guarantano sacked by Josh Allen for a loss of 7 yards to the Tenn 28\n",
            "TENN  ###  (8:17 - 2nd) Joe Doyle punt for 37 yds, fair catch by David Bouvier at the Kent 35\n",
            "UK  ###  (6:54 - 2nd) Terry Wilson pass complete to Lynn Bowden Jr. for 9 yds to the Kent 44\n",
            "UK  ###  (6:54 - 2nd) Benny Snell Jr. run for 3 yds to the Kent 47 for a 1ST down\n",
            "UK  ###  (6:54 - 2nd) Terry Wilson pass incomplete to Lynn Bowden Jr., broken up by Baylen Buchanan\n",
            "UK  ###  (6:54 - 2nd) Terry Wilson sacked by Darrell Taylor for a loss of 6 yards to the Kent 41\n",
            "UK  ###  (6:54 - 2nd) Terry Wilson pass incomplete to David Bouvier, broken up by Theo Jackson\n",
            "UK  ###  (6:54 - 2nd) KENTUCKY Penalty, false start (-5 Yards) to the Kent 36\n",
            "UK  ###  (6:54 - 2nd) Max Duffy punt for 45 yds, fair catch by Marquez Callaway at the Tenn 19\n",
            "TENN  ###  (4:53 - 2nd) Ty Chandler run for 29 yds to the Tenn 48 for a 1ST down\n",
            "TENN  ###  (4:53 - 2nd) Carlin Fils-aime run for 4 yds to the Kent 48\n",
            "TENN  ###  (4:53 - 2nd) Jarrett Guarantano pass complete to Jauan Jennings for 11 yds to the Kent 37 for a 1ST down\n",
            "TENN  ###  (4:53 - 2nd) Tim Jordan run for no gain to the Kent 37\n",
            "TENN  ###  (4:53 - 2nd) Jarrett Guarantano pass complete to Tim Jordan for 34 yds to the Kent 3 for a 1ST down\n",
            "TENN  ###  (2:05 - 2nd) Tim Jordan run for 3 yds for a TD, (Brent Cimaglia KICK)\n",
            "UK  ###  (2:05 - 2nd) Paxton Brooks kickoff for 62 yds , Lynn Bowden Jr. return for 25 yds to the Kent 28\n",
            "UK  ###  (1:57 - 2nd) Terry Wilson sacked by Darrell Taylor for a loss of 7 yards to the Kent 21\n",
            "UK  ###  (1:57 - 2nd) Terry Wilson pass incomplete to Tavin Richardon, broken up by Bryce Thompson\n",
            "UK  ###  (1:57 - 2nd) Terry Wilson run for no gain to the Kent 21\n",
            "UK  ###  (1:09 - 2nd) Timeout TENNESSEE, clock 01:09\n",
            "UK  ###  (1:09 - 2nd) Max Duffy punt for 51 yds, punt out-of-bounds at the Tenn 28\n",
            "TENN  ###  (1:00 - 2nd) Jarrett Guarantano pass incomplete to Jauan Jennings\n",
            "TENN  ###  (1:00 - 2nd) Ty Chandler run for 2 yds to the Tenn 30\n",
            "TENN  ###  (1:00 - 2nd) Ty Chandler run for 14 yds to the Tenn 44 for a 1ST down\n",
            "TENN  ###  (0:13 - 2nd) Timeout TENNESSEE, clock 00:13\n",
            "TENN  ###  (0:13 - 2nd) Jarrett Guarantano pass complete to Marquez Callaway for 17 yds to the Kent 39 for a 1ST down\n",
            "TENN  ###  (0:00 - 2nd) Jarrett Guarantano pass complete to Marquez Callaway for 39 yds for a TD, (Brent Cimaglia KICK)\n",
            "TENN  ###  (15:00 - 3rd) Grant McKinniss kickoff for 41 yds , J.J. Peterson return for 7 yds to the Tenn 31\n",
            "TENN  ###  (14:58 - 3rd) Ty Chandler run for a loss of 2 yards to the Tenn 29\n",
            "TENN  ###  (14:58 - 3rd) Jarrett Guarantano pass incomplete to Ty Chandler, broken up by Davonte Robinson\n",
            "TENN  ###  (14:58 - 3rd) Jarrett Guarantano pass incomplete to Ty Chandler TENNESSEE Penalty, Offensive holding ( Yards) declined\n",
            "TENN  ###  (14:58 - 3rd) Joe Doyle punt for 52 yds , Lynn Bowden Jr. returns for 15 yds to the Kent 34\n",
            "UK  ###  (13:57 - 3rd) Terry Wilson pass complete to Lynn Bowden Jr. for a loss of 1 yard to the Kent 33\n",
            "UK  ###  (13:57 - 3rd) Benny Snell Jr. run for a loss of 5 yards to the Kent 28\n",
            "UK  ###  (13:57 - 3rd) Terry Wilson pass complete to Lynn Bowden Jr. for 12 yds to the Kent 40\n",
            "UK  ###  (13:57 - 3rd) Max Duffy punt for 45 yds, fair catch by Marquez Callaway at the Tenn 15\n",
            "TENN  ###  (12:03 - 3rd) Ty Chandler run for a loss of 2 yards to the Tenn 13\n",
            "TENN  ###  (12:03 - 3rd) TENNESSEE Penalty, false start (Drew Richmond) to the Tenn 8\n",
            "TENN  ###  (12:03 - 3rd) Ty Chandler run for 13 yds to the Tenn 21\n",
            "TENN  ###  (12:03 - 3rd) Jarrett Guarantano pass complete to Dominick Wood-Anderson for 4 yds to the Tenn 25 for a 1ST down\n",
            "TENN  ###  (12:03 - 3rd) Jordan Murphy run for 59 yds to the Kent 16 for a 1ST down\n",
            "TENN  ###  (12:03 - 3rd) Jarrett Guarantano pass incomplete to Marquez Callaway, broken up by Chris Westry\n",
            "TENN  ###  (12:03 - 3rd) Tim Jordan run for 11 yds to the Kent 5 for a 1ST down\n",
            "TENN  ###  (12:03 - 3rd) Tim Jordan run for 3 yds to the Kent 2\n",
            "TENN  ###  (7:49 - 3rd) Jarrett Guarantano pass complete to Dominick Wood-Anderson for 2 yds for a TD, (Brent Cimaglia KICK)\n",
            "UK  ###  (7:49 - 3rd) Paxton Brooks kickoff for 65 yds for a touchback\n",
            "UK  ###  (7:49 - 3rd) Benny Snell Jr. run for 13 yds to the Kent 38 for a 1ST down\n",
            "UK  ###  (7:49 - 3rd) Benny Snell Jr. run for 8 yds to the Kent 46\n",
            "UK  ###  (7:49 - 3rd) Benny Snell Jr. run for 1 yd to the Kent 47\n",
            "UK  ###  (7:49 - 3rd) Benny Snell Jr. run for 2 yds to the Kent 49 for a 1ST down\n",
            "UK  ###  (7:49 - 3rd) Terry Wilson pass incomplete to Lynn Bowden Jr.\n",
            "UK  ###  (7:49 - 3rd) Terry Wilson pass incomplete to Isaiah Epps\n",
            "UK  ###  (7:49 - 3rd) Terry Wilson pass incomplete, broken up by Theo Jackson\n",
            "UK  ###  (7:49 - 3rd) Max Duffy punt for 40 yds, fair catch by Marquez Callaway at the Tenn 11\n",
            "TENN  ###  (6:02 - 3rd) Ty Chandler run for a loss of 2 yards to the Tenn 9\n",
            "TENN  ###  (6:02 - 3rd) Ty Chandler run for 2 yds to the Tenn 11\n",
            "TENN  ###  (6:02 - 3rd) Jarrett Guarantano run for 5 yds to the Tenn 16\n",
            "TENN  ###  (6:02 - 3rd) Joe Doyle punt for 44 yds, downed at the Kent 40\n",
            "UK  ###  (4:00 - 3rd) Terry Wilson run for 5 yds to the Kent 45\n",
            "UK  ###  (4:00 - 3rd) Terry Wilson pass complete to Benny Snell Jr. for 7 yds to the Tenn 48 for a 1ST down\n",
            "UK  ###  (4:00 - 3rd) Terry Wilson pass incomplete, PENALTY UT offside defense (Paul Bain) 5 yards to the UT43, NO PLAY.\n",
            "UK  ###  (4:00 - 3rd) Asim Rose run for 4 yds to the Tenn 39\n",
            "UK  ###  (4:00 - 3rd) Terry Wilson pass complete to Tavin Richardon for 20 yds to the Tenn 19 for a 1ST down\n",
            "UK  ###  (1:56 - 3rd) Terry Wilson pass complete to C.J. Conrad for 19 yds for a TD, (Chance Poore KICK)\n",
            "TENN  ###  (1:56 - 3rd) Grant McKinniss kickoff for 65 yds for a touchback\n",
            "TENN  ###  (1:56 - 3rd) Jarrett Guarantano pass incomplete to Jauan Jennings, broken up by Mike Edwards\n",
            "TENN  ###  (1:56 - 3rd) Carlin Fils-aime run for 1 yd to the Tenn 26\n",
            "TENN  ###  (1:56 - 3rd) Jarrett Guarantano pass complete to Tim Jordan for 7 yds to the Tenn 33\n",
            "TENN  ###  (1:56 - 3rd) Joe Doyle punt for 38 yds, downed at the Kent 29\n",
            "UK  ###  (0:35 - 3rd) Terry Wilson sacked by Deandre Johnson for a loss of 9 yards to the Kent 20 KENTUCKY Penalty, intentional grounding (Terry Wilson) to the Kent 20\n",
            "UK  ###  (0:35 - 3rd) Terry Wilson pass complete to Lynn Bowden Jr. for 13 yds to the Kent 40 for a 1ST down\n",
            "UK  ###  End of 3rd Quarter\n",
            "UK  ###  (0:35 - 3rd) Terry Wilson pass complete to Tavin Richardon for 7 yds to the Kent 27\n",
            "UK  ###  (15:00 - 4th) Benny Snell Jr. run for 5 yds to the Kent 45\n",
            "UK  ###  (15:00 - 4th) Terry Wilson pass complete to Tavin Richardon for 8 yds to the Tenn 47 for a 1ST down\n",
            "UK  ###  (15:00 - 4th) Benny Snell Jr. run for 2 yds to the Tenn 45\n",
            "UK  ###  (15:00 - 4th) Terry Wilson pass complete to Isaiah Epps for 4 yds to the Tenn 41\n",
            "UK  ###  (15:00 - 4th) Terry Wilson pass incomplete to David Bouvier\n",
            "UK  ###  (15:00 - 4th) Terry Wilson pass complete to David Bouvier for 5 yds to the Tenn 36 for a 1ST down\n",
            "UK  ###  (15:00 - 4th) Benny Snell Jr. run for 19 yds to the Tenn 17 for a 1ST down TENNESSEE Penalty, substitution infraction ( Yards) declined for a 1ST down\n",
            "UK  ###  (15:00 - 4th) Terry Wilson pass incomplete to Benny Snell Jr., broken up by Bryce Thompson\n",
            "UK  ###  (15:00 - 4th) Terry Wilson run for 5 yds to the Tenn 12\n",
            "UK  ###  (15:00 - 4th) Terry Wilson pass incomplete to Tavin Richardon, broken up by Marquill Osborne\n",
            "UK  ###  (11:58 - 4th) Chance Poore 30 yd FG BLOCKED blocked by Shy Tuttle  N/A return for no gain to the Tenn 19\n",
            "TENN  ###  (11:58 - 4th) Jarrett Guarantano pass complete to Dominick Wood-Anderson for 9 yds to the Tenn 28\n",
            "TENN  ###  (11:58 - 4th) Tim Jordan run for 8 yds to the Tenn 36 for a 1ST down\n",
            "TENN  ###  (11:58 - 4th) Tim Jordan run for a loss of 2 yards to the Tenn 34\n",
            "TENN  ###  (11:58 - 4th) Ty Chandler run for 11 yds to the Tenn 48 Ty Chandler fumbled, forced by Chris Oats, recovered by Kent Chris Oats\n",
            "UK  ###  (10:04 - 4th) Terry Wilson pass complete to Lynn Bowden Jr. for 16 yds to the Tenn 31 for a 1ST down\n",
            "UK  ###  (10:04 - 4th) Terry Wilson pass incomplete to Isaiah Epps\n",
            "UK  ###  (10:04 - 4th) Terry Wilson sacked by Darrell Taylor for a loss of 5 yards to the Tenn 36 Terry Wilson fumbled, recovered by Tenn Darrell Taylor , return for 0 yards\n",
            "TENN  ###  (9:33 - 4th) Tim Jordan run for 3 yds to the Tenn 39\n",
            "TENN  ###  (9:33 - 4th) Tim Jordan run for 1 yd to the Tenn 40\n",
            "TENN  ###  (9:33 - 4th) Tim Jordan run for 22 yds to the Kent 38 for a 1ST down\n",
            "TENN  ###  (9:33 - 4th) Madre London run for 1 yd to the Kent 35 Madre London fumbled, forced by DeAndre Square, recovered by Kent Calvin Taylor Jr.\n",
            "UK  ###  (7:06 - 4th) Terry Wilson pass incomplete\n",
            "UK  ###  (7:06 - 4th) Terry Wilson pass complete to C.J. Conrad for 20 yds to the Tenn 45 for a 1ST down\n",
            "UK  ###  (7:06 - 4th) Terry Wilson sacked for loss of 9 yards to the UK46 (Shy Tuttle), PENALTY UT face mask (Shy Tuttle) 15 yards to the UT30, 1ST DOWN UK, NO PLAY.\n",
            "UK  ###  (7:06 - 4th) Terry Wilson sacked by Darrell Taylor for a loss of 13 yards to the Tenn 43\n",
            "UK  ###  (7:06 - 4th) Terry Wilson run for 19 yds to the Tenn 24\n",
            "UK  ###  (7:06 - 4th) Terry Wilson pass intercepted Marquill Osborne return for 12 yds to the Tenn 26\n",
            "TENN  ###  (4:52 - 4th) Tim Jordan run for 9 yds to the Tenn 35\n",
            "TENN  ###  (4:52 - 4th) Tim Jordan run for 4 yds to the Tenn 39 for a 1ST down\n",
            "TENN  ###  (4:52 - 4th) Tim Jordan run for a loss of 2 yards to the Tenn 37\n",
            "TENN  ###  (4:52 - 4th) Tim Jordan run for 2 yds to the Tenn 39\n",
            "TENN  ###  (4:52 - 4th) Tim Jordan run for 3 yds to the Tenn 42\n",
            "TENN  ###  (1:59 - 4th) Timeout KENTUCKY, clock 01:59\n",
            "TENN  ###  (1:59 - 4th) Joe Doyle punt for 30 yds, punt out-of-bounds at the Kent 28\n",
            "UK  ###  (1:53 - 4th) Gunnar Hoak pass complete to David Bouvier for 5 yds to the Kent 33\n",
            "UK  ###  (1:53 - 4th) Gunnar Hoak pass incomplete\n",
            "UK  ###  (1:53 - 4th) Gunnar Hoak pass complete to Lynn Bowden Jr. for 8 yds to the Kent 41 for a 1ST down\n",
            "UK  ###  (1:53 - 4th) Gunnar Hoak pass intercepted Marquill Osborne return for 1 yd to the Tenn 47\n",
            "TENN  ###  (1:15 - 4th) Team run for a loss of 2 yards to the Tenn 45\n",
            "TENN  ###  (1:15 - 4th) Team run for a loss of 2 yards to the Tenn 43\n",
            "TENN  ###  End of 4th Quarter\n",
            "FLA  ###  (15:00 - 1st) Paxton Brooks kickoff for 65 yds for a touchback\n",
            "FLA  ###  (14:55 - 1st) Jordan Scarlett run for 12 yds to the Fla 37 for a 1ST down\n",
            "FLA  ###  (14:20 - 1st) Feleipe Franks pass complete to Moral Stephens for 11 yds to the Fla 48 for a 1ST down\n",
            "FLA  ###  (13:45 - 1st) Feleipe Franks sacked by Alexis Johnson Jr. for a loss of 7 yards to the Fla 41\n",
            "FLA  ###  (13:05 - 1st) Jordan Scarlett run for 2 yds to the Fla 43\n",
            "FLA  ###  (12:15 - 1st) FLORIDA Penalty, False Start (TEAM) to the Fla 38\n",
            "FLA  ###  (11:59 - 1st) Jordan Scarlett run for 15 yds to the Tenn 47\n",
            "FLA  ###  (11:31 - 1st) Tommy Townsend punt for 38 yds, downed at the Tenn 9\n",
            "TENN  ###  (11:20 - 1st) Ty Chandler run for 3 yds to the Tenn 12\n",
            "TENN  ###  (10:50 - 1st) Ty Chandler run for 2 yds to the Tenn 14\n",
            "TENN  ###  (10:00 - 1st) Jarrett Guarantano pass complete to Josh Palmer for 15 yds to the Tenn 29 for a 1ST down\n",
            "TENN  ###  (9:26 - 1st) Tim Jordan run for 1 yd to the Tenn 30\n",
            "TENN  ###  (8:44 - 1st) Tim Jordan run for 2 yds to the Tenn 32\n",
            "TENN  ###  (8:16 - 1st) Jarrett Guarantano sacked by Jachai Polite for a loss of 10 yards to the Tenn 21 Jarrett Guarantano fumbled, recovered by Fla David Reese II , return for 0 yards , return for 1 yd to the Tenn 21\n",
            "FLA  ###  (7:50 - 1st) Feleipe Franks run for a loss of 3 yards to the Tenn 24\n",
            "FLA  ###  (7:26 - 1st) Feleipe Franks pass complete to Freddie Swain for 23 yds to the Tenn 1 for a 1ST down\n",
            "FLA  ###  (6:50 - 1st) Feleipe Franks pass complete to R.J. Raymond for 1 yd for a TD, (Evan McPherson KICK)\n",
            "TENN  ###  (6:50 - 1st) Evan McPherson kickoff for 65 yds for a touchback\n",
            "TENN  ###  (6:42 - 1st) Jarrett Guarantano run for a loss of 2 yards to the Tenn 23\n",
            "TENN  ###  (6:21 - 1st) TENNESSEE Penalty, Personal Foul (Trey Smith) to the Tenn 12\n",
            "TENN  ###  (6:00 - 1st) Jarrett Guarantano run for no gain to the Tenn 12\n",
            "TENN  ###  (5:35 - 1st) Jarrett Guarantano pass intercepted Luke Ancrum return for 5 yds to the Tenn 7\n",
            "FLA  ###  (5:02 - 1st) Lamical Perine run for 6 yds to the Tenn 1\n",
            "FLA  ###  (4:52 - 1st) Feleipe Franks run for 1 yd for a TD, (Evan McPherson KICK)\n",
            "TENN  ###  (4:52 - 1st) Evan McPherson kickoff for 65 yds for a touchback\n",
            "TENN  ###  (4:40 - 1st) Tim Jordan run for 4 yds to the Tenn 29\n",
            "TENN  ###  (4:00 - 1st) Tim Jordan run for a loss of 1 yard to the Tenn 28\n",
            "TENN  ###  (3:20 - 1st) Jarrett Guarantano pass complete to Jauan Jennings for 28 yds to the Fla 44 for a 1ST down\n",
            "TENN  ###  (3:10 - 1st) TENNESSEE Penalty, False Start (Drew Richmond) to the Fla 49\n",
            "TENN  ###  (2:45 - 1st) Ty Chandler run for 3 yds to the Fla 46\n",
            "TENN  ###  (2:10 - 1st) Jarrett Guarantano pass incomplete to Marquez Callaway\n",
            "TENN  ###  (1:45 - 1st) Ty Chandler run for 8 yds to the Fla 38\n",
            "TENN  ###  (1:27 - 1st) Jarrett Guarantano pass incomplete to Dominick Wood-Anderson\n",
            "FLA  ###  (1:20 - 1st) Lamical Perine run for no gain to the Fla 34 Lamical Perine fumbled, forced by Alontae Taylor, recovered by Tenn Kyle Phillips  , return for 2 yds to the Fla 34\n",
            "TENN  ###  (1:04 - 1st) Tim Jordan run for a loss of 2 yards to the Fla 36\n",
            "TENN  ###  (0:30 - 1st) Jarrett Guarantano pass complete to Brandon Johnson for 6 yds to the Fla 30\n",
            "TENN  ###  (0:00 - 1st) Jarrett Guarantano run for 7 yds to the Fla 23 for a 1ST down\n",
            "TENN  ###  End of 1st Quarter\n",
            "TENN  ###  (14:55 - 2nd) Ty Chandler run for 5 yds to the Fla 18\n",
            "TENN  ###  (14:25 - 2nd) Ty Chandler run for 4 yds to the Fla 14\n",
            "TENN  ###  (13:29 - 2nd) Ty Chandler run for a loss of 1 yard to the Fla 15\n",
            "TENN  ###  (13:13 - 2nd) Brent Cimaglia 32 yd FG GOOD\n",
            "FLA  ###  (13:13 - 2nd) Paxton Brooks on-side kick recovered by FLORIDA at the Tenn 49\n",
            "FLA  ###  (13:04 - 2nd) Feleipe Franks pass incomplete to Tyrie Cleveland\n",
            "FLA  ###  (12:51 - 2nd) Jordan Scarlett run for 4 yds to the Tenn 45\n",
            "FLA  ###  (12:18 - 2nd) Jordan Scarlett run for 1 yd to the Tenn 44\n",
            "FLA  ###  (11:37 - 2nd) Tommy Townsend punt for 42 yds, downed at the Tenn 2\n",
            "TENN  ###  (11:19 - 2nd) Tim Jordan run for no gain to the Tenn 2\n",
            "TENN  ###  (11:03 - 2nd) Cece Jefferson Safety\n",
            "FLA  ###  (11:03 - 2nd) Paxton Brooks kickoff for 68 yds , Kadarius Toney return for 23 yds to the Fla 35\n",
            "FLA  ###  (10:42 - 2nd) Feleipe Franks pass complete to Freddie Swain for 65 yds for a TD, (Evan McPherson KICK)\n",
            "TENN  ###  (10:42 - 2nd) Evan McPherson kickoff for 65 yds , Shawn Shamburger return for 23 yds to the Tenn 23\n",
            "TENN  ###  (10:23 - 2nd) Ty Chandler run for 13 yds to the Tenn 36 for a 1ST down\n",
            "TENN  ###  (10:00 - 2nd) Madre London run for 7 yds to the Tenn 43\n",
            "TENN  ###  (9:30 - 2nd) Madre London run for 2 yds to the Tenn 45\n",
            "TENN  ###  (8:41 - 2nd) Madre London run for no gain to the Tenn 45\n",
            "TENN  ###  (8:04 - 2nd) Jarrett Guarantano pass complete to Austin Pope for 54 yds Austin Pope fumbled, forced by CJ Henderson, recovered by Fla\n",
            "FLA  ###  (7:50 - 2nd) Feleipe Franks pass complete to Kemore Gamble for 6 yds to the Fla 26\n",
            "FLA  ###  (7:15 - 2nd) Lamical Perine run for 1 yd to the Fla 27 FLORIDA Penalty, Offensive Holding (C'yontai Lewis) to the Fla 17\n",
            "FLA  ###  (6:55 - 2nd) Feleipe Franks pass incomplete to Tyrie Cleveland\n",
            "FLA  ###  (6:44 - 2nd) Feleipe Franks pass incomplete to Kemore Gamble\n",
            "FLA  ###  (6:37 - 2nd) Tommy Townsend punt for 53 yds, fair catch by Marquez Callaway at the Tenn 30\n",
            "TENN  ###  (6:31 - 2nd) Jarrett Guarantano pass incomplete\n",
            "TENN  ###  (6:20 - 2nd) Jarrett Guarantano pass complete to Marquez Callaway for 36 yds to the Fla 34 for a 1ST down\n",
            "TENN  ###  (5:51 - 2nd) Ty Chandler run for 2 yds to the Fla 32\n",
            "TENN  ###  (5:20 - 2nd) Ty Chandler run for 6 yds to the Fla 26\n",
            "TENN  ###  (5:01 - 2nd) Ty Chandler run for 4 yds to the Fla 22 for a 1ST down\n",
            "TENN  ###  (4:55 - 2nd) Madre London run for 2 yds to the Fla 20 TENNESSEE Penalty, Personal Foul (Austin Pope) to the Fla 35\n",
            "TENN  ###  (4:04 - 2nd) Jarrett Guarantano pass incomplete to Marquez Callaway\n",
            "TENN  ###  (3:50 - 2nd) Madre London run for 12 yds to the Fla 23\n",
            "TENN  ###  (3:14 - 2nd) TEAM run for a loss of 3 yards to the Fla 26 TEAM fumbled, recovered by Fla Khairi Clark\n",
            "FLA  ###  (2:45 - 2nd) Kadarius Toney run for 34 yds to the Tenn 40 for a 1ST down\n",
            "FLA  ###  (2:30 - 2nd) Feleipe Franks pass incomplete\n",
            "FLA  ###  (2:14 - 2nd) Jordan Scarlett run for 9 yds to the Tenn 31\n",
            "FLA  ###  (2:00 - 2nd) Feleipe Franks run for 17 yds to the Tenn 14 for a 1ST down\n",
            "FLA  ###  (1:10 - 2nd) Feleipe Franks pass incomplete to Tyrie Cleveland\n",
            "FLA  ###  (0:56 - 2nd) Feleipe Franks run for 6 yds to the Tenn 8\n",
            "FLA  ###  (0:19 - 2nd) Feleipe Franks pass incomplete to Freddie Swain\n",
            "FLA  ###  (0:15 - 2nd) Evan McPherson 25 yd FG GOOD\n",
            "TENN  ###  (0:15 - 2nd) Evan McPherson kickoff for 65 yds for a touchback\n",
            "TENN  ###  (0:00 - 2nd) TEAM run for a loss of 2 yards to the Tenn 23\n",
            "FLA  ###  (14:52 - 3rd) Evan McPherson kickoff for 65 yds , Shawn Shamburger return for 19 yds to the Tenn 19 Shawn Shamburger fumbled, forced by Brad Stewart Jr., recovered by Fla Brian Edwards\n",
            "FLA  ###  (14:44 - 3rd) Jordan Scarlett run for 19 yds for a TD, (Evan McPherson KICK)\n",
            "TENN  ###  (14:44 - 3rd) Evan McPherson kickoff for 65 yds for a touchback\n",
            "TENN  ###  (14:30 - 3rd) Ty Chandler run for 3 yds to the Tenn 28\n",
            "TENN  ###  (13:57 - 3rd) Ty Chandler run for 3 yds to the Tenn 31\n",
            "TENN  ###  (13:30 - 3rd) Jarrett Guarantano pass complete to Jauan Jennings for 17 yds to the Tenn 48 for a 1ST down\n",
            "TENN  ###  (13:15 - 3rd) FLORIDA Penalty, Defensive Pass Interference (Trey Dean III) to the Fla 37 for a 1ST down\n",
            "TENN  ###  (13:06 - 3rd) Tim Jordan run for 3 yds to the Fla 34\n",
            "TENN  ###  (13:06 - 3rd) Jarrett Guarantano pass incomplete\n",
            "TENN  ###  (12:54 - 3rd) FLORIDA Penalty, Unsportsmanlike Conduct (CJ Henderson) to the Fla 19 for a 1ST down\n",
            "TENN  ###  (12:48 - 3rd) Jarrett Guarantano pass incomplete to Marquez Callaway\n",
            "TENN  ###  (12:48 - 3rd) TENNESSEE Penalty, Delay of Game (TEAM) to the Fla 24\n",
            "TENN  ###  (12:44 - 3rd) Jarrett Guarantano pass incomplete to Brandon Johnson\n",
            "TENN  ###  (12:38 - 3rd) Brent Cimaglia 41 yd FG GOOD\n",
            "FLA  ###  (12:38 - 3rd) Paxton Brooks kickoff for 65 yds , Kadarius Toney return for 13 yds to the Fla 13\n",
            "FLA  ###  (12:20 - 3rd) Lamical Perine run for 3 yds to the Fla 16\n",
            "FLA  ###  (11:45 - 3rd) Feleipe Franks pass incomplete\n",
            "FLA  ###  (11:16 - 3rd) Feleipe Franks sacked by Kyle Phillips for a loss of 7 yards to the Fla 9\n",
            "FLA  ###  (11:00 - 3rd) Tommy Townsend punt for 41 yds, fair catch by Marquez Callaway at the 50 yard line\n",
            "TENN  ###  (10:52 - 3rd) Jarrett Guarantano pass intercepted Brad Stewart Jr. return for no gain to the Fla 2\n",
            "FLA  ###  (10:52 - 3rd) TENNESSEE Penalty, Unsportsmanlike Conduct (TEAM) to the Fla 17 for a 1ST down\n",
            "FLA  ###  (10:30 - 3rd) Jordan Scarlett run for 3 yds to the Fla 20\n",
            "FLA  ###  (10:00 - 3rd) Feleipe Franks pass incomplete to C'yontai Lewis\n",
            "FLA  ###  (9:54 - 3rd) Feleipe Franks pass incomplete to Van Jefferson\n",
            "FLA  ###  (9:42 - 3rd) Tommy Townsend punt for 58 yds , Marquez Callaway returns for 6 yds to the Tenn 28\n",
            "TENN  ###  (9:20 - 3rd) Tim Jordan run for no gain to the Tenn 28\n",
            "TENN  ###  (8:40 - 3rd) Jarrett Guarantano pass complete to Jauan Jennings for 7 yds to the Tenn 35\n",
            "TENN  ###  (8:26 - 3rd) Jarrett Guarantano pass incomplete to Jauan Jennings\n",
            "TENN  ###  (8:14 - 3rd) Joe Doyle punt for 47 yds, downed at the Fla 18\n",
            "FLA  ###  (8:00 - 3rd) Dameon Pierce run for 2 yds to the Fla 20\n",
            "FLA  ###  (7:21 - 3rd) Dameon Pierce run for 2 yds to the Fla 22\n",
            "FLA  ###  (6:29 - 3rd) Feleipe Franks pass complete to Tyrie Cleveland for 5 yds to the Fla 27\n",
            "FLA  ###  (6:09 - 3rd) FLORIDA Penalty, Illegal Formation (TEAM) to the Fla 23\n",
            "FLA  ###  (6:01 - 3rd) Tommy Townsend punt for 46 yds, fair catch by Marquez Callaway at the Tenn 31\n",
            "TENN  ###  (5:55 - 3rd) Ty Chandler run for 1 yd to the Tenn 32\n",
            "TENN  ###  (5:16 - 3rd) Ty Chandler run for 4 yds to the Tenn 36\n",
            "TENN  ###  (4:48 - 3rd) FLORIDA Penalty, Defensive Offside (James Houston IV) to the Tenn 41 for a 1ST down\n",
            "TENN  ###  (4:39 - 3rd) Jarrett Guarantano pass incomplete to Josh Palmer\n",
            "TENN  ###  (4:22 - 3rd) Madre London run for 43 yds to the Fla 16 for a 1ST down\n",
            "TENN  ###  (4:12 - 3rd) Keller Chryst pass complete to Jauan Jennings for 8 yds to the Fla 8\n",
            "TENN  ###  (3:38 - 3rd) Ty Chandler run for 4 yds to the Fla 4 for a 1ST down\n",
            "TENN  ###  (3:13 - 3rd) Ty Chandler run for no gain to the Fla 4\n",
            "TENN  ###  (2:41 - 3rd) Keller Chryst pass incomplete to Dominick Wood-Anderson\n",
            "TENN  ###  (2:38 - 3rd) Chryst, Keller pass incomplete, PENALTY FLORIDA pass interference (Taylor, Jeawon) 0 yards to the FLORIDA2, NO PLAY, 1ST DOWN TENNESSEE.\n",
            "TENN  ###  (2:20 - 3rd) Madre London run for 1 yd to the Fla 1\n",
            "TENN  ###  (1:55 - 3rd) Madre London run for no gain to the Fla 1\n",
            "TENN  ###  (1:22 - 3rd) Madre London run for 1 yd for a TD, (Brent Cimaglia KICK)\n",
            "FLA  ###  (1:22 - 3rd) Paxton Brooks kickoff for 65 yds for a touchback\n",
            "FLA  ###  (1:07 - 3rd) Jordan Scarlett run for 6 yds to the Fla 31\n",
            "FLA  ###  (0:37 - 3rd) Jordan Scarlett run for 4 yds to the Fla 35 for a 1ST down\n",
            "FLA  ###  (0:00 - 3rd) Jordan Scarlett run for 2 yds to the Fla 37\n",
            "FLA  ###  End of 3rd Quarter\n",
            "FLA  ###  (14:55 - 4th) Feleipe Franks pass complete to Kadarius Toney for 7 yds to the Fla 44\n",
            "FLA  ###  (14:30 - 4th) Feleipe Franks run for 2 yds to the Fla 46 for a 1ST down\n",
            "FLA  ###  (14:00 - 4th) Feleipe Franks pass complete to Moral Stephens for 16 yds to the Tenn 38 for a 1ST down\n",
            "FLA  ###  (13:17 - 4th) Feleipe Franks pass complete to Tyrie Cleveland for 38 yds for a TD, (Evan McPherson KICK)\n",
            "TENN  ###  (13:17 - 4th) Evan McPherson kickoff for 65 yds , Bryce Thompson return for 21 yds to the Tenn 21\n",
            "TENN  ###  (13:01 - 4th) Ty Chandler run for a loss of 1 yard to the Tenn 20\n",
            "TENN  ###  (12:20 - 4th) Ty Chandler run for 3 yds to the Tenn 23\n",
            "TENN  ###  (11:58 - 4th) Keller Chryst pass incomplete\n",
            "TENN  ###  (11:48 - 4th) Joe Doyle punt for 44 yds , Freddie Swain returns for a loss of 4 yards to the Fla 29\n",
            "FLA  ###  (11:48 - 4th) FLORIDA Penalty, False Start (Jawaan Taylor) to the Fla 24\n",
            "FLA  ###  (11:30 - 4th) Lamical Perine run for 3 yds to the Fla 27\n",
            "FLA  ###  (11:00 - 4th) Lamical Perine run for 3 yds to the Fla 30\n",
            "FLA  ###  (10:20 - 4th) Feleipe Franks run for 2 yds to the Fla 32\n",
            "FLA  ###  (9:53 - 4th) Tommy Townsend punt for 44 yds, fair catch by Marquez Callaway at the Tenn 24\n",
            "TENN  ###  (9:45 - 4th) Jeremy Banks run for 2 yds to the Tenn 26\n",
            "TENN  ###  (9:16 - 4th) Keller Chryst pass incomplete to Marquez Callaway\n",
            "TENN  ###  (9:08 - 4th) Keller Chryst pass complete to Marquez Callaway for 25 yds to the Fla 49 for a 1ST down\n",
            "TENN  ###  (8:40 - 4th) Jeremy Banks run for 9 yds to the Fla 40\n",
            "TENN  ###  (8:20 - 4th) Jeremy Banks run for 2 yds to the Fla 38 for a 1ST down\n",
            "TENN  ###  (7:30 - 4th) Madre London run for a loss of 3 yards to the Fla 41\n",
            "TENN  ###  (7:16 - 4th) FLORIDA Penalty, Defensive Pass Interference (CJ Henderson) to the Fla 26 for a 1ST down\n",
            "TENN  ###  (7:00 - 4th) Madre London run for 1 yd to the Fla 25\n",
            "TENN  ###  (6:40 - 4th) Keller Chryst pass incomplete\n",
            "TENN  ###  (6:20 - 4th) Keller Chryst pass complete to Brandon Johnson for 11 yds to the Fla 14 for a 1ST down\n",
            "TENN  ###  (6:20 - 4th) Jeremy Banks run for 7 yds to the Fla 7 for a 1ST down FLORIDA Penalty, Face Mask (3 yards) (Kyree Campbell) to the Fla 4 for a 1ST down\n",
            "TENN  ###  (6:00 - 4th) Jeremy Banks run for 2 yds to the Fla 2\n",
            "TENN  ###  (5:04 - 4th) Jeremy Banks run for 2 yds for a TD, (Keller Chryst pass  to Jauan Jennings for Two-Point Conversion)\n",
            "FLA  ###  (5:04 - 4th) Paxton Brooks on-side kick recovered by FLORIDA at the Tenn 47\n",
            "FLA  ###  (4:54 - 4th) Dameon Pierce run for 47 yds for a TD, (Evan McPherson KICK)\n",
            "TENN  ###  (4:54 - 4th) Evan McPherson kickoff for 65 yds , Bryce Thompson return for 15 yds to the 50 yard line TENNESSEE Penalty, Illegal Block (Will Ignont) to the Tenn 8\n",
            "TENN  ###  (4:45 - 4th) Jeremy Banks run for 5 yds to the Tenn 13\n",
            "TENN  ###  (4:00 - 4th) Keller Chryst run for 4 yds to the Tenn 17\n",
            "TENN  ###  (3:40 - 4th) Jeremy Banks run for a loss of 4 yards to the Tenn 13\n",
            "TENN  ###  (3:08 - 4th) Joe Doyle punt for 41 yds, downed at the Fla 46\n",
            "FLA  ###  (2:45 - 4th) Dameon Pierce run for 3 yds to the Fla 49\n",
            "FLA  ###  (2:20 - 4th) Dameon Pierce run for no gain to the Fla 49\n",
            "FLA  ###  (1:30 - 4th) Kyle Trask pass complete to Trevon Grimes for 14 yds to the Tenn 37 for a 1ST down\n",
            "FLA  ###  (1:00 - 4th) Dameon Pierce run for 4 yds to the Tenn 33\n",
            "FLA  ###  (0:00 - 4th) Dameon Pierce run for 5 yds to the Tenn 28\n",
            "FLA  ###  End of 4th Quarter\n",
            "ALA  ###  (15:00 - 1st) Paxton Brooks kickoff for 65 yds , Josh Jacobs return for 42 yds to the Alab 42\n",
            "ALA  ###  (14:45 - 1st) Tua Tagovailoa pass complete to Irv Smith Jr. for 12 yds to the Tenn 46 for a 1ST down\n",
            "ALA  ###  (14:20 - 1st) ALABAMA Penalty, False Start (Alex Leatherwood) to the Alab 49\n",
            "ALA  ###  (14:00 - 1st) Josh Jacobs run for 16 yds to the Tenn 35 for a 1ST down\n",
            "ALA  ###  (13:39 - 1st) Tua Tagovailoa pass incomplete to Henry Ruggs III\n",
            "ALA  ###  (13:35 - 1st) Tua Tagovailoa pass incomplete to Jerry Jeudy\n",
            "ALA  ###  (13:27 - 1st) Tua Tagovailoa pass complete to Jaylen Waddle for 10 yds to the Tenn 25 for a 1ST down\n",
            "ALA  ###  (13:00 - 1st) Josh Jacobs run for 1 yd to the Tenn 24\n",
            "ALA  ###  (12:30 - 1st) Josh Jacobs run for 12 yds to the Tenn 12 for a 1ST down\n",
            "ALA  ###  (11:45 - 1st) Josh Jacobs run for 1 yd to the Tenn 11\n",
            "ALA  ###  (10:58 - 1st) Tua Tagovailoa pass complete to Jerry Jeudy for 11 yds for a TD, (Joseph Bulovas KICK)\n",
            "TENN  ###  (10:58 - 1st) Joseph Bulovas kickoff for 60 yds for a touchback\n",
            "TENN  ###  (10:54 - 1st) Jarrett Guarantano pass incomplete to Marquez Callaway\n",
            "TENN  ###  (10:50 - 1st) Jarrett Guarantano pass incomplete to Ty Chandler\n",
            "TENN  ###  (10:43 - 1st) Jarrett Guarantano sacked by Xavier McKinney for a loss of 22 yards to the Tenn 3 Jarrett Guarantano fumbled, forced by Xavier McKinney, recovered by Alab Christian Miller , return for 0 yards\n",
            "ALA  ###  (10:39 - 1st) Tua Tagovailoa pass incomplete to Henry Ruggs III\n",
            "ALA  ###  (10:35 - 1st) Josh Jacobs run for 3 yds for a TD, (Joseph Bulovas KICK)\n",
            "TENN  ###  (10:35 - 1st) Joseph Bulovas kickoff for 55 yds , Ty Chandler return for 15 yds to the Tenn 25\n",
            "TENN  ###  (10:25 - 1st) Ty Chandler run for a loss of 4 yards to the Tenn 21\n",
            "TENN  ###  (9:50 - 1st) Jarrett Guarantano sacked by Christian Miller for a loss of 2 yards to the Tenn 19\n",
            "TENN  ###  (9:05 - 1st) Tim Jordan run for 4 yds to the Tenn 23\n",
            "TENN  ###  (8:19 - 1st) Joe Doyle punt for 54 yds, downed at the Alab 23\n",
            "ALA  ###  (8:08 - 1st) Tua Tagovailoa pass complete to Jaylen Waddle for 77 yds for a TD, (Joseph Bulovas KICK)\n",
            "TENN  ###  (8:08 - 1st) Joseph Bulovas kickoff for 50 yds , Ty Chandler return for 16 yds to the Tenn 31\n",
            "TENN  ###  (7:59 - 1st) Jarrett Guarantano pass incomplete\n",
            "TENN  ###  (7:52 - 1st) Jarrett Guarantano pass complete to Ty Chandler for 3 yds to the Tenn 34\n",
            "TENN  ###  (7:25 - 1st) Jarrett Guarantano pass complete to Jauan Jennings for a loss of 1 yard to the Tenn 33\n",
            "TENN  ###  (6:39 - 1st) TENNESSEE Penalty, False Start (-5 Yards) to the Tenn 28\n",
            "TENN  ###  (6:15 - 1st) Joe Doyle punt for 52 yds , Jaylen Waddle returns for a loss of 7 yards to the Alab 21 ALABAMA Penalty, Illegal Block (6 Yards) to the Alab 7\n",
            "ALA  ###  (6:07 - 1st) Najee Harris run for 8 yds to the Alab 15\n",
            "ALA  ###  (5:35 - 1st) Tua Tagovailoa pass complete to Josh Jacobs for 2 yds to the Alab 17 for a 1ST down TENNESSEE Penalty, Personal Foul (15 Yards) to the Alab 32 for a 1ST down\n",
            "ALA  ###  (5:20 - 1st) Tua Tagovailoa pass complete to Jerry Jeudy for 31 yds to the Tenn 37 for a 1ST down\n",
            "ALA  ###  (5:00 - 1st) Najee Harris run for 4 yds to the Tenn 33\n",
            "ALA  ###  (4:35 - 1st) Tua Tagovailoa pass complete to Jerry Jeudy for 15 yds to the Tenn 18 for a 1ST down\n",
            "ALA  ###  (4:03 - 1st) Tua Tagovailoa pass incomplete to Irv Smith Jr.\n",
            "ALA  ###  (3:59 - 1st) Tua Tagovailoa pass incomplete to Hale Hentges\n",
            "ALA  ###  (3:51 - 1st) Tua Tagovailoa pass complete to Damien Harris for 11 yds to the Tenn 7 for a 1ST down TENNESSEE Penalty, Personal Foul (4 Yards) to the Tenn 3 for a 1ST down\n",
            "ALA  ###  (3:31 - 1st) Damien Harris run for 3 yds for a TD, (Joseph Bulovas KICK)\n",
            "TENN  ###  (3:31 - 1st) Joseph Bulovas kickoff for 60 yds , Ty Chandler return for 22 yds to the Tenn 27\n",
            "TENN  ###  (3:20 - 1st) Ty Chandler run for 8 yds to the Tenn 35\n",
            "TENN  ###  (2:50 - 1st) Ty Chandler run for 1 yd to the Tenn 36\n",
            "TENN  ###  (2:10 - 1st) Madre London run for a loss of 1 yard to the Tenn 35\n",
            "TENN  ###  (1:21 - 1st) ALABAMA Penalty, Defensive Offside (5 Yards) to the Tenn 40 for a 1ST down\n",
            "TENN  ###  (1:15 - 1st) Jarrett Guarantano pass incomplete to Josh Palmer\n",
            "TENN  ###  (1:15 - 1st) Timeout TENNESSEE, clock 01:15\n",
            "TENN  ###  (1:09 - 1st) Jarrett Guarantano pass complete to Jauan Jennings for 20 yds to the Alab 40 for a 1ST down\n",
            "TENN  ###  (0:45 - 1st) Tim Jordan run for a loss of 2 yards to the Alab 42\n",
            "TENN  ###  (0:15 - 1st) Jarrett Guarantano pass incomplete to Tim Jordan\n",
            "TENN  ###  (0:10 - 1st) Ty Chandler run for 2 yds to the Alab 40\n",
            "TENN  ###  End of 1st Quarter\n",
            "TENN  ###  (14:54 - 2nd) Joe Doyle punt for 31 yds, fair catch by Jaylen Waddle at the Alab 9\n",
            "ALA  ###  (14:47 - 2nd) Najee Harris run for 1 yd to the Alab 10\n",
            "ALA  ###  (14:15 - 2nd) Tua Tagovailoa pass complete to Najee Harris for 1 yd to the Alab 11\n",
            "ALA  ###  (13:27 - 2nd) Tua Tagovailoa pass incomplete to Jaylen Waddle\n",
            "ALA  ###  (13:20 - 2nd) Mike Bernier punt for 41 yds, fair catch by Marquez Callaway at the Tenn 48\n",
            "TENN  ###  (13:02 - 2nd) Ty Chandler run for 9 yds to the TENNESSEE 43 TENNESSEE Penalty, Personal Foul (-15 Yards) to the Tenn 42\n",
            "TENN  ###  (12:42 - 2nd) Jarrett Guarantano pass complete to Jauan Jennings for 11 yds to the Alab 47\n",
            "TENN  ###  (12:12 - 2nd) Jarrett Guarantano sacked by Isaiah Buggs for a loss of 6 yards to the Tenn 47\n",
            "TENN  ###  (11:29 - 2nd) Joe Doyle punt for 13 yds, punt out-of-bounds at the Alab 40\n",
            "ALA  ###  (11:20 - 2nd) ALABAMA Penalty, Offensive Holding (Irv Smith Jr.) to the Alab 30\n",
            "ALA  ###  (11:09 - 2nd) Damien Harris run for 4 yds to the Alab 34\n",
            "ALA  ###  (10:30 - 2nd) Tua Tagovailoa pass incomplete to Jerry Jeudy\n",
            "ALA  ###  (10:19 - 2nd) Tua Tagovailoa pass incomplete to Damien Harris\n",
            "TENN  ###  (10:05 - 2nd) ALABAMA Penalty, Defensive Holding (10 Yards) to the Tenn 35 for a 1ST down\n",
            "TENN  ###  (9:40 - 2nd) Ty Chandler run for a loss of 1 yard to the Tenn 34\n",
            "TENN  ###  (9:10 - 2nd) Jarrett Guarantano pass complete to Josh Palmer for 30 yds to the Alab 36 for a 1ST down\n",
            "TENN  ###  (8:40 - 2nd) Ty Chandler run for no gain to the Alab 36\n",
            "TENN  ###  (8:05 - 2nd) Keller Chryst pass complete to Ty Chandler for 26 yds to the Alab 10 for a 1ST down\n",
            "TENN  ###  (7:21 - 2nd) Keller Chryst pass complete to Ty Chandler for 10 yds for a TD, (Brent Cimaglia KICK)\n",
            "ALA  ###  (7:21 - 2nd) Paxton Brooks on-side kick recovered by ALABAMA at the Tenn 43 TENNESSEE Penalty, Illegal Touching ( Yards) to the Tenn 43\n",
            "ALA  ###  (7:15 - 2nd) Josh Jacobs run for 5 yds to the Tenn 38\n",
            "ALA  ###  (6:55 - 2nd) Josh Jacobs run for 10 yds to the Tenn 28 for a 1ST down\n",
            "ALA  ###  (6:35 - 2nd) Josh Jacobs run for 1 yd to the Tenn 27\n",
            "ALA  ###  (6:00 - 2nd) Tua Tagovailoa pass complete to Henry Ruggs III for 12 yds to the Tenn 15 for a 1ST down\n",
            "ALA  ###  (5:18 - 2nd) Tua Tagovailoa pass incomplete to Josh Jacobs\n",
            "ALA  ###  (5:11 - 2nd) Josh Jacobs run for 13 yds to the Tenn 2 for a 1ST down\n",
            "ALA  ###  (5:00 - 2nd) Josh Jacobs run for no gain to the Tenn 2\n",
            "ALA  ###  (4:23 - 2nd) Josh Jacobs run for 2 yds for a TD, (Joseph Bulovas KICK)\n",
            "TENN  ###  (4:23 - 2nd) Joseph Bulovas kickoff for 62 yds , Ty Chandler return for 16 yds to the Tenn 19\n",
            "TENN  ###  (4:16 - 2nd) TENNESSEE Penalty, False Start (-5 Yards) to the Tenn 14\n",
            "TENN  ###  (4:10 - 2nd) Tim Jordan run for 3 yds to the Tenn 17\n",
            "TENN  ###  (3:35 - 2nd) Keller Chryst pass incomplete to Jauan Jennings\n",
            "TENN  ###  (3:28 - 2nd) Keller Chryst pass complete to Jauan Jennings for 23 yds to the Tenn 40 for a 1ST down\n",
            "TENN  ###  (3:00 - 2nd) Keller Chryst pass complete to Jauan Jennings for 40 yds Jauan Jennings fumbled, recovered by Tenn Jauan Jennings for a 1ST down\n",
            "TENN  ###  (2:23 - 2nd) Keller Chryst pass incomplete to Jauan Jennings\n",
            "TENN  ###  (2:18 - 2nd) Keller Chryst pass complete to Tyler Byrd for 20 yds for a TD, (Brent Cimaglia KICK)\n",
            "ALA  ###  (2:18 - 2nd) Paxton Brooks kickoff for 53 yds , Josh Jacobs return for 3 yds to the Alab 15\n",
            "ALA  ###  (2:12 - 2nd) Tua Tagovailoa pass incomplete to Jerry Jeudy\n",
            "ALA  ###  (2:05 - 2nd) Damien Harris run for 5 yds to the Alab 20\n",
            "ALA  ###  (1:21 - 2nd) Tua Tagovailoa run for 6 yds to the Alab 26 for a 1ST down\n",
            "ALA  ###  (1:00 - 2nd) Tua Tagovailoa pass complete to Jaylen Waddle for 22 yds to the Alab 48 for a 1ST down\n",
            "ALA  ###  (0:48 - 2nd) Tua Tagovailoa pass complete to Irv Smith Jr. for 1 yd to the Alab 49\n",
            "ALA  ###  (0:40 - 2nd) Tua Tagovailoa pass complete to Jerry Jeudy for 14 yds to the Tenn 37 for a 1ST down\n",
            "ALA  ###  (0:26 - 2nd) Tua Tagovailoa pass complete to Irv Smith Jr. for 3 yds to the Tenn 34\n",
            "ALA  ###  (0:19 - 2nd) Tua Tagovailoa pass complete to Irv Smith Jr. for 25 yds to the Tenn 9 for a 1ST down\n",
            "ALA  ###  (0:19 - 2nd) Timeout ALABAMA, clock 00:19\n",
            "ALA  ###  (0:15 - 2nd) Tua Tagovailoa pass complete to Irv Smith Jr. for 9 yds for a TD, (Joseph Bulovas KICK)\n",
            "TENN  ###  (0:15 - 2nd) Joseph Bulovas kickoff for 65 yds for a touchback\n",
            "TENN  ###  (0:14 - 2nd) TEAM run for a loss of 2 yards to the Tenn 23\n",
            "TENN  ###  (15:00 - 3rd) Joseph Bulovas kickoff for 62 yds , Ty Chandler return for no gain to the Tenn 35 TENNESSEE Penalty, Illegal Fair Catch Signal (Ty Chandler) to the Tenn 3\n",
            "TENN  ###  (14:52 - 3rd) Keller Chryst run for a loss of 3 yards for a SAFETY\n",
            "TENN  ###  (14:52 - 3rd) TENNESSEE Penalty, Unsportsmanlike Conduct (-10 Yards) to the Tenn 10 for a 1ST down\n",
            "ALA  ###  (14:52 - 3rd) Paxton Brooks kickoff for 62 yds , Josh Jacobs return for 18 yds to the Alab 46\n",
            "ALA  ###  (14:40 - 3rd) Josh Jacobs run for 4 yds to the 50 yard line\n",
            "ALA  ###  (14:10 - 3rd) Tua Tagovailoa pass complete to Jerry Jeudy for 1 yd to the Tenn 49\n",
            "ALA  ###  (13:30 - 3rd) Tua Tagovailoa pass complete to Jaylen Waddle for 8 yds to the Tenn 41 for a 1ST down\n",
            "ALA  ###  (12:53 - 3rd) Tua Tagovailoa pass complete to Henry Ruggs III for 41 yds for a TD, (Joseph Bulovas KICK)\n",
            "TENN  ###  (12:53 - 3rd) Joseph Bulovas kickoff for 65 yds for a touchback\n",
            "TENN  ###  (12:45 - 3rd) Tim Jordan run for 4 yds to the Tenn 29\n",
            "TENN  ###  (12:07 - 3rd) Tim Jordan run for 4 yds to the Tenn 33\n",
            "TENN  ###  (11:30 - 3rd) Keller Chryst pass complete to Eli Wolf for 2 yds to the Tenn 35 for a 1ST down\n",
            "TENN  ###  (10:55 - 3rd) Ty Chandler run for a loss of 1 yard to the Tenn 34\n",
            "TENN  ###  (10:14 - 3rd) Keller Chryst pass incomplete to Marquez Callaway\n",
            "TENN  ###  (10:03 - 3rd) Keller Chryst pass complete to Brandon Johnson for 27 yds to the Alab 39 for a 1ST down\n",
            "TENN  ###  (9:30 - 3rd) Madre London run for a loss of 4 yards to the Alab 43 Madre London fumbled, recovered by Tenn\n",
            "TENN  ###  (9:07 - 3rd) Keller Chryst pass incomplete\n",
            "TENN  ###  (9:00 - 3rd) Keller Chryst pass complete to Tim Jordan for 7 yds to the Alab 36\n",
            "TENN  ###  (8:25 - 3rd) Keller Chryst pass complete to Jauan Jennings for 9 yds to the Alab 27 for a 1ST down\n",
            "TENN  ###  (7:46 - 3rd) TENNESSEE Penalty, Substitution Infraction (-5 Yards) to the Alab 32\n",
            "TENN  ###  (7:19 - 3rd) Ty Chandler run for 7 yds to the Alab 25\n",
            "TENN  ###  (6:56 - 3rd) Tim Jordan run for 1 yd to the Alab 24\n",
            "TENN  ###  (6:12 - 3rd) Keller Chryst pass incomplete to Eli Wolf\n",
            "TENN  ###  (6:07 - 3rd) Brent Cimaglia 41 yd FG MISSED\n",
            "ALA  ###  (6:00 - 3rd) Jalen Hurts run for 3 yds to the Alab 27\n",
            "ALA  ###  (5:17 - 3rd) Jalen Hurts pass intercepted for a TD Kyle Phillips return for 27 yds for a TD, (Brent Cimaglia KICK)\n",
            "ALA  ###  (5:17 - 3rd) Paxton Brooks kickoff for 58 yds , Brian Robinson Jr. return for 23 yds to the Alab 30\n",
            "ALA  ###  (5:00 - 3rd) Jalen Hurts pass complete to Henry Ruggs III for 12 yds to the Alab 42 for a 1ST down\n",
            "ALA  ###  (4:30 - 3rd) Najee Harris run for 3 yds to the Alab 45\n",
            "ALA  ###  (4:05 - 3rd) Najee Harris run for 10 yds to the Tenn 45 for a 1ST down\n",
            "ALA  ###  (3:40 - 3rd) Najee Harris run for 14 yds to the Tenn 31 for a 1ST down\n",
            "ALA  ###  (3:10 - 3rd) Najee Harris run for 6 yds to the Tenn 25\n",
            "ALA  ###  (2:35 - 3rd) Najee Harris run for 7 yds to the Tenn 18 for a 1ST down\n",
            "ALA  ###  (1:55 - 3rd) Najee Harris run for a loss of 3 yards to the Tenn 21\n",
            "ALA  ###  (1:03 - 3rd) Jalen Hurts run for 21 yds for a TD, (Joseph Bulovas KICK)\n",
            "TENN  ###  (1:03 - 3rd) Joseph Bulovas kickoff for 59 yds for a touchback\n",
            "TENN  ###  (0:53 - 3rd) Tim Jordan run for 11 yds to the Tenn 36 for a 1ST down\n",
            "TENN  ###  (0:22 - 3rd) Tim Jordan run for 6 yds to the Tenn 42\n",
            "TENN  ###  End of 3rd Quarter\n",
            "TENN  ###  (14:55 - 4th) Tim Jordan run for a loss of 1 yard to the Tenn 41\n",
            "TENN  ###  (14:11 - 4th) Keller Chryst pass incomplete to Brandon Johnson\n",
            "TENN  ###  (14:04 - 4th) Joe Doyle punt for 35 yds, fair catch by Jaylen Waddle at the Alab 24\n",
            "ALA  ###  (14:00 - 4th) Brian Robinson Jr. run for 1 yd to the Alab 25\n",
            "ALA  ###  (13:20 - 4th) Brian Robinson Jr. run for 13 yds to the Alab 38 for a 1ST down\n",
            "ALA  ###  (12:35 - 4th) Brian Robinson Jr. run for 5 yds to the Alab 43\n",
            "ALA  ###  (11:50 - 4th) Jalen Hurts pass complete to Derek Kief for 9 yds to the Tenn 48 for a 1ST down\n",
            "ALA  ###  (11:00 - 4th) Brian Robinson Jr. run for 5 yds to the Tenn 43\n",
            "ALA  ###  (10:13 - 4th) Brian Robinson Jr. run for 20 yds to the Tenn 23 for a 1ST down\n",
            "ALA  ###  (9:30 - 4th) Brian Robinson Jr. run for a loss of 1 yard to the Tenn 24\n",
            "ALA  ###  (8:40 - 4th) Brian Robinson Jr. run for no gain to the Tenn 24\n",
            "ALA  ###  (8:00 - 4th) Brian Robinson Jr. run for 8 yds to the Tenn 16\n",
            "ALA  ###  (7:15 - 4th) Brian Robinson Jr. run for 4 yds to the Tenn 12 for a 1ST down\n",
            "ALA  ###  (6:35 - 4th) Brian Robinson Jr. run for a loss of 2 yards to the Tenn 14\n",
            "ALA  ###  (5:55 - 4th) Brian Robinson Jr. run for a loss of 2 yards to the Tenn 16\n",
            "ALA  ###  (5:15 - 4th) Brian Robinson Jr. run for 9 yds to the Tenn 7\n",
            "ALA  ###  (4:32 - 4th) Brian Robinson Jr. run for no gain to the Tenn 7\n",
            "TENN  ###  (4:25 - 4th) Tim Jordan run for 7 yds to the Tenn 14\n",
            "TENN  ###  (3:38 - 4th) Tim Jordan run for 6 yds to the Tenn 20 for a 1ST down\n",
            "TENN  ###  (3:07 - 4th) Tim Jordan run for 3 yds to the Tenn 23\n",
            "TENN  ###  (2:12 - 4th) Tim Jordan run for 1 yd to the Tenn 24\n",
            "TENN  ###  (1:36 - 4th) Tim Jordan run for 3 yds to the Tenn 27\n",
            "TENN  ###  (1:01 - 4th) Joe Doyle punt for 43 yds, downed at the Alab 30\n",
            "ALA  ###  (1:00 - 4th) TEAM run for no gain to the Alab 30\n",
            "ALA  ###  (0:30 - 4th) TEAM run for a loss of 2 yards to the Alab 28\n",
            "ALA  ###  End of 4th Quarter\n"
          ],
          "name": "stdout"
        }
      ]
    },
    {
      "cell_type": "code",
      "metadata": {
        "id": "dLx3itDkfA7k",
        "colab_type": "code",
        "outputId": "aa9ff93f-903a-4ffe-e36e-69f9e71f3d88",
        "colab": {
          "base_uri": "https://localhost:8080/",
          "height": 87
        }
      },
      "source": [
        "import statistics\n",
        "import matplotlib.pyplot as plt\n",
        "\n",
        "#2017 Stats\n",
        "passing_17 = data2017[(data2017.playtype=='pass')&(data2017.curteam=='TENN')]\n",
        "p_gains17 = passing_17.gain\n",
        "avg_p_gains17 = statistics.mean(p_gains17)\n",
        "print(\"Average Passing Gains 2017: \", avg_p_gains17)\n",
        "running_17 = data2017[(data2017.playtype=='run')&(data2017.curteam=='TENN')]\n",
        "r_gains17 = running_17.gain\n",
        "avg_r_gains17 = statistics.mean(r_gains17)\n",
        "print(\"Average Running Gains 2017: \", avg_r_gains17)\n",
        "\n",
        "#2018 Stats\n",
        "passing_18 = data2018[(data2018.playtype=='pass')&(data2018.curteam=='TENN')]\n",
        "p_gains18 = passing_18.gain\n",
        "avg_p_gains18 = statistics.mean(p_gains18)\n",
        "print(\"Average Passing Gains 2018: \", avg_p_gains18)\n",
        "running_18 = data2018[(data2018.playtype=='run')&(data2018.curteam=='TENN')]\n",
        "r_gains18 = running_18.gain\n",
        "avg_r_gains18 = statistics.mean(r_gains18)\n",
        "print(\"Average Running Gains 2018: \", avg_r_gains18)"
      ],
      "execution_count": 0,
      "outputs": [
        {
          "output_type": "stream",
          "text": [
            "Average Passing Gains 2017:  5.822485207100592\n",
            "Average Running Gains 2017:  4.690322580645161\n",
            "Average Passing Gains 2018:  8.547619047619047\n",
            "Average Running Gains 2018:  4.090909090909091\n"
          ],
          "name": "stdout"
        }
      ]
    },
    {
      "cell_type": "code",
      "metadata": {
        "id": "67TNcajRBrou",
        "colab_type": "code",
        "outputId": "1246178a-87f5-449c-d73a-f3a2be1c0808",
        "colab": {
          "base_uri": "https://localhost:8080/",
          "height": 297
        }
      },
      "source": [
        "#Passing Yards Bar Plot\n",
        "plt.hist([p_gains17, p_gains18], label=['Passing Yard Gains 2017', 'Passing Yard Gains 2018'])\n",
        "plt.xlabel('Gained Yds')\n",
        "plt.ylabel('Times')\n",
        "plt.legend()"
      ],
      "execution_count": 0,
      "outputs": [
        {
          "output_type": "execute_result",
          "data": {
            "text/plain": [
              "<matplotlib.legend.Legend at 0x7f449a180588>"
            ]
          },
          "metadata": {
            "tags": []
          },
          "execution_count": 143
        },
        {
          "output_type": "display_data",
          "data": {
            "image/png": "[encoded data removed]",
            "text/plain": [
              "<Figure size 432x288 with 1 Axes>"
            ]
          },
          "metadata": {
            "tags": []
          }
        }
      ]
    },
    {
      "cell_type": "code",
      "metadata": {
        "id": "gMfbIOhiEnZ1",
        "colab_type": "code",
        "outputId": "165ce1a9-0656-44f3-a329-3e6420b36b59",
        "colab": {
          "base_uri": "https://localhost:8080/",
          "height": 297
        }
      },
      "source": [
        "#Running Yards Bar Plot\n",
        "plt.hist([r_gains17, r_gains18], label=['Running Yard Gains 2017', 'Running Yard Gains 2018'])\n",
        "plt.xlabel('Gained Yds')\n",
        "plt.ylabel('Times')\n",
        "plt.legend()"
      ],
      "execution_count": 0,
      "outputs": [
        {
          "output_type": "execute_result",
          "data": {
            "text/plain": [
              "<matplotlib.legend.Legend at 0x7f449a119be0>"
            ]
          },
          "metadata": {
            "tags": []
          },
          "execution_count": 144
        },
        {
          "output_type": "display_data",
          "data": {
            "image/png": "[encoded data removed]",
            "text/plain": [
              "<Figure size 432x288 with 1 Axes>"
            ]
          },
          "metadata": {
            "tags": []
          }
        }
      ]
    },
    {
      "cell_type": "code",
      "metadata": {
        "id": "hPE3IEhu0uzb",
        "colab_type": "code",
        "outputId": "f9bf1ee7-0585-4a95-ed48-7ab503fed6b7",
        "colab": {
          "base_uri": "https://localhost:8080/",
          "height": 265
        }
      },
      "source": [
        "#Box Plot for Passing Yards\n",
        "_ = plt.boxplot([p_gains17, p_gains18], labels = [\"Passing Gains in 2017\", \"Passing Gains in 2018\"])"
      ],
      "execution_count": 0,
      "outputs": [
        {
          "output_type": "display_data",
          "data": {
            "image/png": "[encoded data removed]",
            "text/plain": [
              "<Figure size 432x288 with 1 Axes>"
            ]
          },
          "metadata": {
            "tags": []
          }
        }
      ]
    },
    {
      "cell_type": "code",
      "metadata": {
        "id": "mM-6KjJ91MaD",
        "colab_type": "code",
        "outputId": "725d314c-8c80-4be8-ff93-7128720ed162",
        "colab": {
          "base_uri": "https://localhost:8080/",
          "height": 265
        }
      },
      "source": [
        "#Box Plot for Running Yards\n",
        "_ = plt.boxplot([r_gains17, r_gains18], labels = [\"Running Gains in 2017\", \"Running Gains in 2018\"])"
      ],
      "execution_count": 0,
      "outputs": [
        {
          "output_type": "display_data",
          "data": {
            "image/png": "[encoded data removed]",
            "text/plain": [
              "<Figure size 432x288 with 1 Axes>"
            ]
          },
          "metadata": {
            "tags": []
          }
        }
      ]
    },
    {
      "cell_type": "code",
      "metadata": {
        "id": "TtkdK2QZ4fsk",
        "colab_type": "code",
        "outputId": "35f1b857-d813-47ee-8972-de523fe29f0d",
        "colab": {
          "base_uri": "https://localhost:8080/",
          "height": 35
        }
      },
      "source": [
        "#Testing for Normality - Passing Yards in 2017\n",
        "p17_std_dev = p_gains17.std(ddof=1)\n",
        "p17_variance = (p17_std_dev)*2\n",
        "p17_size = 169\n",
        "p17_scale = (p17_variance)/(p17_size)\n",
        "p17_normal = norm(loc = avg_p_gains17, scale = p17_scale)\n",
        "p17_smpl = p17_normal.rvs(20)\n",
        "shapiro(p17_smpl)"
      ],
      "execution_count": 0,
      "outputs": [
        {
          "output_type": "execute_result",
          "data": {
            "text/plain": [
              "(0.9825936555862427, 0.9630292057991028)"
            ]
          },
          "metadata": {
            "tags": []
          },
          "execution_count": 123
        }
      ]
    },
    {
      "cell_type": "code",
      "metadata": {
        "id": "IEniJHvN6lyO",
        "colab_type": "code",
        "outputId": "eb38c22a-b5d2-4039-fb7d-4cc47fc4d606",
        "colab": {
          "base_uri": "https://localhost:8080/",
          "height": 35
        }
      },
      "source": [
        "#Testing for Normality - Passing Yards in 2018\n",
        "p18_std_dev = p_gains18.std(ddof=1)\n",
        "p18_variance = (p18_std_dev)*2\n",
        "p18_size = 210\n",
        "p18_scale = (p18_variance)/(p18_size)\n",
        "p18_normal = norm(loc = avg_p_gains18, scale = p18_scale)\n",
        "p18_smpl = p18_normal.rvs(20)\n",
        "shapiro(p18_smpl)"
      ],
      "execution_count": 0,
      "outputs": [
        {
          "output_type": "execute_result",
          "data": {
            "text/plain": [
              "(0.9710792899131775, 0.7774919271469116)"
            ]
          },
          "metadata": {
            "tags": []
          },
          "execution_count": 125
        }
      ]
    },
    {
      "cell_type": "code",
      "metadata": {
        "id": "pQamrIes7edv",
        "colab_type": "code",
        "outputId": "a9ec4d36-4719-408d-db75-940ec29428ce",
        "colab": {
          "base_uri": "https://localhost:8080/",
          "height": 35
        }
      },
      "source": [
        "#Testing for Normality - Running Yards in 2017\n",
        "r17_std_dev = r_gains17.std(ddof=1)\n",
        "r17_variance = (r17_std_dev)*2\n",
        "r17_size = 155\n",
        "r17_scale = (r17_variance)/(r17_size)\n",
        "r17_normal = norm(loc = avg_r_gains17, scale = r17_scale)\n",
        "r17_smpl = r17_normal.rvs(20)\n",
        "shapiro(r17_smpl)"
      ],
      "execution_count": 0,
      "outputs": [
        {
          "output_type": "execute_result",
          "data": {
            "text/plain": [
              "(0.9750983715057373, 0.8566283583641052)"
            ]
          },
          "metadata": {
            "tags": []
          },
          "execution_count": 126
        }
      ]
    },
    {
      "cell_type": "code",
      "metadata": {
        "id": "QSZgX1OI9XtO",
        "colab_type": "code",
        "outputId": "81f30ad1-2d89-4445-a38d-d2e07d328650",
        "colab": {
          "base_uri": "https://localhost:8080/",
          "height": 35
        }
      },
      "source": [
        "#Testing for Normality - Running Yards in 2018\n",
        "r18_std_dev = r_gains18.std(ddof=1)\n",
        "r18_variance = (r18_std_dev)*2\n",
        "r18_size = 297\n",
        "r18_scale = (r18_variance)/(r18_size)\n",
        "r18_normal = norm(loc = avg_r_gains18, scale = r18_scale)\n",
        "r18_smpl = r18_normal.rvs(20)\n",
        "shapiro(r18_smpl)"
      ],
      "execution_count": 0,
      "outputs": [
        {
          "output_type": "execute_result",
          "data": {
            "text/plain": [
              "(0.9738922715187073, 0.8339697122573853)"
            ]
          },
          "metadata": {
            "tags": []
          },
          "execution_count": 132
        }
      ]
    },
    {
      "cell_type": "code",
      "metadata": {
        "id": "A5zxy3R49wCf",
        "colab_type": "code",
        "outputId": "6079725f-f90c-4fe2-9a7f-bc405d6376a4",
        "colab": {
          "base_uri": "https://localhost:8080/",
          "height": 295
        }
      },
      "source": [
        "#Passing Yards 2017 Probability Plot\n",
        "_ = probplot(p17_smpl, plot=plt, dist=norm)"
      ],
      "execution_count": 0,
      "outputs": [
        {
          "output_type": "display_data",
          "data": {
            "image/png": "[encoded data removed]",
            "text/plain": [
              "<Figure size 432x288 with 1 Axes>"
            ]
          },
          "metadata": {
            "tags": []
          }
        }
      ]
    },
    {
      "cell_type": "code",
      "metadata": {
        "id": "ZWCnuypP-NSc",
        "colab_type": "code",
        "outputId": "3f884780-e289-4237-ff16-acada890c692",
        "colab": {
          "base_uri": "https://localhost:8080/",
          "height": 295
        }
      },
      "source": [
        "#Passing Yards 2018 Prob Plot\n",
        "_ = probplot(p18_smpl, plot=plt, dist=norm)"
      ],
      "execution_count": 0,
      "outputs": [
        {
          "output_type": "display_data",
          "data": {
            "image/png": "[encoded data removed]",
            "text/plain": [
              "<Figure size 432x288 with 1 Axes>"
            ]
          },
          "metadata": {
            "tags": []
          }
        }
      ]
    },
    {
      "cell_type": "code",
      "metadata": {
        "id": "Sc6eVW9x-Wez",
        "colab_type": "code",
        "outputId": "322ca1bc-2a8b-4e6e-bdb7-a0728113b299",
        "colab": {
          "base_uri": "https://localhost:8080/",
          "height": 295
        }
      },
      "source": [
        "#Running Yards 2017 Prob Plot\n",
        "_ = probplot(r17_smpl, plot=plt, dist=norm)"
      ],
      "execution_count": 0,
      "outputs": [
        {
          "output_type": "display_data",
          "data": {
            "image/png": "[encoded data removed]",
            "text/plain": [
              "<Figure size 432x288 with 1 Axes>"
            ]
          },
          "metadata": {
            "tags": []
          }
        }
      ]
    },
    {
      "cell_type": "code",
      "metadata": {
        "id": "rnVKCY74-bzF",
        "colab_type": "code",
        "outputId": "1ba66d4a-0846-4aa0-ae9e-678be20af7e9",
        "colab": {
          "base_uri": "https://localhost:8080/",
          "height": 295
        }
      },
      "source": [
        "#Running Yards 2018 Prob Plot\n",
        "_ = probplot(r18_smpl, plot=plt, dist=norm)"
      ],
      "execution_count": 0,
      "outputs": [
        {
          "output_type": "display_data",
          "data": {
            "image/png": "[encoded data removed]",
            "text/plain": [
              "<Figure size 432x288 with 1 Axes>"
            ]
          },
          "metadata": {
            "tags": []
          }
        }
      ]
    },
    {
      "cell_type": "markdown",
      "metadata": {
        "id": "jAfwCXaJiz2i",
        "colab_type": "text"
      },
      "source": [
        "T-Test"
      ]
    },
    {
      "cell_type": "code",
      "metadata": {
        "id": "dl7jx3ajVGGB",
        "colab_type": "code",
        "outputId": "eaa66633-4136-4141-c789-0d7859aa41de",
        "colab": {
          "base_uri": "https://localhost:8080/",
          "height": 52
        }
      },
      "source": [
        "from scipy.stats import ttest_ind\n",
        "passing_ttest = ttest_ind(p_gains17, p_gains18, equal_var=False).pvalue\n",
        "running_ttest = ttest_ind(r_gains17, r_gains18, equal_var=False).pvalue\n",
        "print(\"Passing t-test pval: \", passing_ttest)\n",
        "print(\"Running t-test pval: \", running_ttest)"
      ],
      "execution_count": 0,
      "outputs": [
        {
          "output_type": "stream",
          "text": [
            "Passing t-test pval:  0.02541032931235878\n",
            "Running t-test pval:  0.3811868926612193\n"
          ],
          "name": "stdout"
        }
      ]
    },
    {
      "cell_type": "markdown",
      "metadata": {
        "id": "uOrhi29givH2",
        "colab_type": "text"
      },
      "source": [
        "Permutation Test"
      ]
    },
    {
      "cell_type": "code",
      "metadata": {
        "id": "xupuOxxTbvfO",
        "colab_type": "code",
        "outputId": "333a6fb9-de84-4661-9d37-69aed91d6502",
        "colab": {
          "base_uri": "https://localhost:8080/",
          "height": 35
        }
      },
      "source": [
        "from numpy.random import shuffle\n",
        "np.mean(p_gains17)\n",
        "np.mean(p_gains18)\n",
        "total_passing = np.append(p_gains17, p_gains18)\n",
        "len(total_passing)"
      ],
      "execution_count": 0,
      "outputs": [
        {
          "output_type": "execute_result",
          "data": {
            "text/plain": [
              "379"
            ]
          },
          "metadata": {
            "tags": []
          },
          "execution_count": 160
        }
      ]
    },
    {
      "cell_type": "code",
      "metadata": {
        "id": "UEWWYvsHi3FF",
        "colab_type": "code",
        "outputId": "386e66ba-e824-4298-8f59-8d809ace2c42",
        "colab": {
          "base_uri": "https://localhost:8080/",
          "height": 69
        }
      },
      "source": [
        "diff = np.array([])\n",
        "ntrials = 1000\n",
        "\n",
        "for n in range(ntrials):\n",
        "    shuffle(total_passing)    \n",
        "    A = total_passing[:len(p_gains17)] \n",
        "    B = total_passing[len(p_gains17):] \n",
        "    mean1 = np.mean(A)\n",
        "    mean2 = np.mean(B)    \n",
        "    diff=np.append(diff,mean1-mean2)\n",
        "\n",
        "diff[:15]"
      ],
      "execution_count": 0,
      "outputs": [
        {
          "output_type": "execute_result",
          "data": {
            "text/plain": [
              "array([ 0.19025077, -2.59698507, -3.59013807, -2.08438997,  2.88137504,\n",
              "        0.78827839, -0.49320935,  1.92025923,  0.17957171, -0.27962806,\n",
              "       -1.34753452, -0.65339532, -0.76018597,  0.91642716,  2.59304029])"
            ]
          },
          "metadata": {
            "tags": []
          },
          "execution_count": 168
        }
      ]
    },
    {
      "cell_type": "code",
      "metadata": {
        "id": "YXclgkHCkIr9",
        "colab_type": "code",
        "outputId": "24adacff-16ac-4fba-d88b-7de2c905164f",
        "colab": {
          "base_uri": "https://localhost:8080/",
          "height": 266
        }
      },
      "source": [
        "_=plt.hist(diff,rwidth=0.9,bins='auto',density=True)"
      ],
      "execution_count": 0,
      "outputs": [
        {
          "output_type": "display_data",
          "data": {
            "image/png": "[encoded data removed]",
            "text/plain": [
              "<Figure size 432x288 with 1 Axes>"
            ]
          },
          "metadata": {
            "tags": []
          }
        }
      ]
    },
    {
      "cell_type": "code",
      "metadata": {
        "id": "vVjIXXPrkZlh",
        "colab_type": "code",
        "outputId": "c32b5f2f-27ea-45f6-8048-c00aeeee6097",
        "colab": {
          "base_uri": "https://localhost:8080/",
          "height": 35
        }
      },
      "source": [
        "np.mean(p_gains17) - np.mean(p_gains18)"
      ],
      "execution_count": 0,
      "outputs": [
        {
          "output_type": "execute_result",
          "data": {
            "text/plain": [
              "-2.7251338405184553"
            ]
          },
          "metadata": {
            "tags": []
          },
          "execution_count": 170
        }
      ]
    },
    {
      "cell_type": "markdown",
      "metadata": {
        "id": "n_f-I2qLmK8u",
        "colab_type": "text"
      },
      "source": [
        "Conclusion:\n",
        "\n",
        "> In 2018, UT improved in passing gains and increased it's average running gains. 2018 brought high outliers in passing gains, therefore increasing the passing average. Although there were many high outliers for our running plays, unfortunately the average remained the same. The passing gains improved the most compared to the running gains between 2017 and 2018. Let's hope we make big improvements in Fall 2020! Go Vols!"
      ]
    },
    {
      "cell_type": "markdown",
      "metadata": {
        "id": "Gu4P6FwLEwl8",
        "colab_type": "text"
      },
      "source": [
        "# 4. Counting\n",
        "\n",
        "Antonin Dvorak is a Czech composer of 9 symphonies. Pyotr Tchaikovsky is a Russian composer of 7 symphonies.\n",
        "\n",
        "- a. If a radio station announcer wants to play all 16 symphonies once, in how many ways can this be done.\n",
        "- b. If a radio station announcer only wants to play exactly two symphonies – first a Dvorak symphony and then a Tchaikovsky symphony – in how many ways can this be done?\n",
        "- c. If a radio station announcer randomly selects 3 symphonies out of 16 (equally probably), what is the probability that exactly 2 of the selected symphonies belong to Dvorak?\n",
        "- d. If a radio station announcer randomly selects 3 symphonies out of 16 (equally probably), what is the probability that all three of the selected symphonies have the same author?"
      ]
    },
    {
      "cell_type": "code",
      "metadata": {
        "id": "mvQWI5t_5-Uo",
        "colab_type": "code",
        "outputId": "9764c31c-2a68-4840-e1be-6cc404f30b2e",
        "colab": {
          "base_uri": "https://localhost:8080/",
          "height": 35
        }
      },
      "source": [
        "a = 16*15*14*13*12*11*10*9*8*7*6*5*4*3*2\n",
        "a"
      ],
      "execution_count": 0,
      "outputs": [
        {
          "output_type": "execute_result",
          "data": {
            "text/plain": [
              "20922789888000"
            ]
          },
          "metadata": {
            "tags": []
          },
          "execution_count": 121
        }
      ]
    },
    {
      "cell_type": "code",
      "metadata": {
        "id": "BP70w8Uy6PCj",
        "colab_type": "code",
        "outputId": "d673751e-2a60-40d4-8f83-86e21fe20852",
        "colab": {
          "base_uri": "https://localhost:8080/",
          "height": 35
        }
      },
      "source": [
        "b = 9*7\n",
        "b"
      ],
      "execution_count": 0,
      "outputs": [
        {
          "output_type": "execute_result",
          "data": {
            "text/plain": [
              "63"
            ]
          },
          "metadata": {
            "tags": []
          },
          "execution_count": 122
        }
      ]
    },
    {
      "cell_type": "code",
      "metadata": {
        "id": "qaa1Hbn56WXM",
        "colab_type": "code",
        "outputId": "4f79c090-e032-4a37-fe0d-b5e7d440dffe",
        "colab": {
          "base_uri": "https://localhost:8080/",
          "height": 35
        }
      },
      "source": [
        "c = (36*7)/560\n",
        "c"
      ],
      "execution_count": 0,
      "outputs": [
        {
          "output_type": "execute_result",
          "data": {
            "text/plain": [
              "0.45"
            ]
          },
          "metadata": {
            "tags": []
          },
          "execution_count": 123
        }
      ]
    },
    {
      "cell_type": "code",
      "metadata": {
        "id": "we099_wu6-uY",
        "colab_type": "code",
        "outputId": "8b7a370d-3d4e-404b-dd16-0acaff842999",
        "colab": {
          "base_uri": "https://localhost:8080/",
          "height": 35
        }
      },
      "source": [
        "d = (84+35)/560\n",
        "d"
      ],
      "execution_count": 0,
      "outputs": [
        {
          "output_type": "execute_result",
          "data": {
            "text/plain": [
              "0.2125"
            ]
          },
          "metadata": {
            "tags": []
          },
          "execution_count": 124
        }
      ]
    }
  ]
}